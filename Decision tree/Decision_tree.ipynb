{
 "cells": [
  {
   "cell_type": "markdown",
   "metadata": {},
   "source": [
    "## Application Flow \n",
    "Decision Tree is one of the most fundamental algorithms for classification and regression in the Machine Learning world.\n",
    "\n",
    "But before proceeding with the algorithm, let’s first discuss the lifecycle of any machine learning model. This diagram explains the creation of a Machine Learning model from scratch and then taking the same model further with hyperparameter tuning to increase its accuracy, deciding the deployment strategies for that model and once deployed setting up the logging and monitoring frameworks to generate reports and dashboards based on the client requirements. \n",
    "A typical lifecycle diagram for a machine learning model looks like:\n",
    "\n",
    "<img src=\"MLApplicationFlow.PNG\" width= \"300\">"
   ]
  },
  {
   "cell_type": "markdown",
   "metadata": {},
   "source": [
    "## Decision Tree\n",
    "\n",
    "Decision tree algorithm is one of the most versatile algorithms in machine learning which can perform both classification and regression analysis. It is very powerful and works great with complex datasets. Apart from that, it is very easy to understand and read. That makes it more popular to use. When coupled with ensemble techniques – which we will learn very soon- it performs even better.\n",
    "As the name suggests, this algorithm works by dividing the whole dataset into a tree-like structure based on some rules and conditions and then gives prediction based on those conditions.\n",
    "Let’s understand the approach to decision tree with a basic scenario. \n",
    "Suppose it’s Friday night and you are not able to decide if you should go out or stay at home. Let the decision tree decide it for you.\n",
    "\n",
    "\n",
    "<img src=\"Decision_tree1.PNG\" width=\"300\">\n",
    "                         \n",
    "Although we may or may not use the decision tree for such decisions, this was a basic example to help you understand how a decision tree makes a decision.\n",
    "So how did it work?\n",
    "*\tIt selects a root node based on a given condition, e.g. our root node was chosen as time >10 pm.\n",
    "*\tThen, the root node was split into child notes based on the given condition. The right child node in the above figure fulfilled the condition, so no more questions were asked.\n",
    "*\tThe left child node didn’t fulfil the condition, so again it was split based on a new condition.\n",
    "*\tThis process continues till all the conditions are met or if you have predefined the depth of your tree, e.g. the depth of our tree is 3, and it reached there when all the conditions were exhausted.\n",
    "\n",
    "Let’s see how the parent nodes and condition is chosen for the splitting to work.\n",
    "\n",
    "#### Decision Tree for Regression\n",
    "When performing regression with a decision tree, we try to divide the given values of X into distinct and non-overlapping regions, e.g. for a set of possible values X1, X2,..., Xp; we will try to divide them into J distinct and non-overlapping regions R1, R2, . . . , RJ.\n",
    "For a given observation falling into the region Rj, the prediction is equal to the mean of the response(y) values for each training observations(x) in the region Rj. \n",
    "The regions R1,R2, . . . , RJ  are selected in a way to reduce the following sum of squares of residuals :\n",
    "\n",
    "\n",
    "<img src=\"formula1.PNG\" width=\"300\">\n",
    "                                                        \n",
    "Where, yrj (second term) is the mean of all the response variables in the region ‘j’.\n",
    "\n",
    "\n",
    "\n",
    "#### Recursive binary splitting(Greedy approach)\n",
    "As mentioned above, we try to divide the X values into j regions, but it is very expensive in terms of computational time to try to fit every set of X values into j regions. Thus, decision tree opts for a top-down greedy approach in which nodes are divided into two regions based on the given condition, i.e. not every node will be split but the ones which satisfy the condition are split into two branches. It is called greedy because it does the best split at a given step at that point of time rather than looking for splitting a step for a better tree in upcoming steps. It decides a threshold value(say s) to divide the observations into different regions(j) such that the RSS for Xj>= s and Xj <s is minimum.\n",
    "\n",
    "\n",
    "<img src=\"formula2.PNG\" width=\"400\">\n",
    "                      \n",
    "Here for the above equation, j and s are found such that this equation has the minimum value.\n",
    "The regions R1, R2 are selected based on that value of s and j such that the equation above has the minimum value.\n",
    "Similarly, more regions are split out of the regions created above based on some condition with the same logic. This continues until a stopping criterion (predefined) is achieved.\n",
    "Once all the regions are split, the prediction is made based on the mean of observations in that region.\n",
    "\n",
    "The process mentioned above has a high chance of overfitting the training data as it will be very complex. \n",
    "\n",
    "#### Tree Pruning\n",
    "Tree pruning is the method of trimming down a full tree (obtained through the above process) to reduce the complexity and variance in the data. Just as we regularised linear regression, we can also regularise the decision tree model by adding a new term. \n",
    "\n",
    "\n",
    "<img src=\"formula3.PNG\" width=\"300\">\n",
    "                                       \n",
    "Where, T  is the subtree which is a subset of the full tree T0\n",
    "And α is the non-negative tuning parameter which penalises the MSE with an increase in tree length.\n",
    "By using cross-validation, such values of α and T are selected for which our model gives the lowest test error rate.\n",
    "This is how the decision tree regression model works. Let’s now see the working algorithm of doing classification using a decision tree.\n",
    "Greedy Algorithm\n",
    "As per Hands-on machine learning book “greedy algorithm greedily searches for an optimum split at the top level, then repeats the process at each level. It does not check whether or not the split will lead to the lowest possible impurity several levels down. A greedy algorithm often produces a reasonably good solution, but it is not guaranteed to be the optimal solution.”\n",
    "\n",
    "\n",
    "#### Post-pruning\n",
    "\n",
    "Post-pruning, also known as backward pruning, is the process where the decision tree is generated first and then the non-significant branches are removed. Cross-validation set of data is used to check the effect of pruning and tests whether expanding a node will make an improvement or not. If any improvement is there then we continue by expanding that node else if there is reduction in accuracy then the node not be expanded and should be converted in a leaf node.\n",
    "\n",
    "\n",
    "#### Pre-pruning\n",
    "\n",
    "Pre-pruning, also known as forward pruning, stops the non-significant branches from generating. It uses a condition to decide when should it terminate splitting of some of the branches prematurely as the tree is generated. \n",
    "\n",
    "\n",
    "### Classification Trees\n",
    "\n",
    "Regression trees are used for quantitative data. In the case of qualitative data or categorical data, we use classification trees.  In regression trees, we split the nodes based on RSS criteria, but in classification, it is done using classification error rate, Gini impurity and entropy.\n",
    "Let’s understand these terms in detail.\n",
    "\n",
    "#### Entropy\n",
    "Entropy is the measure of randomness in the data. In other words, it gives the impurity present in the dataset.\n",
    "\n",
    "<img src=\"entropy.PNG\" width=\"300\">\n",
    "                                           \n",
    "When we split our nodes into two regions and put different observations in both the regions, the main goal is to reduce the entropy i.e. reduce the randomness in the region and divide our data cleanly than it was in the previous node. If splitting the node doesn’t lead into entropy reduction, we try to split based on a different condition, or we stop. \n",
    "A region is clean (low entropy) when it contains data with the same labels and random if there is a mixture of labels present (high entropy).\n",
    "Let’s suppose there are ‘m’ observations and we need to classify them into categories 1 and 2.\n",
    "Let’s say that category 1 has ‘n’ observations and category 2 has ‘m-n’ observations.\n",
    "\n",
    "p= n/m  and    q = m-n/m = 1-p\n",
    "\n",
    "then, entropy for the given set is:\n",
    "\n",
    "\n",
    "          E = -p*log2(p) – q*log2(q) \n",
    "           \n",
    "           \n",
    "When all the observations belong to category 1, then p = 1 and all observations belong to category 2, then p =0, int both cases E =0, as there is no randomness in the categories.\n",
    "If half of the observations are in category 1 and another half in category 2, then p =1/2 and q =1/2, and the entropy is maximum, E =1.\n",
    "\n",
    "\n",
    "<img src=\"entropy1.PNG\" width=\"300\">\n",
    "                                  \n",
    "\n",
    "#### Information Gain\n",
    "Information gain calculates the decrease in entropy after splitting a node. It is the difference between entropies before and after the split. The more the information gain, the more entropy is removed. \n",
    "\n",
    "<img src=\"info_gain.PNG\" width=\"300\">\n",
    "\n",
    "                                 \n",
    "Where, T is the parent node before split and X is the split node from T.\n",
    "\n",
    "A tree which is splitted on basis of entropy and information gain value looks like:\n",
    "\n",
    "<img src=\"entropy_tree.PNG\" width=\"900\">\n",
    "\n",
    "#### Ginni Impurity\n",
    "According to wikipedia, ‘Gini impurity is a measure of how often a randomly chosen element from the set would be incorrectly labelled if it was randomly labelled according to the distribution of labels in the subset.’\n",
    "It is calculated by multiplying the probability that a given observation is classified into the correct class and sum of all the probabilities when that particular observation is classified into the wrong class.\n",
    "Let’s suppose there are k number of classes and an observation belongs to the class ‘i’, then Ginni impurity is given as:\n",
    "\n",
    "<img src=\"ginni.PNG\" width=\"300\">\n",
    "                                    \n",
    "Ginni impurity value lies between 0 and 1, 0 being no impurity and 1 denoting random distribution.\n",
    "The node for which the Ginni impurity is least is selected as the root node to split.\n",
    "\n",
    "\n",
    "A tree which is splitted on basis of ginni impurity value looks like:\n",
    "\n",
    "<img src=\"tree_example.PNG\" width=\"900\">\n",
    "\n",
    "\n"
   ]
  },
  {
   "cell_type": "markdown",
   "metadata": {},
   "source": [
    "### Maths behind Decision Tree Classifier\n",
    "Before we see the python implementation of decision tree. let's first understand the math behind the decision tree classfication. We will see how all the above mentioned terms are used for splitting.\n",
    "\n",
    "We will use a simple dataset which contains information about students of different classes and gender and see whether they stay in school's hostel or not."
   ]
  },
  {
   "cell_type": "markdown",
   "metadata": {},
   "source": [
    "This is how our data set looks like :\n",
    "\n",
    "\n",
    "<img src='data_class.PNG' width=\"200\">"
   ]
  },
  {
   "cell_type": "markdown",
   "metadata": {},
   "source": [
    "Let's try and understand how the root node is selected by calcualting gini impurity. We will use the above mentioned data.\n",
    "\n",
    "We have two features which we can use for nodes: \"Class\" and \"Gender\".\n",
    "We will calculate gini impurity for each of the features and then select that feature which has least gini impurity.\n",
    "\n",
    "Let's review the formula for calculating ginni impurity:\n",
    "\n",
    "<img src='example/gini.PNG' width=\"200\">\n",
    "\n",
    "Let's start with class, we will try to gini impurity for all different values in \"class\". \n",
    "\n",
    "<img src='example/1.PNG' width=\"500\">\n",
    "\n",
    "<img src='example/2.PNG' width=\"500\">\n",
    "\n",
    "<img src='example/3.1.PNG' width=\"500\">\n",
    "\n",
    "<img src='example/3.PNG' width=\"500\">\n",
    "\n",
    "<img src='example/4.PNG' width=\"500\">\n",
    "\n",
    "<img src='example/5.PNG' width=\"500\">\n",
    "\n",
    "<img src='example/6.PNG' width=\"500\">\n",
    "\n",
    "<img src='example/7.PNG' width=\"500\">\n",
    "\n",
    "<img src='example/8.PNG' width=\"500\">\n",
    "\n",
    "This is how our Decision tree node is selected by calculating gini impurity for each node individually.\n",
    "If the number of feautures increases, then we just need to repeat the same steps after the selection of the root node."
   ]
  },
  {
   "cell_type": "markdown",
   "metadata": {},
   "source": [
    "We will try and find the root nodes for the same dataset by calculating entropy and information gain.\n",
    "\n",
    "DataSet:\n",
    "\n",
    "<img src='data_class.PNG' width=\"200\">\n",
    "\n",
    "We have two features and we will try to choose the root node by calculating the information gain by splitting each feature.\n",
    "\n",
    "Let' review the formula for entropy and information gain:\n",
    "\n",
    "<img src='example/formula_entropy.PNG' width=\"300\">\n",
    "\n",
    "<img src='example/inform_gain.PNG' width=\"300\">\n",
    "\n",
    "\n",
    "Let's start with feature \"class\" :\n",
    "\n",
    "<img src='example/9.PNG' width=\"500\">\n",
    "\n",
    "<img src='example/10.1.PNG' width=\"500\">\n",
    "\n",
    "<img src='example/11.PNG' width=\"500\">\n",
    "\n",
    "<img src='example/12.PNG' width=\"500\">\n",
    "\n",
    "<img src='example/13.PNG' width=\"500\">\n",
    "\n",
    "\n",
    "Let' see the information gain from feature \"gender\" :\n",
    "\n",
    "<img src='example/10.2.PNG' width=\"500\">\n",
    "\n",
    "<img src='example/14.PNG' width=\"500\">\n",
    "\n",
    "<img src='example/15.PNG' width=\"500\">\n",
    "\n",
    "<img src='example/16.PNG' width=\"500\">\n",
    "\n",
    "\n",
    "\n",
    "\n"
   ]
  },
  {
   "cell_type": "markdown",
   "metadata": {},
   "source": [
    "### Different Algorithms for Decision Tree\n",
    "\n",
    "\n",
    "* ID3 (Iterative Dichotomiser) : It is one of the algorithms used to construct decision tree for classification. It uses Information gain as the criteria for finding the root nodes and splitting them. It only accepts categorical attributes.\n",
    "\n",
    "* C4.5 : It is an extension of ID3 algorithm, and better than ID3 as it deals both continuous and discreet values.It is also used for classfication purposes.\n",
    "\n",
    "\n",
    "* Classfication and Regression Algorithm(CART) : It is the most popular algorithm used for constructing decison trees. It uses ginni impurity as the default calculation for selecting root nodes, however one can use \"entropy\" for criteria as well. This algorithm works on both regression as well as classfication problems. We will use this algorithm in our pyhton implementation. \n",
    "\n",
    "\n",
    "Entropy and Ginni impurity can be used reversibly. It doesn't affects the result much. Although, ginni is easier to compute than entropy, since entropy has a log term calculation. That's why CART algorithm uses ginni as the default algorithm.\n",
    "\n",
    "If we plot ginni vs entropy graph, we can see there is not much difference between them:\n",
    "\n",
    "<img src=\"example/entropyVsGini.PNG\" width = \"400\">\n",
    "\n"
   ]
  },
  {
   "cell_type": "markdown",
   "metadata": {},
   "source": [
    "##### Advantages of Decision Tree:\n",
    "\n",
    "   * It can be used for both Regression and Classification problems.\n",
    "   * Decision Trees are very easy to grasp as the rules of splitting is clearly mentioned.\n",
    "   * Complex decision tree models are very simple when visualized. It can be understood just by visualising.\n",
    "   * Scaling and normalization are not needed.\n",
    "\n",
    "\n",
    "##### Disadvantages of Decision Tree:\n",
    "\n",
    "\n",
    "   * A small change in data can cause instability in the model because of the greedy approach.\n",
    "   * Probability of overfitting is very high for Decision Trees.\n",
    "   * It takes more time to train a decision tree model than other classification algorithms."
   ]
  },
  {
   "cell_type": "markdown",
   "metadata": {},
   "source": [
    "# Cross-Validation\n",
    "\n",
    "Suppose you train a model on a given dataset using any specific algorithm. You tried to find the accuracy of the trained model using the same training data and found the accuracy to be 95% or maybe even 100%. What does this mean? Is your model ready for prediction? The answer is no.\n",
    "Why? Because your model has trained itself on the given data, i.e. it knows the data and it has generalized over it very well. But when you try and predict over a new set of data, it’s most likely to give you very bad accuracy, because it has never seen the data before and thus it fails to generalizes well over it. This is the problem of overfitting. \n",
    "To tackle such problem, Cross-validation comes into the picture. Cross-validation is a resampling technique with a basic idea of dividing the training dataset into two parts i.e. train and test. On one part(train) you try to train the model and on the second part(test) i.e. the data which is unseen for the model, you make the prediction and check how well your model works on it. If the model works with good accuracy on your test data, it means that the model has not overfitted the training data and can be trusted with the prediction, whereas if it performs with bad accuracy then our model is not to be trusted and we need to tweak our algorithm.\n",
    "\n",
    "\n",
    "Let’s see the different approaches of Cross-Validation:\n",
    "\n",
    "*\tHold Out Method: \n",
    "\n",
    "It is the most basic of the CV techniques. It simply divides the dataset into two sets of training and test. The training dataset is used to train the model and then test data is fitted in the trained model to make predictions. We check the accuracy and assess our model on that basis. This method is used as it is computationally less costly. But the evaluation based on the Hold-out set can have a high variance because it depends heavily on which data points end up in the training set and which in test data. The evaluation will be different every time this division changes.\n",
    "\n",
    "*\tk-fold Cross-Validation\n",
    "\n",
    "<img src=\"cv1.png\" width=\"\"> \n",
    "\n",
    " img_src:Wikipedia\n",
    "\n",
    "To tackle the high variance of Hold-out method, the k-fold method is used. The idea is simple, divide the whole dataset into ‘k’ sets preferably of equal sizes. Then the first set is selected as the test set and the rest ‘k-1’ sets are used to train the data. Error is calculated for this particular dataset.\n",
    "Then the steps are repeated, i.e. the second set is selected as the test data, and the remaining ‘k-1’ sets are used as the training data. Again, the error is calculated. Similarly, the process continues for ‘k’ times. In the end, the CV error is given as the mean of the total errors calculated individually, mathematically given as:\n",
    "\n",
    "<img src=\"cv2.png\" width=\"\"> \n",
    "                                               \n",
    "The variance in error decreases with the increase in ‘k’. The disadvantage of k-fold cv is that it is computationally expensive as the algorithm runs from scratch for ‘k’ times.\n",
    "\n",
    "*  Leave One Out Cross Validation (LOOCV)\n",
    "\n",
    "<img src=\"cv3.png\" width=\"\"> \n",
    " \n",
    "LOOCV is a special case of k-fold CV, where k becomes equal to n (number of observations). So instead of creating two subsets, it selects a single observation as a test data and rest of data as the training data. The error is calculated for this test observations. Now, the second observation is selected as test data, and the rest of the data is used as the training set. Again, the error is calculated for this particular test observation. This process continues ‘n’ times and in the end, CV error is calculated as:\n",
    "\n",
    "<img src=\"cv4.png\" width=\"\"> \n",
    "                                             \n",
    "\n",
    "### Bias Variance tradeoff for k-fold CV, LOOCV and Holdout Set CV\n",
    "\n",
    "There is a very good explanation given in the ISLR Book as given below:\n",
    "\n",
    "\n",
    "A k-fold CV with k < n has a computational advantage to LOOCV. But putting computational issues aside,\n",
    "a less obvious but potentially more important advantage of k-fold CV is that it often gives more accurate estimates of the test error rate than does LOOCV.\n",
    "The validation set approach can lead to overestimates of the test error rate since in this approach the\n",
    "the training set used to fit the statistical learning method contains only half the observations of the entire data set. Using this logic, it is not hard to see that LOOCV will give approximately unbiased estimates of the test error since each training set contains n − 1 observations, which is almost as many as the number of observations in the full data set. And performing k-fold CV for, say, k = 5 or k = 10 will lead to an intermediate level of bias since each training set contains (k − 1)n/k observations—fewer than\n",
    "in the LOOCV approach, but substantially more than in the validation set approach. Therefore, from the perspective of bias reduction, it is clear that LOOCV is to be preferred to k-fold CV. However, we know that bias is not the only source for concern in an estimating procedure; we must also consider the procedure’s variance. It turns out that LOOCV has higher variance than does k-fold CV with k < n. Why\n",
    "is this the case? When we perform LOOCV, we are in effect averaging the outputs of n fitted models, each of which is trained on an almost identical set of observations; therefore, these outputs are highly (positively) correlated with each other. In contrast, when we perform k-fold CV with k < n, we are averaging the outputs of k fitted models that are somewhat less correlated with each other since the overlap between the training sets in each model is smaller. Since the mean of many highly correlated quantities has higher variance than does the mean of many quantities that are not as highly correlated, the test error estimate resulting from LOOCV tends to have higher variance than does the test error estimate resulting from k-fold CV.\n",
    "\n",
    "\n",
    "\n",
    "\n",
    "\n",
    "\n",
    "\n",
    "\n",
    "\n",
    "\n",
    "\n",
    "\n",
    "\n",
    "\n"
   ]
  },
  {
   "cell_type": "markdown",
   "metadata": {},
   "source": [
    "### Implementation in Python\n",
    "\n",
    "we will use Sklearn module to implement decision tree algorithm. \n",
    "Sklearn uses CART (classification and Regression trees) algorithm and by default it uses Gini impurity as a criteria to split the nodes.\n",
    "\n",
    "There are other algorithms like ID3, C4.5, Chi-square etc. \n",
    "\n",
    "We will see the use of CART in following implementation."
   ]
  },
  {
   "cell_type": "code",
   "execution_count": 1,
   "metadata": {},
   "outputs": [],
   "source": [
    "import pandas as pd\n",
    "import graphviz\n",
    "from sklearn.tree import DecisionTreeClassifier, export_graphviz\n",
    "from sklearn import tree\n",
    "from sklearn.model_selection import train_test_split,GridSearchCV\n",
    "from sklearn.preprocessing import StandardScaler\n",
    "from sklearn.metrics import accuracy_score, confusion_matrix, roc_curve, roc_auc_score\n",
    "#from sklearn.externals.six import StringIO  \n",
    "from IPython.display import Image  \n",
    "from sklearn.tree import export_graphviz\n",
    "import pydotplus\n",
    "import matplotlib.pyplot as plt"
   ]
  },
  {
   "cell_type": "code",
   "execution_count": 2,
   "metadata": {},
   "outputs": [
    {
     "data": {
      "text/html": [
       "<div>\n",
       "<style scoped>\n",
       "    .dataframe tbody tr th:only-of-type {\n",
       "        vertical-align: middle;\n",
       "    }\n",
       "\n",
       "    .dataframe tbody tr th {\n",
       "        vertical-align: top;\n",
       "    }\n",
       "\n",
       "    .dataframe thead th {\n",
       "        text-align: right;\n",
       "    }\n",
       "</style>\n",
       "<table border=\"1\" class=\"dataframe\">\n",
       "  <thead>\n",
       "    <tr style=\"text-align: right;\">\n",
       "      <th></th>\n",
       "      <th>fixed acidity</th>\n",
       "      <th>volatile acidity</th>\n",
       "      <th>citric acid</th>\n",
       "      <th>residual sugar</th>\n",
       "      <th>chlorides</th>\n",
       "      <th>free sulfur dioxide</th>\n",
       "      <th>total sulfur dioxide</th>\n",
       "      <th>density</th>\n",
       "      <th>pH</th>\n",
       "      <th>sulphates</th>\n",
       "      <th>alcohol</th>\n",
       "      <th>quality</th>\n",
       "    </tr>\n",
       "  </thead>\n",
       "  <tbody>\n",
       "    <tr>\n",
       "      <th>0</th>\n",
       "      <td>7.4</td>\n",
       "      <td>0.700</td>\n",
       "      <td>0.00</td>\n",
       "      <td>1.9</td>\n",
       "      <td>0.076</td>\n",
       "      <td>11.0</td>\n",
       "      <td>34.0</td>\n",
       "      <td>0.99780</td>\n",
       "      <td>3.51</td>\n",
       "      <td>0.56</td>\n",
       "      <td>9.4</td>\n",
       "      <td>5</td>\n",
       "    </tr>\n",
       "    <tr>\n",
       "      <th>1</th>\n",
       "      <td>7.8</td>\n",
       "      <td>0.880</td>\n",
       "      <td>0.00</td>\n",
       "      <td>2.6</td>\n",
       "      <td>0.098</td>\n",
       "      <td>25.0</td>\n",
       "      <td>67.0</td>\n",
       "      <td>0.99680</td>\n",
       "      <td>3.20</td>\n",
       "      <td>0.68</td>\n",
       "      <td>9.8</td>\n",
       "      <td>5</td>\n",
       "    </tr>\n",
       "    <tr>\n",
       "      <th>2</th>\n",
       "      <td>7.8</td>\n",
       "      <td>0.760</td>\n",
       "      <td>0.04</td>\n",
       "      <td>2.3</td>\n",
       "      <td>0.092</td>\n",
       "      <td>15.0</td>\n",
       "      <td>54.0</td>\n",
       "      <td>0.99700</td>\n",
       "      <td>3.26</td>\n",
       "      <td>0.65</td>\n",
       "      <td>9.8</td>\n",
       "      <td>5</td>\n",
       "    </tr>\n",
       "    <tr>\n",
       "      <th>3</th>\n",
       "      <td>11.2</td>\n",
       "      <td>0.280</td>\n",
       "      <td>0.56</td>\n",
       "      <td>1.9</td>\n",
       "      <td>0.075</td>\n",
       "      <td>17.0</td>\n",
       "      <td>60.0</td>\n",
       "      <td>0.99800</td>\n",
       "      <td>3.16</td>\n",
       "      <td>0.58</td>\n",
       "      <td>9.8</td>\n",
       "      <td>6</td>\n",
       "    </tr>\n",
       "    <tr>\n",
       "      <th>4</th>\n",
       "      <td>7.4</td>\n",
       "      <td>0.700</td>\n",
       "      <td>0.00</td>\n",
       "      <td>1.9</td>\n",
       "      <td>0.076</td>\n",
       "      <td>11.0</td>\n",
       "      <td>34.0</td>\n",
       "      <td>0.99780</td>\n",
       "      <td>3.51</td>\n",
       "      <td>0.56</td>\n",
       "      <td>9.4</td>\n",
       "      <td>5</td>\n",
       "    </tr>\n",
       "    <tr>\n",
       "      <th>...</th>\n",
       "      <td>...</td>\n",
       "      <td>...</td>\n",
       "      <td>...</td>\n",
       "      <td>...</td>\n",
       "      <td>...</td>\n",
       "      <td>...</td>\n",
       "      <td>...</td>\n",
       "      <td>...</td>\n",
       "      <td>...</td>\n",
       "      <td>...</td>\n",
       "      <td>...</td>\n",
       "      <td>...</td>\n",
       "    </tr>\n",
       "    <tr>\n",
       "      <th>1594</th>\n",
       "      <td>6.2</td>\n",
       "      <td>0.600</td>\n",
       "      <td>0.08</td>\n",
       "      <td>2.0</td>\n",
       "      <td>0.090</td>\n",
       "      <td>32.0</td>\n",
       "      <td>44.0</td>\n",
       "      <td>0.99490</td>\n",
       "      <td>3.45</td>\n",
       "      <td>0.58</td>\n",
       "      <td>10.5</td>\n",
       "      <td>5</td>\n",
       "    </tr>\n",
       "    <tr>\n",
       "      <th>1595</th>\n",
       "      <td>5.9</td>\n",
       "      <td>0.550</td>\n",
       "      <td>0.10</td>\n",
       "      <td>2.2</td>\n",
       "      <td>0.062</td>\n",
       "      <td>39.0</td>\n",
       "      <td>51.0</td>\n",
       "      <td>0.99512</td>\n",
       "      <td>3.52</td>\n",
       "      <td>0.76</td>\n",
       "      <td>11.2</td>\n",
       "      <td>6</td>\n",
       "    </tr>\n",
       "    <tr>\n",
       "      <th>1596</th>\n",
       "      <td>6.3</td>\n",
       "      <td>0.510</td>\n",
       "      <td>0.13</td>\n",
       "      <td>2.3</td>\n",
       "      <td>0.076</td>\n",
       "      <td>29.0</td>\n",
       "      <td>40.0</td>\n",
       "      <td>0.99574</td>\n",
       "      <td>3.42</td>\n",
       "      <td>0.75</td>\n",
       "      <td>11.0</td>\n",
       "      <td>6</td>\n",
       "    </tr>\n",
       "    <tr>\n",
       "      <th>1597</th>\n",
       "      <td>5.9</td>\n",
       "      <td>0.645</td>\n",
       "      <td>0.12</td>\n",
       "      <td>2.0</td>\n",
       "      <td>0.075</td>\n",
       "      <td>32.0</td>\n",
       "      <td>44.0</td>\n",
       "      <td>0.99547</td>\n",
       "      <td>3.57</td>\n",
       "      <td>0.71</td>\n",
       "      <td>10.2</td>\n",
       "      <td>5</td>\n",
       "    </tr>\n",
       "    <tr>\n",
       "      <th>1598</th>\n",
       "      <td>6.0</td>\n",
       "      <td>0.310</td>\n",
       "      <td>0.47</td>\n",
       "      <td>3.6</td>\n",
       "      <td>0.067</td>\n",
       "      <td>18.0</td>\n",
       "      <td>42.0</td>\n",
       "      <td>0.99549</td>\n",
       "      <td>3.39</td>\n",
       "      <td>0.66</td>\n",
       "      <td>11.0</td>\n",
       "      <td>6</td>\n",
       "    </tr>\n",
       "  </tbody>\n",
       "</table>\n",
       "<p>1599 rows × 12 columns</p>\n",
       "</div>"
      ],
      "text/plain": [
       "      fixed acidity  volatile acidity  citric acid  residual sugar  chlorides  \\\n",
       "0               7.4             0.700         0.00             1.9      0.076   \n",
       "1               7.8             0.880         0.00             2.6      0.098   \n",
       "2               7.8             0.760         0.04             2.3      0.092   \n",
       "3              11.2             0.280         0.56             1.9      0.075   \n",
       "4               7.4             0.700         0.00             1.9      0.076   \n",
       "...             ...               ...          ...             ...        ...   \n",
       "1594            6.2             0.600         0.08             2.0      0.090   \n",
       "1595            5.9             0.550         0.10             2.2      0.062   \n",
       "1596            6.3             0.510         0.13             2.3      0.076   \n",
       "1597            5.9             0.645         0.12             2.0      0.075   \n",
       "1598            6.0             0.310         0.47             3.6      0.067   \n",
       "\n",
       "      free sulfur dioxide  total sulfur dioxide  density    pH  sulphates  \\\n",
       "0                    11.0                  34.0  0.99780  3.51       0.56   \n",
       "1                    25.0                  67.0  0.99680  3.20       0.68   \n",
       "2                    15.0                  54.0  0.99700  3.26       0.65   \n",
       "3                    17.0                  60.0  0.99800  3.16       0.58   \n",
       "4                    11.0                  34.0  0.99780  3.51       0.56   \n",
       "...                   ...                   ...      ...   ...        ...   \n",
       "1594                 32.0                  44.0  0.99490  3.45       0.58   \n",
       "1595                 39.0                  51.0  0.99512  3.52       0.76   \n",
       "1596                 29.0                  40.0  0.99574  3.42       0.75   \n",
       "1597                 32.0                  44.0  0.99547  3.57       0.71   \n",
       "1598                 18.0                  42.0  0.99549  3.39       0.66   \n",
       "\n",
       "      alcohol  quality  \n",
       "0         9.4        5  \n",
       "1         9.8        5  \n",
       "2         9.8        5  \n",
       "3         9.8        6  \n",
       "4         9.4        5  \n",
       "...       ...      ...  \n",
       "1594     10.5        5  \n",
       "1595     11.2        6  \n",
       "1596     11.0        6  \n",
       "1597     10.2        5  \n",
       "1598     11.0        6  \n",
       "\n",
       "[1599 rows x 12 columns]"
      ]
     },
     "execution_count": 2,
     "metadata": {},
     "output_type": "execute_result"
    }
   ],
   "source": [
    "data = pd.read_csv(\"winequality_red.csv\")\n",
    "data"
   ]
  },
  {
   "cell_type": "code",
   "execution_count": 5,
   "metadata": {},
   "outputs": [
    {
     "data": {
      "text/plain": [
       "array([5, 6, 7, 4, 8, 3], dtype=int64)"
      ]
     },
     "execution_count": 5,
     "metadata": {},
     "output_type": "execute_result"
    }
   ],
   "source": [
    "data['quality'].unique()"
   ]
  },
  {
   "cell_type": "code",
   "execution_count": 3,
   "metadata": {},
   "outputs": [
    {
     "data": {
      "text/plain": [
       "5    681\n",
       "6    638\n",
       "7    199\n",
       "4     53\n",
       "8     18\n",
       "3     10\n",
       "Name: quality, dtype: int64"
      ]
     },
     "execution_count": 3,
     "metadata": {},
     "output_type": "execute_result"
    }
   ],
   "source": [
    "data['quality'].value_counts()"
   ]
  },
  {
   "cell_type": "markdown",
   "metadata": {},
   "source": [
    "The data set consists following Input variables :\n",
    "1 - fixed acidity  2 - volatile acidity  3 - citric acid  4 - residual sugar  5 - chlorides  6 - free sulfur dioxide\n",
    "\n",
    "7 - total sulfur dioxide  8 - density  9 - pH   10 - sulphates   11 - alcohol\n",
    "\n",
    "and the Output variable gives the quality of th wine based on the input variables: \n",
    "\n",
    "12 - quality (score between 0 and 10)"
   ]
  },
  {
   "cell_type": "code",
   "execution_count": 8,
   "metadata": {},
   "outputs": [
    {
     "data": {
      "text/html": [
       "<div>\n",
       "<style scoped>\n",
       "    .dataframe tbody tr th:only-of-type {\n",
       "        vertical-align: middle;\n",
       "    }\n",
       "\n",
       "    .dataframe tbody tr th {\n",
       "        vertical-align: top;\n",
       "    }\n",
       "\n",
       "    .dataframe thead th {\n",
       "        text-align: right;\n",
       "    }\n",
       "</style>\n",
       "<table border=\"1\" class=\"dataframe\">\n",
       "  <thead>\n",
       "    <tr style=\"text-align: right;\">\n",
       "      <th></th>\n",
       "      <th>fixed acidity</th>\n",
       "      <th>volatile acidity</th>\n",
       "      <th>citric acid</th>\n",
       "      <th>residual sugar</th>\n",
       "      <th>chlorides</th>\n",
       "      <th>free sulfur dioxide</th>\n",
       "      <th>total sulfur dioxide</th>\n",
       "      <th>density</th>\n",
       "      <th>pH</th>\n",
       "      <th>sulphates</th>\n",
       "      <th>alcohol</th>\n",
       "      <th>quality</th>\n",
       "    </tr>\n",
       "  </thead>\n",
       "  <tbody>\n",
       "    <tr>\n",
       "      <th>count</th>\n",
       "      <td>1599.000000</td>\n",
       "      <td>1599.000000</td>\n",
       "      <td>1599.000000</td>\n",
       "      <td>1599.000000</td>\n",
       "      <td>1599.000000</td>\n",
       "      <td>1599.000000</td>\n",
       "      <td>1599.000000</td>\n",
       "      <td>1599.000000</td>\n",
       "      <td>1599.000000</td>\n",
       "      <td>1599.000000</td>\n",
       "      <td>1599.000000</td>\n",
       "      <td>1599.000000</td>\n",
       "    </tr>\n",
       "    <tr>\n",
       "      <th>mean</th>\n",
       "      <td>8.319637</td>\n",
       "      <td>0.527821</td>\n",
       "      <td>0.270976</td>\n",
       "      <td>2.538806</td>\n",
       "      <td>0.087467</td>\n",
       "      <td>15.874922</td>\n",
       "      <td>46.467792</td>\n",
       "      <td>0.996747</td>\n",
       "      <td>3.311113</td>\n",
       "      <td>0.658149</td>\n",
       "      <td>10.422983</td>\n",
       "      <td>5.636023</td>\n",
       "    </tr>\n",
       "    <tr>\n",
       "      <th>std</th>\n",
       "      <td>1.741096</td>\n",
       "      <td>0.179060</td>\n",
       "      <td>0.194801</td>\n",
       "      <td>1.409928</td>\n",
       "      <td>0.047065</td>\n",
       "      <td>10.460157</td>\n",
       "      <td>32.895324</td>\n",
       "      <td>0.001887</td>\n",
       "      <td>0.154386</td>\n",
       "      <td>0.169507</td>\n",
       "      <td>1.065668</td>\n",
       "      <td>0.807569</td>\n",
       "    </tr>\n",
       "    <tr>\n",
       "      <th>min</th>\n",
       "      <td>4.600000</td>\n",
       "      <td>0.120000</td>\n",
       "      <td>0.000000</td>\n",
       "      <td>0.900000</td>\n",
       "      <td>0.012000</td>\n",
       "      <td>1.000000</td>\n",
       "      <td>6.000000</td>\n",
       "      <td>0.990070</td>\n",
       "      <td>2.740000</td>\n",
       "      <td>0.330000</td>\n",
       "      <td>8.400000</td>\n",
       "      <td>3.000000</td>\n",
       "    </tr>\n",
       "    <tr>\n",
       "      <th>25%</th>\n",
       "      <td>7.100000</td>\n",
       "      <td>0.390000</td>\n",
       "      <td>0.090000</td>\n",
       "      <td>1.900000</td>\n",
       "      <td>0.070000</td>\n",
       "      <td>7.000000</td>\n",
       "      <td>22.000000</td>\n",
       "      <td>0.995600</td>\n",
       "      <td>3.210000</td>\n",
       "      <td>0.550000</td>\n",
       "      <td>9.500000</td>\n",
       "      <td>5.000000</td>\n",
       "    </tr>\n",
       "    <tr>\n",
       "      <th>50%</th>\n",
       "      <td>7.900000</td>\n",
       "      <td>0.520000</td>\n",
       "      <td>0.260000</td>\n",
       "      <td>2.200000</td>\n",
       "      <td>0.079000</td>\n",
       "      <td>14.000000</td>\n",
       "      <td>38.000000</td>\n",
       "      <td>0.996750</td>\n",
       "      <td>3.310000</td>\n",
       "      <td>0.620000</td>\n",
       "      <td>10.200000</td>\n",
       "      <td>6.000000</td>\n",
       "    </tr>\n",
       "    <tr>\n",
       "      <th>75%</th>\n",
       "      <td>9.200000</td>\n",
       "      <td>0.640000</td>\n",
       "      <td>0.420000</td>\n",
       "      <td>2.600000</td>\n",
       "      <td>0.090000</td>\n",
       "      <td>21.000000</td>\n",
       "      <td>62.000000</td>\n",
       "      <td>0.997835</td>\n",
       "      <td>3.400000</td>\n",
       "      <td>0.730000</td>\n",
       "      <td>11.100000</td>\n",
       "      <td>6.000000</td>\n",
       "    </tr>\n",
       "    <tr>\n",
       "      <th>max</th>\n",
       "      <td>15.900000</td>\n",
       "      <td>1.580000</td>\n",
       "      <td>1.000000</td>\n",
       "      <td>15.500000</td>\n",
       "      <td>0.611000</td>\n",
       "      <td>72.000000</td>\n",
       "      <td>289.000000</td>\n",
       "      <td>1.003690</td>\n",
       "      <td>4.010000</td>\n",
       "      <td>2.000000</td>\n",
       "      <td>14.900000</td>\n",
       "      <td>8.000000</td>\n",
       "    </tr>\n",
       "  </tbody>\n",
       "</table>\n",
       "</div>"
      ],
      "text/plain": [
       "       fixed acidity  volatile acidity  citric acid  residual sugar  \\\n",
       "count    1599.000000       1599.000000  1599.000000     1599.000000   \n",
       "mean        8.319637          0.527821     0.270976        2.538806   \n",
       "std         1.741096          0.179060     0.194801        1.409928   \n",
       "min         4.600000          0.120000     0.000000        0.900000   \n",
       "25%         7.100000          0.390000     0.090000        1.900000   \n",
       "50%         7.900000          0.520000     0.260000        2.200000   \n",
       "75%         9.200000          0.640000     0.420000        2.600000   \n",
       "max        15.900000          1.580000     1.000000       15.500000   \n",
       "\n",
       "         chlorides  free sulfur dioxide  total sulfur dioxide      density  \\\n",
       "count  1599.000000          1599.000000           1599.000000  1599.000000   \n",
       "mean      0.087467            15.874922             46.467792     0.996747   \n",
       "std       0.047065            10.460157             32.895324     0.001887   \n",
       "min       0.012000             1.000000              6.000000     0.990070   \n",
       "25%       0.070000             7.000000             22.000000     0.995600   \n",
       "50%       0.079000            14.000000             38.000000     0.996750   \n",
       "75%       0.090000            21.000000             62.000000     0.997835   \n",
       "max       0.611000            72.000000            289.000000     1.003690   \n",
       "\n",
       "                pH    sulphates      alcohol      quality  \n",
       "count  1599.000000  1599.000000  1599.000000  1599.000000  \n",
       "mean      3.311113     0.658149    10.422983     5.636023  \n",
       "std       0.154386     0.169507     1.065668     0.807569  \n",
       "min       2.740000     0.330000     8.400000     3.000000  \n",
       "25%       3.210000     0.550000     9.500000     5.000000  \n",
       "50%       3.310000     0.620000    10.200000     6.000000  \n",
       "75%       3.400000     0.730000    11.100000     6.000000  \n",
       "max       4.010000     2.000000    14.900000     8.000000  "
      ]
     },
     "execution_count": 8,
     "metadata": {},
     "output_type": "execute_result"
    }
   ],
   "source": [
    "data.describe()"
   ]
  },
  {
   "cell_type": "markdown",
   "metadata": {},
   "source": [
    "We can see there is no missing data in the columns. Great!!"
   ]
  },
  {
   "cell_type": "code",
   "execution_count": null,
   "metadata": {},
   "outputs": [],
   "source": []
  },
  {
   "cell_type": "code",
   "execution_count": 4,
   "metadata": {},
   "outputs": [],
   "source": [
    "X = data.drop(columns = 'quality')\n",
    "y = data['quality']"
   ]
  },
  {
   "cell_type": "code",
   "execution_count": 5,
   "metadata": {},
   "outputs": [],
   "source": [
    "x_train,x_test,y_train,y_test = train_test_split(X,y,test_size = 0.30, random_state= 123)"
   ]
  },
  {
   "cell_type": "code",
   "execution_count": 6,
   "metadata": {},
   "outputs": [
    {
     "data": {
      "text/plain": [
       "DecisionTreeClassifier()"
      ]
     },
     "execution_count": 6,
     "metadata": {},
     "output_type": "execute_result"
    }
   ],
   "source": [
    "#let's first visualize the tree on the data without doing any pre processing\n",
    "clf = DecisionTreeClassifier()\n",
    "clf.fit(x_train,y_train)"
   ]
  },
  {
   "cell_type": "code",
   "execution_count": 8,
   "metadata": {},
   "outputs": [],
   "source": [
    "y_hat=clf.predict(x_test)"
   ]
  },
  {
   "cell_type": "code",
   "execution_count": null,
   "metadata": {},
   "outputs": [],
   "source": [
    "from sklearn.metrics import accuracy_score"
   ]
  },
  {
   "cell_type": "code",
   "execution_count": 9,
   "metadata": {},
   "outputs": [
    {
     "data": {
      "text/plain": [
       "0.5833333333333334"
      ]
     },
     "execution_count": 9,
     "metadata": {},
     "output_type": "execute_result"
    }
   ],
   "source": [
    "accuracy_score(y_test,y_hat)"
   ]
  },
  {
   "cell_type": "code",
   "execution_count": 10,
   "metadata": {},
   "outputs": [],
   "source": [
    "feature_name=list(X.columns)"
   ]
  },
  {
   "cell_type": "code",
   "execution_count": 11,
   "metadata": {},
   "outputs": [
    {
     "data": {
      "text/plain": [
       "['fixed acidity',\n",
       " 'volatile acidity',\n",
       " 'citric acid',\n",
       " 'residual sugar',\n",
       " 'chlorides',\n",
       " 'free sulfur dioxide',\n",
       " 'total sulfur dioxide',\n",
       " 'density',\n",
       " 'pH',\n",
       " 'sulphates',\n",
       " 'alcohol']"
      ]
     },
     "execution_count": 11,
     "metadata": {},
     "output_type": "execute_result"
    }
   ],
   "source": [
    "feature_name"
   ]
  },
  {
   "cell_type": "code",
   "execution_count": 12,
   "metadata": {},
   "outputs": [],
   "source": [
    "class_name = list(y_train.unique())"
   ]
  },
  {
   "cell_type": "code",
   "execution_count": 13,
   "metadata": {},
   "outputs": [
    {
     "data": {
      "text/plain": [
       "[6, 5, 8, 3, 7, 4]"
      ]
     },
     "execution_count": 13,
     "metadata": {},
     "output_type": "execute_result"
    }
   ],
   "source": [
    "class_name"
   ]
  },
  {
   "cell_type": "code",
   "execution_count": 14,
   "metadata": {},
   "outputs": [],
   "source": [
    "from IPython.display import Image  \n",
    "from sklearn.tree import export_graphviz\n",
    "import pydotplus\n",
    "import matplotlib.pyplot as plt"
   ]
  },
  {
   "cell_type": "code",
   "execution_count": 24,
   "metadata": {},
   "outputs": [
    {
     "data": {
      "text/plain": [
       "[Text(628.3647611489013, 1595.3478260869565, 'X[10] <= 9.95\\ngini = 0.645\\nsamples = 1119\\nvalue = [8, 37, 467, 453, 141, 13]'),\n",
       " Text(282.98572861539344, 1524.4434782608696, 'X[6] <= 98.5\\ngini = 0.484\\nsamples = 493\\nvalue = [5, 17, 327, 134, 10, 0]'),\n",
       " Text(133.28392846870685, 1453.5391304347827, 'X[1] <= 0.412\\ngini = 0.525\\nsamples = 417\\nvalue = [5, 16, 255, 131, 10, 0]'),\n",
       " Text(59.703175333640125, 1382.6347826086956, 'X[9] <= 0.655\\ngini = 0.587\\nsamples = 88\\nvalue = [0, 2, 36, 43, 7, 0]'),\n",
       " Text(20.54302807179015, 1311.7304347826087, 'X[4] <= 0.08\\ngini = 0.497\\nsamples = 45\\nvalue = [0, 1, 27, 17, 0, 0]'),\n",
       " Text(10.271514035895075, 1240.8260869565217, 'X[10] <= 9.25\\ngini = 0.499\\nsamples = 19\\nvalue = [0, 1, 6, 12, 0, 0]'),\n",
       " Text(5.135757017947538, 1169.9217391304348, 'gini = 0.0\\nsamples = 3\\nvalue = [0, 0, 3, 0, 0, 0]'),\n",
       " Text(15.407271053842614, 1169.9217391304348, 'X[8] <= 3.35\\ngini = 0.398\\nsamples = 16\\nvalue = [0, 1, 3, 12, 0, 0]'),\n",
       " Text(10.271514035895075, 1099.0173913043477, 'X[8] <= 3.125\\ngini = 0.612\\nsamples = 7\\nvalue = [0, 1, 3, 3, 0, 0]'),\n",
       " Text(5.135757017947538, 1028.1130434782608, 'gini = 0.0\\nsamples = 2\\nvalue = [0, 0, 0, 2, 0, 0]'),\n",
       " Text(15.407271053842614, 1028.1130434782608, 'X[0] <= 10.0\\ngini = 0.56\\nsamples = 5\\nvalue = [0, 1, 3, 1, 0, 0]'),\n",
       " Text(10.271514035895075, 957.2086956521739, 'gini = 0.0\\nsamples = 3\\nvalue = [0, 0, 3, 0, 0, 0]'),\n",
       " Text(20.54302807179015, 957.2086956521739, 'X[1] <= 0.255\\ngini = 0.5\\nsamples = 2\\nvalue = [0, 1, 0, 1, 0, 0]'),\n",
       " Text(15.407271053842614, 886.304347826087, 'gini = 0.0\\nsamples = 1\\nvalue = [0, 1, 0, 0, 0, 0]'),\n",
       " Text(25.678785089737687, 886.304347826087, 'gini = 0.0\\nsamples = 1\\nvalue = [0, 0, 0, 1, 0, 0]'),\n",
       " Text(20.54302807179015, 1099.0173913043477, 'gini = 0.0\\nsamples = 9\\nvalue = [0, 0, 0, 9, 0, 0]'),\n",
       " Text(30.814542107685227, 1240.8260869565217, 'X[9] <= 0.57\\ngini = 0.311\\nsamples = 26\\nvalue = [0, 0, 21, 5, 0, 0]'),\n",
       " Text(25.678785089737687, 1169.9217391304348, 'gini = 0.0\\nsamples = 14\\nvalue = [0, 0, 14, 0, 0, 0]'),\n",
       " Text(35.95029912563276, 1169.9217391304348, 'X[4] <= 0.097\\ngini = 0.486\\nsamples = 12\\nvalue = [0, 0, 7, 5, 0, 0]'),\n",
       " Text(30.814542107685227, 1099.0173913043477, 'X[6] <= 16.0\\ngini = 0.408\\nsamples = 7\\nvalue = [0, 0, 2, 5, 0, 0]'),\n",
       " Text(25.678785089737687, 1028.1130434782608, 'gini = 0.0\\nsamples = 1\\nvalue = [0, 0, 1, 0, 0, 0]'),\n",
       " Text(35.95029912563276, 1028.1130434782608, 'X[8] <= 3.475\\ngini = 0.278\\nsamples = 6\\nvalue = [0, 0, 1, 5, 0, 0]'),\n",
       " Text(30.814542107685227, 957.2086956521739, 'gini = 0.0\\nsamples = 5\\nvalue = [0, 0, 0, 5, 0, 0]'),\n",
       " Text(41.0860561435803, 957.2086956521739, 'gini = 0.0\\nsamples = 1\\nvalue = [0, 0, 1, 0, 0, 0]'),\n",
       " Text(41.0860561435803, 1099.0173913043477, 'gini = 0.0\\nsamples = 5\\nvalue = [0, 0, 5, 0, 0, 0]'),\n",
       " Text(98.8633225954901, 1311.7304347826087, 'X[0] <= 14.65\\ngini = 0.564\\nsamples = 43\\nvalue = [0, 1, 9, 26, 7, 0]'),\n",
       " Text(93.72756557754256, 1240.8260869565217, 'X[5] <= 27.0\\ngini = 0.534\\nsamples = 41\\nvalue = [0, 1, 9, 26, 5, 0]'),\n",
       " Text(88.59180855959502, 1169.9217391304348, 'X[10] <= 9.75\\ngini = 0.506\\nsamples = 39\\nvalue = [0, 1, 7, 26, 5, 0]'),\n",
       " Text(74.4684767602393, 1099.0173913043477, 'X[2] <= 0.565\\ngini = 0.453\\nsamples = 30\\nvalue = [0, 1, 7, 21, 1, 0]'),\n",
       " Text(61.629084215370455, 1028.1130434782608, 'X[2] <= 0.415\\ngini = 0.382\\nsamples = 26\\nvalue = [0, 1, 4, 20, 1, 0]'),\n",
       " Text(51.357570179475374, 957.2086956521739, 'X[0] <= 8.9\\ngini = 0.562\\nsamples = 11\\nvalue = [0, 0, 4, 6, 1, 0]'),\n",
       " Text(46.22181316152784, 886.304347826087, 'X[8] <= 3.245\\ngini = 0.245\\nsamples = 7\\nvalue = [0, 0, 0, 6, 1, 0]'),\n",
       " Text(41.0860561435803, 815.4000000000001, 'gini = 0.0\\nsamples = 1\\nvalue = [0, 0, 0, 0, 1, 0]'),\n",
       " Text(51.357570179475374, 815.4000000000001, 'gini = 0.0\\nsamples = 6\\nvalue = [0, 0, 0, 6, 0, 0]'),\n",
       " Text(56.493327197422914, 886.304347826087, 'gini = 0.0\\nsamples = 4\\nvalue = [0, 0, 4, 0, 0, 0]'),\n",
       " Text(71.90059825126552, 957.2086956521739, 'X[6] <= 83.0\\ngini = 0.124\\nsamples = 15\\nvalue = [0, 1, 0, 14, 0, 0]'),\n",
       " Text(66.764841233318, 886.304347826087, 'gini = 0.0\\nsamples = 14\\nvalue = [0, 0, 0, 14, 0, 0]'),\n",
       " Text(77.03635526921306, 886.304347826087, 'gini = 0.0\\nsamples = 1\\nvalue = [0, 1, 0, 0, 0, 0]'),\n",
       " Text(87.30786930510814, 1028.1130434782608, 'X[0] <= 12.45\\ngini = 0.375\\nsamples = 4\\nvalue = [0, 0, 3, 1, 0, 0]'),\n",
       " Text(82.1721122871606, 957.2086956521739, 'gini = 0.0\\nsamples = 3\\nvalue = [0, 0, 3, 0, 0, 0]'),\n",
       " Text(92.44362632305568, 957.2086956521739, 'gini = 0.0\\nsamples = 1\\nvalue = [0, 0, 0, 1, 0, 0]'),\n",
       " Text(102.71514035895075, 1099.0173913043477, 'X[7] <= 0.998\\ngini = 0.494\\nsamples = 9\\nvalue = [0, 0, 0, 5, 4, 0]'),\n",
       " Text(97.57938334100321, 1028.1130434782608, 'gini = 0.0\\nsamples = 3\\nvalue = [0, 0, 0, 0, 3, 0]'),\n",
       " Text(107.85089737689829, 1028.1130434782608, 'X[9] <= 1.125\\ngini = 0.278\\nsamples = 6\\nvalue = [0, 0, 0, 5, 1, 0]'),\n",
       " Text(102.71514035895075, 957.2086956521739, 'gini = 0.0\\nsamples = 5\\nvalue = [0, 0, 0, 5, 0, 0]'),\n",
       " Text(112.98665439484583, 957.2086956521739, 'gini = 0.0\\nsamples = 1\\nvalue = [0, 0, 0, 0, 1, 0]'),\n",
       " Text(98.8633225954901, 1169.9217391304348, 'gini = 0.0\\nsamples = 2\\nvalue = [0, 0, 2, 0, 0, 0]'),\n",
       " Text(103.99907961343763, 1240.8260869565217, 'gini = 0.0\\nsamples = 2\\nvalue = [0, 0, 0, 0, 2, 0]'),\n",
       " Text(206.86468160377356, 1382.6347826086956, 'X[10] <= 9.15\\ngini = 0.483\\nsamples = 329\\nvalue = [5, 14, 219, 88, 3, 0]'),\n",
       " Text(146.36907501150483, 1311.7304347826087, 'X[6] <= 39.0\\ngini = 0.587\\nsamples = 37\\nvalue = [2, 2, 14, 19, 0, 0]'),\n",
       " Text(133.529682466636, 1240.8260869565217, 'X[6] <= 29.5\\ngini = 0.493\\nsamples = 19\\nvalue = [1, 2, 3, 13, 0, 0]'),\n",
       " Text(128.39392544868844, 1169.9217391304348, 'X[6] <= 23.5\\ngini = 0.716\\nsamples = 9\\nvalue = [1, 2, 3, 3, 0, 0]'),\n",
       " Text(123.25816843074091, 1099.0173913043477, 'X[9] <= 0.455\\ngini = 0.611\\nsamples = 6\\nvalue = [1, 2, 0, 3, 0, 0]'),\n",
       " Text(118.12241141279337, 1028.1130434782608, 'gini = 0.0\\nsamples = 2\\nvalue = [0, 2, 0, 0, 0, 0]'),\n",
       " Text(128.39392544868844, 1028.1130434782608, 'X[2] <= 0.415\\ngini = 0.375\\nsamples = 4\\nvalue = [1, 0, 0, 3, 0, 0]'),\n",
       " Text(123.25816843074091, 957.2086956521739, 'gini = 0.0\\nsamples = 3\\nvalue = [0, 0, 0, 3, 0, 0]'),\n",
       " Text(133.529682466636, 957.2086956521739, 'gini = 0.0\\nsamples = 1\\nvalue = [1, 0, 0, 0, 0, 0]'),\n",
       " Text(133.529682466636, 1099.0173913043477, 'gini = 0.0\\nsamples = 3\\nvalue = [0, 0, 3, 0, 0, 0]'),\n",
       " Text(138.66543948458352, 1169.9217391304348, 'gini = 0.0\\nsamples = 10\\nvalue = [0, 0, 0, 10, 0, 0]'),\n",
       " Text(159.20846755637368, 1240.8260869565217, 'X[9] <= 0.61\\ngini = 0.512\\nsamples = 18\\nvalue = [1, 0, 11, 6, 0, 0]'),\n",
       " Text(148.9369535204786, 1169.9217391304348, 'X[0] <= 10.75\\ngini = 0.219\\nsamples = 8\\nvalue = [1, 0, 7, 0, 0, 0]'),\n",
       " Text(143.80119650253104, 1099.0173913043477, 'gini = 0.0\\nsamples = 7\\nvalue = [0, 0, 7, 0, 0, 0]'),\n",
       " Text(154.07271053842612, 1099.0173913043477, 'gini = 0.0\\nsamples = 1\\nvalue = [1, 0, 0, 0, 0, 0]'),\n",
       " Text(169.47998159226873, 1169.9217391304348, 'X[1] <= 0.52\\ngini = 0.48\\nsamples = 10\\nvalue = [0, 0, 4, 6, 0, 0]'),\n",
       " Text(164.3442245743212, 1099.0173913043477, 'X[8] <= 3.325\\ngini = 0.32\\nsamples = 5\\nvalue = [0, 0, 4, 1, 0, 0]'),\n",
       " Text(159.20846755637368, 1028.1130434782608, 'gini = 0.0\\nsamples = 4\\nvalue = [0, 0, 4, 0, 0, 0]'),\n",
       " Text(169.47998159226873, 1028.1130434782608, 'gini = 0.0\\nsamples = 1\\nvalue = [0, 0, 0, 1, 0, 0]'),\n",
       " Text(174.61573861021628, 1099.0173913043477, 'gini = 0.0\\nsamples = 5\\nvalue = [0, 0, 0, 5, 0, 0]'),\n",
       " Text(267.3602881960423, 1311.7304347826087, 'X[8] <= 3.205\\ngini = 0.449\\nsamples = 292\\nvalue = [3, 12, 205, 69, 3, 0]'),\n",
       " Text(200.29452369995397, 1240.8260869565217, 'X[3] <= 4.9\\ngini = 0.254\\nsamples = 76\\nvalue = [0, 2, 65, 9, 0, 0]'),\n",
       " Text(190.0230096640589, 1169.9217391304348, 'X[6] <= 9.5\\ngini = 0.182\\nsamples = 71\\nvalue = [0, 2, 64, 5, 0, 0]'),\n",
       " Text(184.88725264611136, 1099.0173913043477, 'gini = 0.0\\nsamples = 2\\nvalue = [0, 0, 0, 2, 0, 0]'),\n",
       " Text(195.15876668200642, 1099.0173913043477, 'X[0] <= 12.45\\ngini = 0.137\\nsamples = 69\\nvalue = [0, 2, 64, 3, 0, 0]'),\n",
       " Text(190.0230096640589, 1028.1130434782608, 'X[4] <= 0.537\\ngini = 0.112\\nsamples = 68\\nvalue = [0, 1, 64, 3, 0, 0]'),\n",
       " Text(184.88725264611136, 957.2086956521739, 'X[7] <= 0.999\\ngini = 0.086\\nsamples = 67\\nvalue = [0, 0, 64, 3, 0, 0]'),\n",
       " Text(174.61573861021628, 886.304347826087, 'X[8] <= 3.195\\ngini = 0.032\\nsamples = 61\\nvalue = [0, 0, 60, 1, 0, 0]'),\n",
       " Text(169.47998159226873, 815.4000000000001, 'gini = 0.0\\nsamples = 52\\nvalue = [0, 0, 52, 0, 0, 0]'),\n",
       " Text(179.7514956281638, 815.4000000000001, 'X[0] <= 8.8\\ngini = 0.198\\nsamples = 9\\nvalue = [0, 0, 8, 1, 0, 0]'),\n",
       " Text(174.61573861021628, 744.4956521739131, 'gini = 0.0\\nsamples = 8\\nvalue = [0, 0, 8, 0, 0, 0]'),\n",
       " Text(184.88725264611136, 744.4956521739131, 'gini = 0.0\\nsamples = 1\\nvalue = [0, 0, 0, 1, 0, 0]'),\n",
       " Text(195.15876668200642, 886.304347826087, 'X[7] <= 1.0\\ngini = 0.444\\nsamples = 6\\nvalue = [0, 0, 4, 2, 0, 0]'),\n",
       " Text(190.0230096640589, 815.4000000000001, 'gini = 0.0\\nsamples = 2\\nvalue = [0, 0, 0, 2, 0, 0]'),\n",
       " Text(200.29452369995397, 815.4000000000001, 'gini = 0.0\\nsamples = 4\\nvalue = [0, 0, 4, 0, 0, 0]'),\n",
       " Text(195.15876668200642, 957.2086956521739, 'gini = 0.0\\nsamples = 1\\nvalue = [0, 1, 0, 0, 0, 0]'),\n",
       " Text(200.29452369995397, 1028.1130434782608, 'gini = 0.0\\nsamples = 1\\nvalue = [0, 1, 0, 0, 0, 0]'),\n",
       " Text(210.56603773584905, 1169.9217391304348, 'X[5] <= 26.0\\ngini = 0.32\\nsamples = 5\\nvalue = [0, 0, 1, 4, 0, 0]'),\n",
       " Text(205.4302807179015, 1099.0173913043477, 'gini = 0.0\\nsamples = 4\\nvalue = [0, 0, 0, 4, 0, 0]'),\n",
       " Text(215.70179475379658, 1099.0173913043477, 'gini = 0.0\\nsamples = 1\\nvalue = [0, 0, 1, 0, 0, 0]'),\n",
       " Text(334.42605269213067, 1240.8260869565217, 'X[9] <= 0.805\\ngini = 0.5\\nsamples = 216\\nvalue = [3, 10, 140, 60, 3, 0]'),\n",
       " Text(277.2506327657616, 1169.9217391304348, 'X[8] <= 3.245\\ngini = 0.475\\nsamples = 204\\nvalue = [2, 9, 138, 52, 3, 0]'),\n",
       " Text(225.97330878969166, 1099.0173913043477, 'X[2] <= 0.245\\ngini = 0.543\\nsamples = 19\\nvalue = [0, 0, 8, 10, 1, 0]'),\n",
       " Text(215.70179475379658, 1028.1130434782608, 'X[9] <= 0.49\\ngini = 0.355\\nsamples = 13\\nvalue = [0, 0, 3, 10, 0, 0]'),\n",
       " Text(210.56603773584905, 957.2086956521739, 'gini = 0.0\\nsamples = 2\\nvalue = [0, 0, 2, 0, 0, 0]'),\n",
       " Text(220.8375517717441, 957.2086956521739, 'X[10] <= 9.4\\ngini = 0.165\\nsamples = 11\\nvalue = [0, 0, 1, 10, 0, 0]'),\n",
       " Text(215.70179475379658, 886.304347826087, 'X[4] <= 0.097\\ngini = 0.5\\nsamples = 2\\nvalue = [0, 0, 1, 1, 0, 0]'),\n",
       " Text(210.56603773584905, 815.4000000000001, 'gini = 0.0\\nsamples = 1\\nvalue = [0, 0, 0, 1, 0, 0]'),\n",
       " Text(220.8375517717441, 815.4000000000001, 'gini = 0.0\\nsamples = 1\\nvalue = [0, 0, 1, 0, 0, 0]'),\n",
       " Text(225.97330878969166, 886.304347826087, 'gini = 0.0\\nsamples = 9\\nvalue = [0, 0, 0, 9, 0, 0]'),\n",
       " Text(236.24482282558674, 1028.1130434782608, 'X[0] <= 9.55\\ngini = 0.278\\nsamples = 6\\nvalue = [0, 0, 5, 0, 1, 0]'),\n",
       " Text(231.10906580763918, 957.2086956521739, 'gini = 0.0\\nsamples = 5\\nvalue = [0, 0, 5, 0, 0, 0]'),\n",
       " Text(241.38057984353426, 957.2086956521739, 'gini = 0.0\\nsamples = 1\\nvalue = [0, 0, 0, 0, 1, 0]'),\n",
       " Text(328.52795674183153, 1099.0173913043477, 'X[1] <= 0.652\\ngini = 0.452\\nsamples = 185\\nvalue = [2, 9, 130, 42, 2, 0]'),\n",
       " Text(291.13322595490104, 1028.1130434782608, 'X[10] <= 9.85\\ngini = 0.474\\nsamples = 116\\nvalue = [0, 2, 76, 36, 2, 0]'),\n",
       " Text(285.9974689369535, 957.2086956521739, 'X[6] <= 85.5\\ngini = 0.453\\nsamples = 111\\nvalue = [0, 2, 76, 31, 2, 0]'),\n",
       " Text(262.56557754256784, 886.304347826087, 'X[6] <= 29.0\\ngini = 0.405\\nsamples = 92\\nvalue = [0, 2, 68, 20, 2, 0]'),\n",
       " Text(231.10906580763918, 815.4000000000001, 'X[8] <= 3.31\\ngini = 0.53\\nsamples = 29\\nvalue = [0, 0, 15, 13, 1, 0]'),\n",
       " Text(220.8375517717441, 744.4956521739131, 'X[4] <= 0.138\\ngini = 0.18\\nsamples = 10\\nvalue = [0, 0, 9, 1, 0, 0]'),\n",
       " Text(215.70179475379658, 673.5913043478262, 'gini = 0.0\\nsamples = 9\\nvalue = [0, 0, 9, 0, 0, 0]'),\n",
       " Text(225.97330878969166, 673.5913043478262, 'gini = 0.0\\nsamples = 1\\nvalue = [0, 0, 0, 1, 0, 0]'),\n",
       " Text(241.38057984353426, 744.4956521739131, 'X[0] <= 6.5\\ngini = 0.499\\nsamples = 19\\nvalue = [0, 0, 6, 12, 1, 0]'),\n",
       " Text(236.24482282558674, 673.5913043478262, 'gini = 0.0\\nsamples = 5\\nvalue = [0, 0, 5, 0, 0, 0]'),\n",
       " Text(246.51633686148182, 673.5913043478262, 'X[4] <= 0.058\\ngini = 0.255\\nsamples = 14\\nvalue = [0, 0, 1, 12, 1, 0]'),\n",
       " Text(241.38057984353426, 602.6869565217391, 'gini = 0.0\\nsamples = 1\\nvalue = [0, 0, 1, 0, 0, 0]'),\n",
       " Text(251.65209387942934, 602.6869565217391, 'X[8] <= 3.365\\ngini = 0.142\\nsamples = 13\\nvalue = [0, 0, 0, 12, 1, 0]'),\n",
       " Text(246.51633686148182, 531.7826086956522, 'X[0] <= 7.75\\ngini = 0.444\\nsamples = 3\\nvalue = [0, 0, 0, 2, 1, 0]'),\n",
       " Text(241.38057984353426, 460.87826086956534, 'gini = 0.0\\nsamples = 2\\nvalue = [0, 0, 0, 2, 0, 0]'),\n",
       " Text(251.65209387942934, 460.87826086956534, 'gini = 0.0\\nsamples = 1\\nvalue = [0, 0, 0, 0, 1, 0]'),\n",
       " Text(256.78785089737687, 531.7826086956522, 'gini = 0.0\\nsamples = 10\\nvalue = [0, 0, 0, 10, 0, 0]'),\n",
       " Text(294.02208927749655, 815.4000000000001, 'X[2] <= 0.005\\ngini = 0.279\\nsamples = 63\\nvalue = [0, 2, 53, 7, 1, 0]'),\n",
       " Text(288.88633225954896, 744.4956521739131, 'gini = 0.0\\nsamples = 2\\nvalue = [0, 0, 0, 2, 0, 0]'),\n",
       " Text(299.1578462954441, 744.4956521739131, 'X[0] <= 10.1\\ngini = 0.237\\nsamples = 61\\nvalue = [0, 2, 53, 5, 1, 0]'),\n",
       " Text(285.0345144960883, 673.5913043478262, 'X[8] <= 3.275\\ngini = 0.188\\nsamples = 59\\nvalue = [0, 1, 53, 4, 1, 0]'),\n",
       " Text(272.1951219512195, 602.6869565217391, 'X[8] <= 3.265\\ngini = 0.667\\nsamples = 3\\nvalue = [0, 1, 1, 1, 0, 0]'),\n",
       " Text(267.059364933272, 531.7826086956522, 'X[2] <= 0.27\\ngini = 0.5\\nsamples = 2\\nvalue = [0, 1, 1, 0, 0, 0]'),\n",
       " Text(261.9236079153244, 460.87826086956534, 'gini = 0.0\\nsamples = 1\\nvalue = [0, 0, 1, 0, 0, 0]'),\n",
       " Text(272.1951219512195, 460.87826086956534, 'gini = 0.0\\nsamples = 1\\nvalue = [0, 1, 0, 0, 0, 0]'),\n",
       " Text(277.33087896916703, 531.7826086956522, 'gini = 0.0\\nsamples = 1\\nvalue = [0, 0, 0, 1, 0, 0]'),\n",
       " Text(297.8739070409572, 602.6869565217391, 'X[5] <= 9.5\\ngini = 0.135\\nsamples = 56\\nvalue = [0, 0, 52, 3, 1, 0]'),\n",
       " Text(287.6023930050621, 531.7826086956522, 'X[6] <= 38.0\\ngini = 0.375\\nsamples = 8\\nvalue = [0, 0, 6, 2, 0, 0]'),\n",
       " Text(282.46663598711456, 460.87826086956534, 'gini = 0.0\\nsamples = 5\\nvalue = [0, 0, 5, 0, 0, 0]'),\n",
       " Text(292.73815002300967, 460.87826086956534, 'X[3] <= 2.05\\ngini = 0.444\\nsamples = 3\\nvalue = [0, 0, 1, 2, 0, 0]'),\n",
       " Text(287.6023930050621, 389.97391304347843, 'gini = 0.0\\nsamples = 2\\nvalue = [0, 0, 0, 2, 0, 0]'),\n",
       " Text(297.8739070409572, 389.97391304347843, 'gini = 0.0\\nsamples = 1\\nvalue = [0, 0, 1, 0, 0, 0]'),\n",
       " Text(308.14542107685224, 531.7826086956522, 'X[4] <= 0.084\\ngini = 0.081\\nsamples = 48\\nvalue = [0, 0, 46, 1, 1, 0]'),\n",
       " Text(303.0096640589047, 460.87826086956534, 'gini = 0.0\\nsamples = 36\\nvalue = [0, 0, 36, 0, 0, 0]'),\n",
       " Text(313.28117809479977, 460.87826086956534, 'X[5] <= 12.5\\ngini = 0.292\\nsamples = 12\\nvalue = [0, 0, 10, 1, 1, 0]'),\n",
       " Text(308.14542107685224, 389.97391304347843, 'gini = 0.0\\nsamples = 1\\nvalue = [0, 0, 0, 0, 1, 0]'),\n",
       " Text(318.41693511274735, 389.97391304347843, 'X[8] <= 3.4\\ngini = 0.165\\nsamples = 11\\nvalue = [0, 0, 10, 1, 0, 0]'),\n",
       " Text(313.28117809479977, 319.0695652173915, 'gini = 0.0\\nsamples = 9\\nvalue = [0, 0, 9, 0, 0, 0]'),\n",
       " Text(323.5526921306949, 319.0695652173915, 'X[0] <= 7.0\\ngini = 0.5\\nsamples = 2\\nvalue = [0, 0, 1, 1, 0, 0]'),\n",
       " Text(318.41693511274735, 248.1652173913044, 'gini = 0.0\\nsamples = 1\\nvalue = [0, 0, 1, 0, 0, 0]'),\n",
       " Text(328.6884491486424, 248.1652173913044, 'gini = 0.0\\nsamples = 1\\nvalue = [0, 0, 0, 1, 0, 0]'),\n",
       " Text(313.28117809479977, 673.5913043478262, 'X[8] <= 3.29\\ngini = 0.5\\nsamples = 2\\nvalue = [0, 1, 0, 1, 0, 0]'),\n",
       " Text(308.14542107685224, 602.6869565217391, 'gini = 0.0\\nsamples = 1\\nvalue = [0, 0, 0, 1, 0, 0]'),\n",
       " Text(318.41693511274735, 602.6869565217391, 'gini = 0.0\\nsamples = 1\\nvalue = [0, 1, 0, 0, 0, 0]'),\n",
       " Text(309.4293603313391, 886.304347826087, 'X[4] <= 0.078\\ngini = 0.488\\nsamples = 19\\nvalue = [0, 0, 8, 11, 0, 0]'),\n",
       " Text(304.2936033133916, 815.4000000000001, 'gini = 0.0\\nsamples = 6\\nvalue = [0, 0, 6, 0, 0, 0]'),\n",
       " Text(314.56511734928665, 815.4000000000001, 'X[1] <= 0.635\\ngini = 0.26\\nsamples = 13\\nvalue = [0, 0, 2, 11, 0, 0]'),\n",
       " Text(309.4293603313391, 744.4956521739131, 'gini = 0.0\\nsamples = 11\\nvalue = [0, 0, 0, 11, 0, 0]'),\n",
       " Text(319.70087436723423, 744.4956521739131, 'gini = 0.0\\nsamples = 2\\nvalue = [0, 0, 2, 0, 0, 0]'),\n",
       " Text(296.26898297284856, 957.2086956521739, 'gini = 0.0\\nsamples = 5\\nvalue = [0, 0, 0, 5, 0, 0]'),\n",
       " Text(365.922687528762, 1028.1130434782608, 'X[8] <= 3.355\\ngini = 0.369\\nsamples = 69\\nvalue = [2, 7, 54, 6, 0, 0]'),\n",
       " Text(340.24390243902434, 957.2086956521739, 'X[8] <= 3.285\\ngini = 0.568\\nsamples = 31\\nvalue = [2, 5, 19, 5, 0, 0]'),\n",
       " Text(335.1081454210768, 886.304347826087, 'gini = 0.0\\nsamples = 11\\nvalue = [0, 0, 11, 0, 0, 0]'),\n",
       " Text(345.3796594569719, 886.304347826087, 'X[1] <= 0.735\\ngini = 0.705\\nsamples = 20\\nvalue = [2, 5, 8, 5, 0, 0]'),\n",
       " Text(335.1081454210768, 815.4000000000001, 'X[4] <= 0.089\\ngini = 0.541\\nsamples = 14\\nvalue = [0, 1, 8, 5, 0, 0]'),\n",
       " Text(329.9723884031293, 744.4956521739131, 'X[10] <= 9.25\\ngini = 0.34\\nsamples = 10\\nvalue = [0, 1, 8, 1, 0, 0]'),\n",
       " Text(324.83663138518176, 673.5913043478262, 'gini = 0.0\\nsamples = 1\\nvalue = [0, 1, 0, 0, 0, 0]'),\n",
       " Text(335.1081454210768, 673.5913043478262, 'X[10] <= 9.55\\ngini = 0.198\\nsamples = 9\\nvalue = [0, 0, 8, 1, 0, 0]'),\n",
       " Text(329.9723884031293, 602.6869565217391, 'gini = 0.0\\nsamples = 8\\nvalue = [0, 0, 8, 0, 0, 0]'),\n",
       " Text(340.24390243902434, 602.6869565217391, 'gini = 0.0\\nsamples = 1\\nvalue = [0, 0, 0, 1, 0, 0]'),\n",
       " Text(340.24390243902434, 744.4956521739131, 'gini = 0.0\\nsamples = 4\\nvalue = [0, 0, 0, 4, 0, 0]'),\n",
       " Text(355.651173492867, 815.4000000000001, 'X[0] <= 7.4\\ngini = 0.444\\nsamples = 6\\nvalue = [2, 4, 0, 0, 0, 0]'),\n",
       " Text(350.51541647491945, 744.4956521739131, 'gini = 0.0\\nsamples = 2\\nvalue = [2, 0, 0, 0, 0, 0]'),\n",
       " Text(360.7869305108145, 744.4956521739131, 'gini = 0.0\\nsamples = 4\\nvalue = [0, 4, 0, 0, 0, 0]'),\n",
       " Text(391.6014726184997, 957.2086956521739, 'X[1] <= 1.082\\ngini = 0.148\\nsamples = 38\\nvalue = [0, 2, 35, 1, 0, 0]'),\n",
       " Text(386.4657156005522, 886.304347826087, 'X[9] <= 0.465\\ngini = 0.104\\nsamples = 37\\nvalue = [0, 1, 35, 1, 0, 0]'),\n",
       " Text(376.19420156465713, 815.4000000000001, 'X[7] <= 0.997\\ngini = 0.5\\nsamples = 2\\nvalue = [0, 1, 1, 0, 0, 0]'),\n",
       " Text(371.0584445467096, 744.4956521739131, 'gini = 0.0\\nsamples = 1\\nvalue = [0, 0, 1, 0, 0, 0]'),\n",
       " Text(381.32995858260466, 744.4956521739131, 'gini = 0.0\\nsamples = 1\\nvalue = [0, 1, 0, 0, 0, 0]'),\n",
       " Text(396.7372296364473, 815.4000000000001, 'X[10] <= 9.267\\ngini = 0.056\\nsamples = 35\\nvalue = [0, 0, 34, 1, 0, 0]'),\n",
       " Text(391.6014726184997, 744.4956521739131, 'X[9] <= 0.62\\ngini = 0.5\\nsamples = 2\\nvalue = [0, 0, 1, 1, 0, 0]'),\n",
       " Text(386.4657156005522, 673.5913043478262, 'gini = 0.0\\nsamples = 1\\nvalue = [0, 0, 1, 0, 0, 0]'),\n",
       " Text(396.7372296364473, 673.5913043478262, 'gini = 0.0\\nsamples = 1\\nvalue = [0, 0, 0, 1, 0, 0]'),\n",
       " Text(401.8729866543948, 744.4956521739131, 'gini = 0.0\\nsamples = 33\\nvalue = [0, 0, 33, 0, 0, 0]'),\n",
       " Text(396.7372296364473, 886.304347826087, 'gini = 0.0\\nsamples = 1\\nvalue = [0, 1, 0, 0, 0, 0]'),\n",
       " Text(391.6014726184997, 1169.9217391304348, 'X[5] <= 27.5\\ngini = 0.514\\nsamples = 12\\nvalue = [1, 1, 2, 8, 0, 0]'),\n",
       " Text(381.32995858260466, 1099.0173913043477, 'X[10] <= 9.3\\ngini = 0.198\\nsamples = 9\\nvalue = [0, 0, 1, 8, 0, 0]'),\n",
       " Text(376.19420156465713, 1028.1130434782608, 'gini = 0.0\\nsamples = 1\\nvalue = [0, 0, 1, 0, 0, 0]'),\n",
       " Text(386.4657156005522, 1028.1130434782608, 'gini = 0.0\\nsamples = 8\\nvalue = [0, 0, 0, 8, 0, 0]'),\n",
       " Text(401.8729866543948, 1099.0173913043477, 'X[5] <= 35.0\\ngini = 0.667\\nsamples = 3\\nvalue = [1, 1, 1, 0, 0, 0]'),\n",
       " Text(396.7372296364473, 1028.1130434782608, 'gini = 0.0\\nsamples = 1\\nvalue = [1, 0, 0, 0, 0, 0]'),\n",
       " Text(407.00874367234235, 1028.1130434782608, 'X[6] <= 57.0\\ngini = 0.5\\nsamples = 2\\nvalue = [0, 1, 1, 0, 0, 0]'),\n",
       " Text(401.8729866543948, 957.2086956521739, 'gini = 0.0\\nsamples = 1\\nvalue = [0, 1, 0, 0, 0, 0]'),\n",
       " Text(412.1445006902899, 957.2086956521739, 'gini = 0.0\\nsamples = 1\\nvalue = [0, 0, 1, 0, 0, 0]'),\n",
       " Text(432.68752876208003, 1453.5391304347827, 'X[3] <= 1.55\\ngini = 0.101\\nsamples = 76\\nvalue = [0, 1, 72, 3, 0, 0]'),\n",
       " Text(427.5517717441325, 1382.6347826086956, 'gini = 0.0\\nsamples = 1\\nvalue = [0, 1, 0, 0, 0, 0]'),\n",
       " Text(437.82328578002756, 1382.6347826086956, 'X[9] <= 1.785\\ngini = 0.077\\nsamples = 75\\nvalue = [0, 0, 72, 3, 0, 0]'),\n",
       " Text(427.5517717441325, 1311.7304347826087, 'X[7] <= 0.996\\ngini = 0.053\\nsamples = 73\\nvalue = [0, 0, 71, 2, 0, 0]'),\n",
       " Text(422.416014726185, 1240.8260869565217, 'X[9] <= 0.535\\ngini = 0.375\\nsamples = 8\\nvalue = [0, 0, 6, 2, 0, 0]'),\n",
       " Text(417.28025770823746, 1169.9217391304348, 'X[4] <= 0.092\\ngini = 0.245\\nsamples = 7\\nvalue = [0, 0, 6, 1, 0, 0]'),\n",
       " Text(412.1445006902899, 1099.0173913043477, 'gini = 0.0\\nsamples = 6\\nvalue = [0, 0, 6, 0, 0, 0]'),\n",
       " Text(422.416014726185, 1099.0173913043477, 'gini = 0.0\\nsamples = 1\\nvalue = [0, 0, 0, 1, 0, 0]'),\n",
       " Text(427.5517717441325, 1169.9217391304348, 'gini = 0.0\\nsamples = 1\\nvalue = [0, 0, 0, 1, 0, 0]'),\n",
       " Text(432.68752876208003, 1240.8260869565217, 'gini = 0.0\\nsamples = 65\\nvalue = [0, 0, 65, 0, 0, 0]'),\n",
       " Text(448.09479981592267, 1311.7304347826087, 'X[3] <= 1.95\\ngini = 0.5\\nsamples = 2\\nvalue = [0, 0, 1, 1, 0, 0]'),\n",
       " Text(442.95904279797514, 1240.8260869565217, 'gini = 0.0\\nsamples = 1\\nvalue = [0, 0, 0, 1, 0, 0]'),\n",
       " Text(453.2305568338702, 1240.8260869565217, 'gini = 0.0\\nsamples = 1\\nvalue = [0, 0, 1, 0, 0, 0]'),\n",
       " Text(973.7437936824091, 1524.4434782608696, 'X[10] <= 11.55\\ngini = 0.645\\nsamples = 626\\nvalue = [3, 20, 140, 319, 131, 13]'),\n",
       " Text(686.9802242723193, 1453.5391304347827, 'X[9] <= 0.545\\ngini = 0.62\\nsamples = 458\\nvalue = [3, 18, 130, 242, 62, 3]'),\n",
       " Text(509.7238840312931, 1382.6347826086956, 'X[1] <= 0.395\\ngini = 0.623\\nsamples = 82\\nvalue = [3, 7, 41, 28, 3, 0]'),\n",
       " Text(473.77358490566036, 1311.7304347826087, 'X[5] <= 5.5\\ngini = 0.391\\nsamples = 13\\nvalue = [0, 1, 1, 10, 1, 0]'),\n",
       " Text(463.50207086976525, 1240.8260869565217, 'X[10] <= 10.65\\ngini = 0.5\\nsamples = 2\\nvalue = [0, 0, 1, 0, 1, 0]'),\n",
       " Text(458.3663138518177, 1169.9217391304348, 'gini = 0.0\\nsamples = 1\\nvalue = [0, 0, 1, 0, 0, 0]'),\n",
       " Text(468.63782788771283, 1169.9217391304348, 'gini = 0.0\\nsamples = 1\\nvalue = [0, 0, 0, 0, 1, 0]'),\n",
       " Text(484.0450989415554, 1240.8260869565217, 'X[8] <= 3.415\\ngini = 0.165\\nsamples = 11\\nvalue = [0, 1, 0, 10, 0, 0]'),\n",
       " Text(478.9093419236079, 1169.9217391304348, 'gini = 0.0\\nsamples = 10\\nvalue = [0, 0, 0, 10, 0, 0]'),\n",
       " Text(489.18085595950294, 1169.9217391304348, 'gini = 0.0\\nsamples = 1\\nvalue = [0, 1, 0, 0, 0, 0]'),\n",
       " Text(545.6741831569259, 1311.7304347826087, 'X[7] <= 0.995\\ngini = 0.586\\nsamples = 69\\nvalue = [3, 6, 40, 18, 2, 0]'),\n",
       " Text(517.4275195582144, 1240.8260869565217, 'X[4] <= 0.069\\ngini = 0.702\\nsamples = 22\\nvalue = [1, 3, 7, 9, 2, 0]'),\n",
       " Text(499.45236999539804, 1169.9217391304348, 'X[5] <= 17.0\\ngini = 0.656\\nsamples = 8\\nvalue = [0, 3, 0, 3, 2, 0]'),\n",
       " Text(489.18085595950294, 1099.0173913043477, 'X[8] <= 3.4\\ngini = 0.5\\nsamples = 4\\nvalue = [0, 2, 0, 0, 2, 0]'),\n",
       " Text(484.0450989415554, 1028.1130434782608, 'gini = 0.0\\nsamples = 2\\nvalue = [0, 0, 0, 0, 2, 0]'),\n",
       " Text(494.3166129774505, 1028.1130434782608, 'gini = 0.0\\nsamples = 2\\nvalue = [0, 2, 0, 0, 0, 0]'),\n",
       " Text(509.7238840312931, 1099.0173913043477, 'X[10] <= 10.525\\ngini = 0.375\\nsamples = 4\\nvalue = [0, 1, 0, 3, 0, 0]'),\n",
       " Text(504.58812701334557, 1028.1130434782608, 'gini = 0.0\\nsamples = 1\\nvalue = [0, 1, 0, 0, 0, 0]'),\n",
       " Text(514.8596410492406, 1028.1130434782608, 'gini = 0.0\\nsamples = 3\\nvalue = [0, 0, 0, 3, 0, 0]'),\n",
       " Text(535.4026691210308, 1169.9217391304348, 'X[6] <= 40.0\\ngini = 0.561\\nsamples = 14\\nvalue = [1, 0, 7, 6, 0, 0]'),\n",
       " Text(530.2669121030832, 1099.0173913043477, 'X[5] <= 5.5\\ngini = 0.406\\nsamples = 8\\nvalue = [1, 0, 1, 6, 0, 0]'),\n",
       " Text(525.1311550851357, 1028.1130434782608, 'gini = 0.0\\nsamples = 1\\nvalue = [1, 0, 0, 0, 0, 0]'),\n",
       " Text(535.4026691210308, 1028.1130434782608, 'X[2] <= 0.15\\ngini = 0.245\\nsamples = 7\\nvalue = [0, 0, 1, 6, 0, 0]'),\n",
       " Text(530.2669121030832, 957.2086956521739, 'gini = 0.0\\nsamples = 6\\nvalue = [0, 0, 0, 6, 0, 0]'),\n",
       " Text(540.5384261389784, 957.2086956521739, 'gini = 0.0\\nsamples = 1\\nvalue = [0, 0, 1, 0, 0, 0]'),\n",
       " Text(540.5384261389784, 1099.0173913043477, 'gini = 0.0\\nsamples = 6\\nvalue = [0, 0, 6, 0, 0, 0]'),\n",
       " Text(573.9208467556373, 1240.8260869565217, 'X[3] <= 3.15\\ngini = 0.464\\nsamples = 47\\nvalue = [2, 3, 33, 9, 0, 0]'),\n",
       " Text(555.945697192821, 1169.9217391304348, 'X[0] <= 7.85\\ngini = 0.297\\nsamples = 35\\nvalue = [0, 2, 29, 4, 0, 0]'),\n",
       " Text(550.8099401748734, 1099.0173913043477, 'gini = 0.0\\nsamples = 18\\nvalue = [0, 0, 18, 0, 0, 0]'),\n",
       " Text(561.0814542107685, 1099.0173913043477, 'X[2] <= 0.375\\ngini = 0.512\\nsamples = 17\\nvalue = [0, 2, 11, 4, 0, 0]'),\n",
       " Text(555.945697192821, 1028.1130434782608, 'X[6] <= 36.5\\ngini = 0.611\\nsamples = 12\\nvalue = [0, 2, 6, 4, 0, 0]'),\n",
       " Text(550.8099401748734, 957.2086956521739, 'X[10] <= 10.55\\ngini = 0.625\\nsamples = 8\\nvalue = [0, 2, 2, 4, 0, 0]'),\n",
       " Text(545.6741831569259, 886.304347826087, 'X[4] <= 0.078\\ngini = 0.444\\nsamples = 6\\nvalue = [0, 2, 0, 4, 0, 0]'),\n",
       " Text(540.5384261389784, 815.4000000000001, 'gini = 0.0\\nsamples = 3\\nvalue = [0, 0, 0, 3, 0, 0]'),\n",
       " Text(550.8099401748734, 815.4000000000001, 'X[5] <= 11.5\\ngini = 0.444\\nsamples = 3\\nvalue = [0, 2, 0, 1, 0, 0]'),\n",
       " Text(545.6741831569259, 744.4956521739131, 'gini = 0.0\\nsamples = 2\\nvalue = [0, 2, 0, 0, 0, 0]'),\n",
       " Text(555.945697192821, 744.4956521739131, 'gini = 0.0\\nsamples = 1\\nvalue = [0, 0, 0, 1, 0, 0]'),\n",
       " Text(555.945697192821, 886.304347826087, 'gini = 0.0\\nsamples = 2\\nvalue = [0, 0, 2, 0, 0, 0]'),\n",
       " Text(561.0814542107685, 957.2086956521739, 'gini = 0.0\\nsamples = 4\\nvalue = [0, 0, 4, 0, 0, 0]'),\n",
       " Text(566.217211228716, 1028.1130434782608, 'gini = 0.0\\nsamples = 5\\nvalue = [0, 0, 5, 0, 0, 0]'),\n",
       " Text(591.8959963184537, 1169.9217391304348, 'X[8] <= 3.38\\ngini = 0.681\\nsamples = 12\\nvalue = [2, 1, 4, 5, 0, 0]'),\n",
       " Text(581.6244822825587, 1099.0173913043477, 'X[9] <= 0.465\\ngini = 0.278\\nsamples = 6\\nvalue = [0, 0, 1, 5, 0, 0]'),\n",
       " Text(576.488725264611, 1028.1130434782608, 'gini = 0.0\\nsamples = 1\\nvalue = [0, 0, 1, 0, 0, 0]'),\n",
       " Text(586.7602393005062, 1028.1130434782608, 'gini = 0.0\\nsamples = 5\\nvalue = [0, 0, 0, 5, 0, 0]'),\n",
       " Text(602.1675103543488, 1099.0173913043477, 'X[2] <= 0.04\\ngini = 0.611\\nsamples = 6\\nvalue = [2, 1, 3, 0, 0, 0]'),\n",
       " Text(597.0317533364013, 1028.1130434782608, 'X[7] <= 0.996\\ngini = 0.444\\nsamples = 3\\nvalue = [2, 1, 0, 0, 0, 0]'),\n",
       " Text(591.8959963184537, 957.2086956521739, 'gini = 0.0\\nsamples = 1\\nvalue = [0, 1, 0, 0, 0, 0]'),\n",
       " Text(602.1675103543488, 957.2086956521739, 'gini = 0.0\\nsamples = 2\\nvalue = [2, 0, 0, 0, 0, 0]'),\n",
       " Text(607.3032673722963, 1028.1130434782608, 'gini = 0.0\\nsamples = 3\\nvalue = [0, 0, 3, 0, 0, 0]'),\n",
       " Text(864.2365645133456, 1382.6347826086956, 'X[7] <= 0.996\\ngini = 0.594\\nsamples = 376\\nvalue = [0, 11, 89, 214, 59, 3]'),\n",
       " Text(703.5184652554072, 1311.7304347826087, 'X[6] <= 13.5\\ngini = 0.494\\nsamples = 154\\nvalue = [0, 4, 23, 105, 21, 1]'),\n",
       " Text(645.8214450069029, 1240.8260869565217, 'X[8] <= 3.485\\ngini = 0.742\\nsamples = 16\\nvalue = [0, 3, 2, 4, 6, 1]'),\n",
       " Text(632.9820524620341, 1169.9217391304348, 'X[1] <= 0.35\\ngini = 0.562\\nsamples = 11\\nvalue = [0, 0, 0, 4, 6, 1]'),\n",
       " Text(622.7105384261389, 1099.0173913043477, 'X[7] <= 0.996\\ngini = 0.278\\nsamples = 6\\nvalue = [0, 0, 0, 0, 5, 1]'),\n",
       " Text(617.5747814081914, 1028.1130434782608, 'gini = 0.0\\nsamples = 5\\nvalue = [0, 0, 0, 0, 5, 0]'),\n",
       " Text(627.8462954440864, 1028.1130434782608, 'gini = 0.0\\nsamples = 1\\nvalue = [0, 0, 0, 0, 0, 1]'),\n",
       " Text(643.2535664979291, 1099.0173913043477, 'X[10] <= 11.45\\ngini = 0.32\\nsamples = 5\\nvalue = [0, 0, 0, 4, 1, 0]'),\n",
       " Text(638.1178094799816, 1028.1130434782608, 'gini = 0.0\\nsamples = 4\\nvalue = [0, 0, 0, 4, 0, 0]'),\n",
       " Text(648.3893235158766, 1028.1130434782608, 'gini = 0.0\\nsamples = 1\\nvalue = [0, 0, 0, 0, 1, 0]'),\n",
       " Text(658.6608375517717, 1169.9217391304348, 'X[4] <= 0.068\\ngini = 0.48\\nsamples = 5\\nvalue = [0, 3, 2, 0, 0, 0]'),\n",
       " Text(653.5250805338242, 1099.0173913043477, 'gini = 0.0\\nsamples = 2\\nvalue = [0, 0, 2, 0, 0, 0]'),\n",
       " Text(663.7965945697192, 1099.0173913043477, 'gini = 0.0\\nsamples = 3\\nvalue = [0, 3, 0, 0, 0, 0]'),\n",
       " Text(761.2154855039116, 1240.8260869565217, 'X[9] <= 0.845\\ngini = 0.429\\nsamples = 138\\nvalue = [0, 1, 21, 101, 15, 0]'),\n",
       " Text(712.2653014265991, 1169.9217391304348, 'X[7] <= 0.994\\ngini = 0.388\\nsamples = 122\\nvalue = [0, 1, 20, 93, 8, 0]'),\n",
       " Text(674.0681086056143, 1099.0173913043477, 'X[7] <= 0.994\\ngini = 0.5\\nsamples = 10\\nvalue = [0, 0, 5, 5, 0, 0]'),\n",
       " Text(668.9323515876667, 1028.1130434782608, 'X[0] <= 5.7\\ngini = 0.469\\nsamples = 8\\nvalue = [0, 0, 3, 5, 0, 0]'),\n",
       " Text(663.7965945697192, 957.2086956521739, 'gini = 0.0\\nsamples = 2\\nvalue = [0, 0, 2, 0, 0, 0]'),\n",
       " Text(674.0681086056143, 957.2086956521739, 'X[9] <= 0.56\\ngini = 0.278\\nsamples = 6\\nvalue = [0, 0, 1, 5, 0, 0]'),\n",
       " Text(668.9323515876667, 886.304347826087, 'gini = 0.0\\nsamples = 1\\nvalue = [0, 0, 1, 0, 0, 0]'),\n",
       " Text(679.2038656235618, 886.304347826087, 'gini = 0.0\\nsamples = 5\\nvalue = [0, 0, 0, 5, 0, 0]'),\n",
       " Text(679.2038656235618, 1028.1130434782608, 'gini = 0.0\\nsamples = 2\\nvalue = [0, 0, 2, 0, 0, 0]'),\n",
       " Text(750.4624942475839, 1099.0173913043477, 'X[9] <= 0.585\\ngini = 0.36\\nsamples = 112\\nvalue = [0, 1, 15, 88, 8, 0]'),\n",
       " Text(716.4381040036815, 1028.1130434782608, 'X[8] <= 3.435\\ngini = 0.541\\nsamples = 26\\nvalue = [0, 1, 7, 16, 2, 0]'),\n",
       " Text(702.3147722043258, 957.2086956521739, 'X[6] <= 18.5\\ngini = 0.458\\nsamples = 21\\nvalue = [0, 1, 3, 15, 2, 0]'),\n",
       " Text(689.475379659457, 886.304347826087, 'X[4] <= 0.078\\ngini = 0.444\\nsamples = 3\\nvalue = [0, 1, 0, 0, 2, 0]'),\n",
       " Text(684.3396226415094, 815.4000000000001, 'gini = 0.0\\nsamples = 1\\nvalue = [0, 1, 0, 0, 0, 0]'),\n",
       " Text(694.6111366774045, 815.4000000000001, 'gini = 0.0\\nsamples = 2\\nvalue = [0, 0, 0, 0, 2, 0]'),\n",
       " Text(715.1541647491946, 886.304347826087, 'X[5] <= 11.0\\ngini = 0.278\\nsamples = 18\\nvalue = [0, 0, 3, 15, 0, 0]'),\n",
       " Text(704.8826507132995, 815.4000000000001, 'X[6] <= 22.5\\ngini = 0.444\\nsamples = 3\\nvalue = [0, 0, 2, 1, 0, 0]'),\n",
       " Text(699.746893695352, 744.4956521739131, 'gini = 0.0\\nsamples = 1\\nvalue = [0, 0, 0, 1, 0, 0]'),\n",
       " Text(710.0184077312471, 744.4956521739131, 'gini = 0.0\\nsamples = 2\\nvalue = [0, 0, 2, 0, 0, 0]'),\n",
       " Text(725.4256787850896, 815.4000000000001, 'X[7] <= 0.995\\ngini = 0.124\\nsamples = 15\\nvalue = [0, 0, 1, 14, 0, 0]'),\n",
       " Text(720.2899217671421, 744.4956521739131, 'X[7] <= 0.995\\ngini = 0.444\\nsamples = 3\\nvalue = [0, 0, 1, 2, 0, 0]'),\n",
       " Text(715.1541647491946, 673.5913043478262, 'gini = 0.0\\nsamples = 2\\nvalue = [0, 0, 0, 2, 0, 0]'),\n",
       " Text(725.4256787850896, 673.5913043478262, 'gini = 0.0\\nsamples = 1\\nvalue = [0, 0, 1, 0, 0, 0]'),\n",
       " Text(730.5614358030372, 744.4956521739131, 'gini = 0.0\\nsamples = 12\\nvalue = [0, 0, 0, 12, 0, 0]'),\n",
       " Text(730.5614358030372, 957.2086956521739, 'X[9] <= 0.56\\ngini = 0.32\\nsamples = 5\\nvalue = [0, 0, 4, 1, 0, 0]'),\n",
       " Text(725.4256787850896, 886.304347826087, 'gini = 0.0\\nsamples = 1\\nvalue = [0, 0, 0, 1, 0, 0]'),\n",
       " Text(735.6971928209848, 886.304347826087, 'gini = 0.0\\nsamples = 4\\nvalue = [0, 0, 4, 0, 0, 0]'),\n",
       " Text(784.4868844914864, 1028.1130434782608, 'X[4] <= 0.076\\ngini = 0.286\\nsamples = 86\\nvalue = [0, 0, 8, 72, 6, 0]'),\n",
       " Text(779.3511274735388, 957.2086956521739, 'X[10] <= 10.85\\ngini = 0.455\\nsamples = 48\\nvalue = [0, 0, 8, 34, 6, 0]'),\n",
       " Text(756.2402208927749, 886.304347826087, 'X[4] <= 0.071\\ngini = 0.609\\nsamples = 19\\nvalue = [0, 0, 5, 10, 4, 0]'),\n",
       " Text(745.9687068568799, 815.4000000000001, 'X[8] <= 3.395\\ngini = 0.5\\nsamples = 14\\nvalue = [0, 0, 1, 9, 4, 0]'),\n",
       " Text(740.8329498389323, 744.4956521739131, 'gini = 0.0\\nsamples = 5\\nvalue = [0, 0, 0, 5, 0, 0]'),\n",
       " Text(751.1044638748274, 744.4956521739131, 'X[3] <= 1.85\\ngini = 0.593\\nsamples = 9\\nvalue = [0, 0, 1, 4, 4, 0]'),\n",
       " Text(745.9687068568799, 673.5913043478262, 'gini = 0.0\\nsamples = 3\\nvalue = [0, 0, 0, 0, 3, 0]'),\n",
       " Text(756.2402208927749, 673.5913043478262, 'X[8] <= 3.415\\ngini = 0.5\\nsamples = 6\\nvalue = [0, 0, 1, 4, 1, 0]'),\n",
       " Text(751.1044638748274, 602.6869565217391, 'gini = 0.0\\nsamples = 1\\nvalue = [0, 0, 0, 0, 1, 0]'),\n",
       " Text(761.3759779107224, 602.6869565217391, 'X[9] <= 0.755\\ngini = 0.32\\nsamples = 5\\nvalue = [0, 0, 1, 4, 0, 0]'),\n",
       " Text(756.2402208927749, 531.7826086956522, 'gini = 0.0\\nsamples = 4\\nvalue = [0, 0, 0, 4, 0, 0]'),\n",
       " Text(766.51173492867, 531.7826086956522, 'gini = 0.0\\nsamples = 1\\nvalue = [0, 0, 1, 0, 0, 0]'),\n",
       " Text(766.51173492867, 815.4000000000001, 'X[9] <= 0.745\\ngini = 0.32\\nsamples = 5\\nvalue = [0, 0, 4, 1, 0, 0]'),\n",
       " Text(761.3759779107224, 744.4956521739131, 'gini = 0.0\\nsamples = 4\\nvalue = [0, 0, 4, 0, 0, 0]'),\n",
       " Text(771.6474919466175, 744.4956521739131, 'gini = 0.0\\nsamples = 1\\nvalue = [0, 0, 0, 1, 0, 0]'),\n",
       " Text(802.4620340543028, 886.304347826087, 'X[8] <= 3.25\\ngini = 0.3\\nsamples = 29\\nvalue = [0, 0, 3, 24, 2, 0]'),\n",
       " Text(787.0547630004602, 815.4000000000001, 'X[9] <= 0.76\\ngini = 0.667\\nsamples = 6\\nvalue = [0, 0, 2, 2, 2, 0]'),\n",
       " Text(781.9190059825125, 744.4956521739131, 'gini = 0.0\\nsamples = 2\\nvalue = [0, 0, 0, 0, 2, 0]'),\n",
       " Text(792.1905200184077, 744.4956521739131, 'X[8] <= 3.165\\ngini = 0.5\\nsamples = 4\\nvalue = [0, 0, 2, 2, 0, 0]'),\n",
       " Text(787.0547630004602, 673.5913043478262, 'gini = 0.0\\nsamples = 2\\nvalue = [0, 0, 0, 2, 0, 0]'),\n",
       " Text(797.3262770363552, 673.5913043478262, 'gini = 0.0\\nsamples = 2\\nvalue = [0, 0, 2, 0, 0, 0]'),\n",
       " Text(817.8693051081453, 815.4000000000001, 'X[1] <= 0.29\\ngini = 0.083\\nsamples = 23\\nvalue = [0, 0, 1, 22, 0, 0]'),\n",
       " Text(812.7335480901978, 744.4956521739131, 'X[9] <= 0.67\\ngini = 0.5\\nsamples = 2\\nvalue = [0, 0, 1, 1, 0, 0]'),\n",
       " Text(807.5977910722503, 673.5913043478262, 'gini = 0.0\\nsamples = 1\\nvalue = [0, 0, 1, 0, 0, 0]'),\n",
       " Text(817.8693051081453, 673.5913043478262, 'gini = 0.0\\nsamples = 1\\nvalue = [0, 0, 0, 1, 0, 0]'),\n",
       " Text(823.0050621260929, 744.4956521739131, 'gini = 0.0\\nsamples = 21\\nvalue = [0, 0, 0, 21, 0, 0]'),\n",
       " Text(789.622641509434, 957.2086956521739, 'gini = 0.0\\nsamples = 38\\nvalue = [0, 0, 0, 38, 0, 0]'),\n",
       " Text(810.165669581224, 1169.9217391304348, 'X[1] <= 0.4\\ngini = 0.555\\nsamples = 16\\nvalue = [0, 0, 1, 8, 7, 0]'),\n",
       " Text(799.894155545329, 1099.0173913043477, 'X[3] <= 2.15\\ngini = 0.494\\nsamples = 9\\nvalue = [0, 0, 1, 2, 6, 0]'),\n",
       " Text(794.7583985273815, 1028.1130434782608, 'gini = 0.0\\nsamples = 6\\nvalue = [0, 0, 0, 0, 6, 0]'),\n",
       " Text(805.0299125632765, 1028.1130434782608, 'X[6] <= 63.5\\ngini = 0.444\\nsamples = 3\\nvalue = [0, 0, 1, 2, 0, 0]'),\n",
       " Text(799.894155545329, 957.2086956521739, 'gini = 0.0\\nsamples = 2\\nvalue = [0, 0, 0, 2, 0, 0]'),\n",
       " Text(810.165669581224, 957.2086956521739, 'gini = 0.0\\nsamples = 1\\nvalue = [0, 0, 1, 0, 0, 0]'),\n",
       " Text(820.4371836171191, 1099.0173913043477, 'X[3] <= 1.85\\ngini = 0.245\\nsamples = 7\\nvalue = [0, 0, 0, 6, 1, 0]'),\n",
       " Text(815.3014265991716, 1028.1130434782608, 'gini = 0.0\\nsamples = 1\\nvalue = [0, 0, 0, 0, 1, 0]'),\n",
       " Text(825.5729406350666, 1028.1130434782608, 'gini = 0.0\\nsamples = 6\\nvalue = [0, 0, 0, 6, 0, 0]'),\n",
       " Text(1024.9546637712838, 1311.7304347826087, 'X[2] <= 0.655\\ngini = 0.64\\nsamples = 222\\nvalue = [0, 7, 66, 109, 38, 2]'),\n",
       " Text(942.5117205476299, 1240.8260869565217, 'X[0] <= 7.45\\ngini = 0.625\\nsamples = 211\\nvalue = [0, 7, 64, 108, 30, 2]'),\n",
       " Text(862.8071790151863, 1169.9217391304348, 'X[10] <= 10.15\\ngini = 0.625\\nsamples = 35\\nvalue = [0, 3, 19, 8, 5, 0]'),\n",
       " Text(840.9802116889093, 1099.0173913043477, 'X[1] <= 0.445\\ngini = 0.56\\nsamples = 5\\nvalue = [0, 1, 0, 3, 1, 0]'),\n",
       " Text(835.8444546709618, 1028.1130434782608, 'gini = 0.0\\nsamples = 3\\nvalue = [0, 0, 0, 3, 0, 0]'),\n",
       " Text(846.1159687068568, 1028.1130434782608, 'X[2] <= 0.16\\ngini = 0.5\\nsamples = 2\\nvalue = [0, 1, 0, 0, 1, 0]'),\n",
       " Text(840.9802116889093, 957.2086956521739, 'gini = 0.0\\nsamples = 1\\nvalue = [0, 1, 0, 0, 0, 0]'),\n",
       " Text(851.2517257248044, 957.2086956521739, 'gini = 0.0\\nsamples = 1\\nvalue = [0, 0, 0, 0, 1, 0]'),\n",
       " Text(884.6341463414633, 1099.0173913043477, 'X[5] <= 19.5\\ngini = 0.549\\nsamples = 30\\nvalue = [0, 2, 19, 5, 4, 0]'),\n",
       " Text(871.7947537965945, 1028.1130434782608, 'X[10] <= 10.75\\ngini = 0.691\\nsamples = 18\\nvalue = [0, 2, 8, 4, 4, 0]'),\n",
       " Text(861.5232397606994, 957.2086956521739, 'X[3] <= 2.5\\ngini = 0.486\\nsamples = 12\\nvalue = [0, 0, 8, 3, 1, 0]'),\n",
       " Text(856.3874827427519, 886.304347826087, 'X[3] <= 2.0\\ngini = 0.611\\nsamples = 6\\nvalue = [0, 0, 2, 3, 1, 0]'),\n",
       " Text(851.2517257248044, 815.4000000000001, 'gini = 0.0\\nsamples = 2\\nvalue = [0, 0, 2, 0, 0, 0]'),\n",
       " Text(861.5232397606994, 815.4000000000001, 'X[10] <= 10.35\\ngini = 0.375\\nsamples = 4\\nvalue = [0, 0, 0, 3, 1, 0]'),\n",
       " Text(856.3874827427519, 744.4956521739131, 'gini = 0.0\\nsamples = 1\\nvalue = [0, 0, 0, 0, 1, 0]'),\n",
       " Text(866.658996778647, 744.4956521739131, 'gini = 0.0\\nsamples = 3\\nvalue = [0, 0, 0, 3, 0, 0]'),\n",
       " Text(866.658996778647, 886.304347826087, 'gini = 0.0\\nsamples = 6\\nvalue = [0, 0, 6, 0, 0, 0]'),\n",
       " Text(882.0662678324895, 957.2086956521739, 'X[0] <= 7.15\\ngini = 0.611\\nsamples = 6\\nvalue = [0, 2, 0, 1, 3, 0]'),\n",
       " Text(876.930510814542, 886.304347826087, 'X[7] <= 0.997\\ngini = 0.444\\nsamples = 3\\nvalue = [0, 2, 0, 1, 0, 0]'),\n",
       " Text(871.7947537965945, 815.4000000000001, 'gini = 0.0\\nsamples = 1\\nvalue = [0, 0, 0, 1, 0, 0]'),\n",
       " Text(882.0662678324895, 815.4000000000001, 'gini = 0.0\\nsamples = 2\\nvalue = [0, 2, 0, 0, 0, 0]'),\n",
       " Text(887.2020248504372, 886.304347826087, 'gini = 0.0\\nsamples = 3\\nvalue = [0, 0, 0, 0, 3, 0]'),\n",
       " Text(897.4735388863322, 1028.1130434782608, 'X[4] <= 0.057\\ngini = 0.153\\nsamples = 12\\nvalue = [0, 0, 11, 1, 0, 0]'),\n",
       " Text(892.3377818683847, 957.2086956521739, 'gini = 0.0\\nsamples = 1\\nvalue = [0, 0, 0, 1, 0, 0]'),\n",
       " Text(902.6092959042797, 957.2086956521739, 'gini = 0.0\\nsamples = 11\\nvalue = [0, 0, 11, 0, 0, 0]'),\n",
       " Text(1022.2162620800735, 1169.9217391304348, 'X[4] <= 0.093\\ngini = 0.591\\nsamples = 176\\nvalue = [0, 4, 45, 100, 25, 2]'),\n",
       " Text(966.5655200184077, 1099.0173913043477, 'X[1] <= 0.33\\ngini = 0.56\\nsamples = 135\\nvalue = [0, 3, 26, 83, 21, 2]'),\n",
       " Text(925.7202024850436, 1028.1130434782608, 'X[10] <= 10.45\\ngini = 0.571\\nsamples = 33\\nvalue = [0, 0, 3, 17, 13, 0]'),\n",
       " Text(912.8808099401748, 957.2086956521739, 'X[5] <= 10.5\\ngini = 0.406\\nsamples = 16\\nvalue = [0, 0, 2, 12, 2, 0]'),\n",
       " Text(907.7450529222273, 886.304347826087, 'X[10] <= 10.35\\ngini = 0.653\\nsamples = 7\\nvalue = [0, 0, 2, 3, 2, 0]'),\n",
       " Text(902.6092959042797, 815.4000000000001, 'X[7] <= 0.997\\ngini = 0.48\\nsamples = 5\\nvalue = [0, 0, 0, 3, 2, 0]'),\n",
       " Text(897.4735388863322, 744.4956521739131, 'gini = 0.0\\nsamples = 2\\nvalue = [0, 0, 0, 0, 2, 0]'),\n",
       " Text(907.7450529222273, 744.4956521739131, 'gini = 0.0\\nsamples = 3\\nvalue = [0, 0, 0, 3, 0, 0]'),\n",
       " Text(912.8808099401748, 815.4000000000001, 'gini = 0.0\\nsamples = 2\\nvalue = [0, 0, 2, 0, 0, 0]'),\n",
       " Text(918.0165669581223, 886.304347826087, 'gini = 0.0\\nsamples = 9\\nvalue = [0, 0, 0, 9, 0, 0]'),\n",
       " Text(938.5595950299125, 957.2086956521739, 'X[7] <= 0.998\\ngini = 0.491\\nsamples = 17\\nvalue = [0, 0, 1, 5, 11, 0]'),\n",
       " Text(928.2880809940174, 886.304347826087, 'X[9] <= 0.83\\ngini = 0.571\\nsamples = 7\\nvalue = [0, 0, 1, 4, 2, 0]'),\n",
       " Text(923.1523239760699, 815.4000000000001, 'X[9] <= 0.77\\ngini = 0.444\\nsamples = 3\\nvalue = [0, 0, 1, 0, 2, 0]'),\n",
       " Text(918.0165669581223, 744.4956521739131, 'gini = 0.0\\nsamples = 2\\nvalue = [0, 0, 0, 0, 2, 0]'),\n",
       " Text(928.2880809940174, 744.4956521739131, 'gini = 0.0\\nsamples = 1\\nvalue = [0, 0, 1, 0, 0, 0]'),\n",
       " Text(933.4238380119649, 815.4000000000001, 'gini = 0.0\\nsamples = 4\\nvalue = [0, 0, 0, 4, 0, 0]'),\n",
       " Text(948.8311090658076, 886.304347826087, 'X[9] <= 1.055\\ngini = 0.18\\nsamples = 10\\nvalue = [0, 0, 0, 1, 9, 0]'),\n",
       " Text(943.6953520478601, 815.4000000000001, 'gini = 0.0\\nsamples = 9\\nvalue = [0, 0, 0, 0, 9, 0]'),\n",
       " Text(953.9668660837551, 815.4000000000001, 'gini = 0.0\\nsamples = 1\\nvalue = [0, 0, 0, 1, 0, 0]'),\n",
       " Text(1007.4108375517717, 1028.1130434782608, 'X[6] <= 85.0\\ngini = 0.523\\nsamples = 102\\nvalue = [0, 3, 23, 66, 8, 2]'),\n",
       " Text(1002.2750805338242, 957.2086956521739, 'X[0] <= 12.05\\ngini = 0.507\\nsamples = 99\\nvalue = [0, 3, 20, 66, 8, 2]'),\n",
       " Text(984.4604233778186, 886.304347826087, 'X[3] <= 4.9\\ngini = 0.476\\nsamples = 87\\nvalue = [0, 3, 13, 61, 8, 2]'),\n",
       " Text(964.2383801196502, 815.4000000000001, 'X[10] <= 10.65\\ngini = 0.447\\nsamples = 83\\nvalue = [0, 3, 13, 60, 5, 2]'),\n",
       " Text(939.2015646571559, 744.4956521739131, 'X[3] <= 3.35\\ngini = 0.505\\nsamples = 52\\nvalue = [0, 2, 13, 34, 3, 0]'),\n",
       " Text(934.0658076392084, 673.5913043478262, 'X[3] <= 2.65\\ngini = 0.484\\nsamples = 50\\nvalue = [0, 2, 11, 34, 3, 0]'),\n",
       " Text(914.8067188219052, 602.6869565217391, 'X[3] <= 2.45\\ngini = 0.581\\nsamples = 35\\nvalue = [0, 2, 10, 20, 3, 0]'),\n",
       " Text(901.9673262770362, 531.7826086956522, 'X[5] <= 17.5\\ngini = 0.504\\nsamples = 30\\nvalue = [0, 2, 9, 19, 0, 0]'),\n",
       " Text(896.8315692590887, 460.87826086956534, 'X[5] <= 9.0\\ngini = 0.559\\nsamples = 24\\nvalue = [0, 2, 9, 13, 0, 0]'),\n",
       " Text(886.5600552231937, 389.97391304347843, 'X[7] <= 0.999\\ngini = 0.439\\nsamples = 14\\nvalue = [0, 1, 3, 10, 0, 0]'),\n",
       " Text(881.4242982052461, 319.0695652173915, 'X[9] <= 0.77\\ngini = 0.292\\nsamples = 12\\nvalue = [0, 1, 1, 10, 0, 0]'),\n",
       " Text(876.2885411872986, 248.1652173913044, 'X[0] <= 11.8\\ngini = 0.165\\nsamples = 11\\nvalue = [0, 1, 0, 10, 0, 0]'),\n",
       " Text(871.1527841693511, 177.2608695652175, 'gini = 0.0\\nsamples = 10\\nvalue = [0, 0, 0, 10, 0, 0]'),\n",
       " Text(881.4242982052461, 177.2608695652175, 'gini = 0.0\\nsamples = 1\\nvalue = [0, 1, 0, 0, 0, 0]'),\n",
       " Text(886.5600552231937, 248.1652173913044, 'gini = 0.0\\nsamples = 1\\nvalue = [0, 0, 1, 0, 0, 0]'),\n",
       " Text(891.6958122411412, 319.0695652173915, 'gini = 0.0\\nsamples = 2\\nvalue = [0, 0, 2, 0, 0, 0]'),\n",
       " Text(907.1030832949838, 389.97391304347843, 'X[6] <= 54.5\\ngini = 0.54\\nsamples = 10\\nvalue = [0, 1, 6, 3, 0, 0]'),\n",
       " Text(901.9673262770362, 319.0695652173915, 'X[2] <= 0.045\\ngini = 0.444\\nsamples = 9\\nvalue = [0, 0, 6, 3, 0, 0]'),\n",
       " Text(896.8315692590887, 248.1652173913044, 'gini = 0.0\\nsamples = 1\\nvalue = [0, 0, 0, 1, 0, 0]'),\n",
       " Text(907.1030832949838, 248.1652173913044, 'X[0] <= 10.35\\ngini = 0.375\\nsamples = 8\\nvalue = [0, 0, 6, 2, 0, 0]'),\n",
       " Text(901.9673262770362, 177.2608695652175, 'X[6] <= 41.0\\ngini = 0.245\\nsamples = 7\\nvalue = [0, 0, 6, 1, 0, 0]'),\n",
       " Text(896.8315692590887, 106.35652173913059, 'gini = 0.0\\nsamples = 5\\nvalue = [0, 0, 5, 0, 0, 0]'),\n",
       " Text(907.1030832949838, 106.35652173913059, 'X[4] <= 0.08\\ngini = 0.5\\nsamples = 2\\nvalue = [0, 0, 1, 1, 0, 0]'),\n",
       " Text(901.9673262770362, 35.45217391304368, 'gini = 0.0\\nsamples = 1\\nvalue = [0, 0, 1, 0, 0, 0]'),\n",
       " Text(912.2388403129314, 35.45217391304368, 'gini = 0.0\\nsamples = 1\\nvalue = [0, 0, 0, 1, 0, 0]'),\n",
       " Text(912.2388403129314, 177.2608695652175, 'gini = 0.0\\nsamples = 1\\nvalue = [0, 0, 0, 1, 0, 0]'),\n",
       " Text(912.2388403129314, 319.0695652173915, 'gini = 0.0\\nsamples = 1\\nvalue = [0, 1, 0, 0, 0, 0]'),\n",
       " Text(907.1030832949838, 460.87826086956534, 'gini = 0.0\\nsamples = 6\\nvalue = [0, 0, 0, 6, 0, 0]'),\n",
       " Text(927.646111366774, 531.7826086956522, 'X[4] <= 0.089\\ngini = 0.56\\nsamples = 5\\nvalue = [0, 0, 1, 1, 3, 0]'),\n",
       " Text(922.5103543488265, 460.87826086956534, 'X[1] <= 0.575\\ngini = 0.5\\nsamples = 2\\nvalue = [0, 0, 1, 1, 0, 0]'),\n",
       " Text(917.3745973308789, 389.97391304347843, 'gini = 0.0\\nsamples = 1\\nvalue = [0, 0, 0, 1, 0, 0]'),\n",
       " Text(927.646111366774, 389.97391304347843, 'gini = 0.0\\nsamples = 1\\nvalue = [0, 0, 1, 0, 0, 0]'),\n",
       " Text(932.7818683847215, 460.87826086956534, 'gini = 0.0\\nsamples = 3\\nvalue = [0, 0, 0, 0, 3, 0]'),\n",
       " Text(953.3248964565116, 602.6869565217391, 'X[0] <= 7.9\\ngini = 0.124\\nsamples = 15\\nvalue = [0, 0, 1, 14, 0, 0]'),\n",
       " Text(948.1891394385641, 531.7826086956522, 'X[7] <= 0.997\\ngini = 0.444\\nsamples = 3\\nvalue = [0, 0, 1, 2, 0, 0]'),\n",
       " Text(943.0533824206166, 460.87826086956534, 'gini = 0.0\\nsamples = 2\\nvalue = [0, 0, 0, 2, 0, 0]'),\n",
       " Text(953.3248964565116, 460.87826086956534, 'gini = 0.0\\nsamples = 1\\nvalue = [0, 0, 1, 0, 0, 0]'),\n",
       " Text(958.4606534744591, 531.7826086956522, 'gini = 0.0\\nsamples = 12\\nvalue = [0, 0, 0, 12, 0, 0]'),\n",
       " Text(944.3373216751035, 673.5913043478262, 'gini = 0.0\\nsamples = 2\\nvalue = [0, 0, 2, 0, 0, 0]'),\n",
       " Text(989.2751955821444, 744.4956521739131, 'X[4] <= 0.071\\ngini = 0.287\\nsamples = 31\\nvalue = [0, 1, 0, 26, 2, 2]'),\n",
       " Text(979.0036815462494, 673.5913043478262, 'X[9] <= 0.675\\ngini = 0.694\\nsamples = 7\\nvalue = [0, 1, 0, 3, 1, 2]'),\n",
       " Text(973.8679245283018, 602.6869565217391, 'X[0] <= 9.7\\ngini = 0.625\\nsamples = 4\\nvalue = [0, 1, 0, 0, 1, 2]'),\n",
       " Text(968.7321675103543, 531.7826086956522, 'X[3] <= 2.65\\ngini = 0.5\\nsamples = 2\\nvalue = [0, 1, 0, 0, 1, 0]'),\n",
       " Text(963.5964104924068, 460.87826086956534, 'gini = 0.0\\nsamples = 1\\nvalue = [0, 1, 0, 0, 0, 0]'),\n",
       " Text(973.8679245283018, 460.87826086956534, 'gini = 0.0\\nsamples = 1\\nvalue = [0, 0, 0, 0, 1, 0]'),\n",
       " Text(979.0036815462494, 531.7826086956522, 'gini = 0.0\\nsamples = 2\\nvalue = [0, 0, 0, 0, 0, 2]'),\n",
       " Text(984.1394385641969, 602.6869565217391, 'gini = 0.0\\nsamples = 3\\nvalue = [0, 0, 0, 3, 0, 0]'),\n",
       " Text(999.5467096180395, 673.5913043478262, 'X[2] <= 0.56\\ngini = 0.08\\nsamples = 24\\nvalue = [0, 0, 0, 23, 1, 0]'),\n",
       " Text(994.410952600092, 602.6869565217391, 'gini = 0.0\\nsamples = 20\\nvalue = [0, 0, 0, 20, 0, 0]'),\n",
       " Text(1004.682466635987, 602.6869565217391, 'X[2] <= 0.58\\ngini = 0.375\\nsamples = 4\\nvalue = [0, 0, 0, 3, 1, 0]'),\n",
       " Text(999.5467096180395, 531.7826086956522, 'gini = 0.0\\nsamples = 1\\nvalue = [0, 0, 0, 0, 1, 0]'),\n",
       " Text(1009.8182236539345, 531.7826086956522, 'gini = 0.0\\nsamples = 3\\nvalue = [0, 0, 0, 3, 0, 0]'),\n",
       " Text(1004.682466635987, 815.4000000000001, 'X[6] <= 28.0\\ngini = 0.375\\nsamples = 4\\nvalue = [0, 0, 0, 1, 3, 0]'),\n",
       " Text(999.5467096180395, 744.4956521739131, 'gini = 0.0\\nsamples = 1\\nvalue = [0, 0, 0, 1, 0, 0]'),\n",
       " Text(1009.8182236539345, 744.4956521739131, 'gini = 0.0\\nsamples = 3\\nvalue = [0, 0, 0, 0, 3, 0]'),\n",
       " Text(1020.0897376898297, 886.304347826087, 'X[3] <= 2.45\\ngini = 0.486\\nsamples = 12\\nvalue = [0, 0, 7, 5, 0, 0]'),\n",
       " Text(1014.9539806718822, 815.4000000000001, 'gini = 0.0\\nsamples = 4\\nvalue = [0, 0, 4, 0, 0, 0]'),\n",
       " Text(1025.2254947077772, 815.4000000000001, 'X[6] <= 19.5\\ngini = 0.469\\nsamples = 8\\nvalue = [0, 0, 3, 5, 0, 0]'),\n",
       " Text(1020.0897376898297, 744.4956521739131, 'gini = 0.0\\nsamples = 2\\nvalue = [0, 0, 2, 0, 0, 0]'),\n",
       " Text(1030.3612517257247, 744.4956521739131, 'X[5] <= 29.0\\ngini = 0.278\\nsamples = 6\\nvalue = [0, 0, 1, 5, 0, 0]'),\n",
       " Text(1025.2254947077772, 673.5913043478262, 'gini = 0.0\\nsamples = 5\\nvalue = [0, 0, 0, 5, 0, 0]'),\n",
       " Text(1035.4970087436723, 673.5913043478262, 'gini = 0.0\\nsamples = 1\\nvalue = [0, 0, 1, 0, 0, 0]'),\n",
       " Text(1012.5465945697192, 957.2086956521739, 'gini = 0.0\\nsamples = 3\\nvalue = [0, 0, 3, 0, 0, 0]'),\n",
       " Text(1077.8670041417395, 1099.0173913043477, 'X[9] <= 0.75\\ngini = 0.603\\nsamples = 41\\nvalue = [0, 1, 19, 17, 4, 0]'),\n",
       " Text(1053.4721583064886, 1028.1130434782608, 'X[2] <= 0.285\\ngini = 0.558\\nsamples = 30\\nvalue = [0, 1, 18, 8, 3, 0]'),\n",
       " Text(1035.4970087436723, 957.2086956521739, 'X[9] <= 0.635\\ngini = 0.611\\nsamples = 6\\nvalue = [0, 1, 0, 3, 2, 0]'),\n",
       " Text(1030.3612517257247, 886.304347826087, 'gini = 0.0\\nsamples = 3\\nvalue = [0, 0, 0, 3, 0, 0]'),\n",
       " Text(1040.6327657616198, 886.304347826087, 'X[7] <= 1.0\\ngini = 0.444\\nsamples = 3\\nvalue = [0, 1, 0, 0, 2, 0]'),\n",
       " Text(1035.4970087436723, 815.4000000000001, 'gini = 0.0\\nsamples = 2\\nvalue = [0, 0, 0, 0, 2, 0]'),\n",
       " Text(1045.7685227795673, 815.4000000000001, 'gini = 0.0\\nsamples = 1\\nvalue = [0, 1, 0, 0, 0, 0]'),\n",
       " Text(1071.447307869305, 957.2086956521739, 'X[6] <= 54.5\\ngini = 0.392\\nsamples = 24\\nvalue = [0, 0, 18, 5, 1, 0]'),\n",
       " Text(1061.17579383341, 886.304347826087, 'X[10] <= 10.1\\ngini = 0.265\\nsamples = 20\\nvalue = [0, 0, 17, 2, 1, 0]'),\n",
       " Text(1056.0400368154624, 815.4000000000001, 'gini = 0.0\\nsamples = 1\\nvalue = [0, 0, 0, 0, 1, 0]'),\n",
       " Text(1066.3115508513574, 815.4000000000001, 'X[5] <= 3.5\\ngini = 0.188\\nsamples = 19\\nvalue = [0, 0, 17, 2, 0, 0]'),\n",
       " Text(1061.17579383341, 744.4956521739131, 'gini = 0.0\\nsamples = 1\\nvalue = [0, 0, 0, 1, 0, 0]'),\n",
       " Text(1071.447307869305, 744.4956521739131, 'X[4] <= 0.094\\ngini = 0.105\\nsamples = 18\\nvalue = [0, 0, 17, 1, 0, 0]'),\n",
       " Text(1066.3115508513574, 673.5913043478262, 'X[3] <= 2.15\\ngini = 0.444\\nsamples = 3\\nvalue = [0, 0, 2, 1, 0, 0]'),\n",
       " Text(1061.17579383341, 602.6869565217391, 'gini = 0.0\\nsamples = 1\\nvalue = [0, 0, 0, 1, 0, 0]'),\n",
       " Text(1071.447307869305, 602.6869565217391, 'gini = 0.0\\nsamples = 2\\nvalue = [0, 0, 2, 0, 0, 0]'),\n",
       " Text(1076.5830648872525, 673.5913043478262, 'gini = 0.0\\nsamples = 15\\nvalue = [0, 0, 15, 0, 0, 0]'),\n",
       " Text(1081.7188219052, 886.304347826087, 'X[10] <= 10.05\\ngini = 0.375\\nsamples = 4\\nvalue = [0, 0, 1, 3, 0, 0]'),\n",
       " Text(1076.5830648872525, 815.4000000000001, 'gini = 0.0\\nsamples = 1\\nvalue = [0, 0, 1, 0, 0, 0]'),\n",
       " Text(1086.8545789231475, 815.4000000000001, 'gini = 0.0\\nsamples = 3\\nvalue = [0, 0, 0, 3, 0, 0]'),\n",
       " Text(1102.2618499769903, 1028.1130434782608, 'X[8] <= 3.32\\ngini = 0.314\\nsamples = 11\\nvalue = [0, 0, 1, 9, 1, 0]'),\n",
       " Text(1097.1260929590428, 957.2086956521739, 'X[1] <= 0.822\\ngini = 0.18\\nsamples = 10\\nvalue = [0, 0, 1, 9, 0, 0]'),\n",
       " Text(1091.9903359410953, 886.304347826087, 'gini = 0.0\\nsamples = 9\\nvalue = [0, 0, 0, 9, 0, 0]'),\n",
       " Text(1102.2618499769903, 886.304347826087, 'gini = 0.0\\nsamples = 1\\nvalue = [0, 0, 1, 0, 0, 0]'),\n",
       " Text(1107.3976069949379, 957.2086956521739, 'gini = 0.0\\nsamples = 1\\nvalue = [0, 0, 0, 0, 1, 0]'),\n",
       " Text(1107.3976069949379, 1240.8260869565217, 'X[9] <= 0.625\\ngini = 0.43\\nsamples = 11\\nvalue = [0, 0, 2, 1, 8, 0]'),\n",
       " Text(1102.2618499769903, 1169.9217391304348, 'gini = 0.0\\nsamples = 2\\nvalue = [0, 0, 2, 0, 0, 0]'),\n",
       " Text(1112.5333640128854, 1169.9217391304348, 'X[5] <= 14.5\\ngini = 0.198\\nsamples = 9\\nvalue = [0, 0, 0, 1, 8, 0]'),\n",
       " Text(1107.3976069949379, 1099.0173913043477, 'gini = 0.0\\nsamples = 7\\nvalue = [0, 0, 0, 0, 7, 0]'),\n",
       " Text(1117.669121030833, 1099.0173913043477, 'X[0] <= 13.5\\ngini = 0.5\\nsamples = 2\\nvalue = [0, 0, 0, 1, 1, 0]'),\n",
       " Text(1112.5333640128854, 1028.1130434782608, 'gini = 0.0\\nsamples = 1\\nvalue = [0, 0, 0, 0, 1, 0]'),\n",
       " Text(1122.8048780487804, 1028.1130434782608, 'gini = 0.0\\nsamples = 1\\nvalue = [0, 0, 0, 1, 0, 0]'),\n",
       " Text(1260.5073630924987, 1453.5391304347827, 'X[9] <= 0.7\\ngini = 0.614\\nsamples = 168\\nvalue = [0, 2, 10, 77, 69, 10]'),\n",
       " Text(1189.5697192820985, 1382.6347826086956, 'X[6] <= 19.5\\ngini = 0.588\\nsamples = 91\\nvalue = [0, 2, 8, 52, 25, 4]'),\n",
       " Text(1163.8909341923606, 1311.7304347826087, 'X[9] <= 0.68\\ngini = 0.64\\nsamples = 29\\nvalue = [0, 1, 2, 8, 15, 3]'),\n",
       " Text(1158.7551771744131, 1240.8260869565217, 'X[9] <= 0.545\\ngini = 0.565\\nsamples = 26\\nvalue = [0, 1, 2, 8, 15, 0]'),\n",
       " Text(1143.3479061205705, 1169.9217391304348, 'X[3] <= 3.85\\ngini = 0.56\\nsamples = 10\\nvalue = [0, 0, 2, 6, 2, 0]'),\n",
       " Text(1138.212149102623, 1099.0173913043477, 'X[9] <= 0.385\\ngini = 0.375\\nsamples = 8\\nvalue = [0, 0, 2, 6, 0, 0]'),\n",
       " Text(1133.0763920846755, 1028.1130434782608, 'gini = 0.0\\nsamples = 1\\nvalue = [0, 0, 1, 0, 0, 0]'),\n",
       " Text(1143.3479061205705, 1028.1130434782608, 'X[8] <= 3.52\\ngini = 0.245\\nsamples = 7\\nvalue = [0, 0, 1, 6, 0, 0]'),\n",
       " Text(1138.212149102623, 957.2086956521739, 'gini = 0.0\\nsamples = 6\\nvalue = [0, 0, 0, 6, 0, 0]'),\n",
       " Text(1148.483663138518, 957.2086956521739, 'gini = 0.0\\nsamples = 1\\nvalue = [0, 0, 1, 0, 0, 0]'),\n",
       " Text(1148.483663138518, 1099.0173913043477, 'gini = 0.0\\nsamples = 2\\nvalue = [0, 0, 0, 0, 2, 0]'),\n",
       " Text(1174.1624482282557, 1169.9217391304348, 'X[3] <= 5.5\\ngini = 0.32\\nsamples = 16\\nvalue = [0, 1, 0, 2, 13, 0]'),\n",
       " Text(1169.0266912103082, 1099.0173913043477, 'X[9] <= 0.665\\ngini = 0.231\\nsamples = 15\\nvalue = [0, 0, 0, 2, 13, 0]'),\n",
       " Text(1163.8909341923606, 1028.1130434782608, 'X[2] <= 0.645\\ngini = 0.133\\nsamples = 14\\nvalue = [0, 0, 0, 1, 13, 0]'),\n",
       " Text(1158.7551771744131, 957.2086956521739, 'gini = 0.0\\nsamples = 13\\nvalue = [0, 0, 0, 0, 13, 0]'),\n",
       " Text(1169.0266912103082, 957.2086956521739, 'gini = 0.0\\nsamples = 1\\nvalue = [0, 0, 0, 1, 0, 0]'),\n",
       " Text(1174.1624482282557, 1028.1130434782608, 'gini = 0.0\\nsamples = 1\\nvalue = [0, 0, 0, 1, 0, 0]'),\n",
       " Text(1179.2982052462032, 1099.0173913043477, 'gini = 0.0\\nsamples = 1\\nvalue = [0, 1, 0, 0, 0, 0]'),\n",
       " Text(1169.0266912103082, 1240.8260869565217, 'gini = 0.0\\nsamples = 3\\nvalue = [0, 0, 0, 0, 0, 3]'),\n",
       " Text(1215.2485043718361, 1311.7304347826087, 'X[4] <= 0.023\\ngini = 0.46\\nsamples = 62\\nvalue = [0, 1, 6, 44, 10, 1]'),\n",
       " Text(1210.1127473538886, 1240.8260869565217, 'gini = 0.0\\nsamples = 2\\nvalue = [0, 0, 0, 0, 2, 0]'),\n",
       " Text(1220.3842613897837, 1240.8260869565217, 'X[1] <= 0.553\\ngini = 0.434\\nsamples = 60\\nvalue = [0, 1, 6, 44, 8, 1]'),\n",
       " Text(1199.8412333179936, 1169.9217391304348, 'X[5] <= 41.25\\ngini = 0.328\\nsamples = 47\\nvalue = [0, 0, 2, 38, 6, 1]'),\n",
       " Text(1194.705476300046, 1099.0173913043477, 'X[7] <= 0.999\\ngini = 0.299\\nsamples = 46\\nvalue = [0, 0, 2, 38, 6, 0]'),\n",
       " Text(1184.4339622641508, 1028.1130434782608, 'X[6] <= 227.0\\ngini = 0.249\\nsamples = 43\\nvalue = [0, 0, 2, 37, 4, 0]'),\n",
       " Text(1179.2982052462032, 957.2086956521739, 'X[0] <= 5.65\\ngini = 0.217\\nsamples = 42\\nvalue = [0, 0, 2, 37, 3, 0]'),\n",
       " Text(1161.3230556833869, 886.304347826087, 'X[5] <= 18.5\\ngini = 0.5\\nsamples = 4\\nvalue = [0, 0, 0, 2, 2, 0]'),\n",
       " Text(1156.1872986654394, 815.4000000000001, 'gini = 0.0\\nsamples = 1\\nvalue = [0, 0, 0, 1, 0, 0]'),\n",
       " Text(1166.4588127013344, 815.4000000000001, 'X[1] <= 0.485\\ngini = 0.444\\nsamples = 3\\nvalue = [0, 0, 0, 1, 2, 0]'),\n",
       " Text(1161.3230556833869, 744.4956521739131, 'gini = 0.0\\nsamples = 2\\nvalue = [0, 0, 0, 0, 2, 0]'),\n",
       " Text(1171.594569719282, 744.4956521739131, 'gini = 0.0\\nsamples = 1\\nvalue = [0, 0, 0, 1, 0, 0]'),\n",
       " Text(1197.2733548090198, 886.304347826087, 'X[1] <= 0.325\\ngini = 0.148\\nsamples = 38\\nvalue = [0, 0, 2, 35, 1, 0]'),\n",
       " Text(1192.1375977910723, 815.4000000000001, 'X[1] <= 0.29\\ngini = 0.43\\nsamples = 11\\nvalue = [0, 0, 2, 8, 1, 0]'),\n",
       " Text(1181.866083755177, 744.4956521739131, 'X[0] <= 10.95\\ngini = 0.198\\nsamples = 9\\nvalue = [0, 0, 1, 8, 0, 0]'),\n",
       " Text(1176.7303267372295, 673.5913043478262, 'gini = 0.0\\nsamples = 8\\nvalue = [0, 0, 0, 8, 0, 0]'),\n",
       " Text(1187.0018407731245, 673.5913043478262, 'gini = 0.0\\nsamples = 1\\nvalue = [0, 0, 1, 0, 0, 0]'),\n",
       " Text(1202.4091118269673, 744.4956521739131, 'X[5] <= 18.0\\ngini = 0.5\\nsamples = 2\\nvalue = [0, 0, 1, 0, 1, 0]'),\n",
       " Text(1197.2733548090198, 673.5913043478262, 'gini = 0.0\\nsamples = 1\\nvalue = [0, 0, 1, 0, 0, 0]'),\n",
       " Text(1207.5448688449148, 673.5913043478262, 'gini = 0.0\\nsamples = 1\\nvalue = [0, 0, 0, 0, 1, 0]'),\n",
       " Text(1202.4091118269673, 815.4000000000001, 'gini = 0.0\\nsamples = 27\\nvalue = [0, 0, 0, 27, 0, 0]'),\n",
       " Text(1189.5697192820985, 957.2086956521739, 'gini = 0.0\\nsamples = 1\\nvalue = [0, 0, 0, 0, 1, 0]'),\n",
       " Text(1204.976990335941, 1028.1130434782608, 'X[7] <= 1.002\\ngini = 0.444\\nsamples = 3\\nvalue = [0, 0, 0, 1, 2, 0]'),\n",
       " Text(1199.8412333179936, 957.2086956521739, 'gini = 0.0\\nsamples = 2\\nvalue = [0, 0, 0, 0, 2, 0]'),\n",
       " Text(1210.1127473538886, 957.2086956521739, 'gini = 0.0\\nsamples = 1\\nvalue = [0, 0, 0, 1, 0, 0]'),\n",
       " Text(1204.976990335941, 1099.0173913043477, 'gini = 0.0\\nsamples = 1\\nvalue = [0, 0, 0, 0, 0, 1]'),\n",
       " Text(1240.9272894615738, 1169.9217391304348, 'X[2] <= 0.04\\ngini = 0.663\\nsamples = 13\\nvalue = [0, 1, 4, 6, 2, 0]'),\n",
       " Text(1230.6557754256787, 1099.0173913043477, 'X[3] <= 3.75\\ngini = 0.406\\nsamples = 8\\nvalue = [0, 1, 0, 6, 1, 0]'),\n",
       " Text(1225.5200184077312, 1028.1130434782608, 'X[5] <= 31.5\\ngini = 0.245\\nsamples = 7\\nvalue = [0, 0, 0, 6, 1, 0]'),\n",
       " Text(1220.3842613897837, 957.2086956521739, 'gini = 0.0\\nsamples = 6\\nvalue = [0, 0, 0, 6, 0, 0]'),\n",
       " Text(1230.6557754256787, 957.2086956521739, 'gini = 0.0\\nsamples = 1\\nvalue = [0, 0, 0, 0, 1, 0]'),\n",
       " Text(1235.7915324436262, 1028.1130434782608, 'gini = 0.0\\nsamples = 1\\nvalue = [0, 1, 0, 0, 0, 0]'),\n",
       " Text(1251.1988034974688, 1099.0173913043477, 'X[9] <= 0.61\\ngini = 0.32\\nsamples = 5\\nvalue = [0, 0, 4, 0, 1, 0]'),\n",
       " Text(1246.0630464795213, 1028.1130434782608, 'gini = 0.0\\nsamples = 4\\nvalue = [0, 0, 4, 0, 0, 0]'),\n",
       " Text(1256.3345605154163, 1028.1130434782608, 'gini = 0.0\\nsamples = 1\\nvalue = [0, 0, 0, 0, 1, 0]'),\n",
       " Text(1331.4450069028992, 1382.6347826086956, 'X[5] <= 18.5\\ngini = 0.561\\nsamples = 77\\nvalue = [0, 0, 2, 25, 44, 6]'),\n",
       " Text(1293.568798895536, 1311.7304347826087, 'X[3] <= 2.55\\ngini = 0.424\\nsamples = 51\\nvalue = [0, 0, 0, 11, 37, 3]'),\n",
       " Text(1271.741831569259, 1240.8260869565217, 'X[7] <= 0.996\\ngini = 0.225\\nsamples = 32\\nvalue = [0, 0, 0, 3, 28, 1]'),\n",
       " Text(1266.6060745513114, 1169.9217391304348, 'X[5] <= 3.5\\ngini = 0.127\\nsamples = 30\\nvalue = [0, 0, 0, 1, 28, 1]'),\n",
       " Text(1261.4703175333639, 1099.0173913043477, 'gini = 0.0\\nsamples = 1\\nvalue = [0, 0, 0, 1, 0, 0]'),\n",
       " Text(1271.741831569259, 1099.0173913043477, 'X[1] <= 0.843\\ngini = 0.067\\nsamples = 29\\nvalue = [0, 0, 0, 0, 28, 1]'),\n",
       " Text(1266.6060745513114, 1028.1130434782608, 'gini = 0.0\\nsamples = 28\\nvalue = [0, 0, 0, 0, 28, 0]'),\n",
       " Text(1276.8775885872064, 1028.1130434782608, 'gini = 0.0\\nsamples = 1\\nvalue = [0, 0, 0, 0, 0, 1]'),\n",
       " Text(1276.8775885872064, 1169.9217391304348, 'gini = 0.0\\nsamples = 2\\nvalue = [0, 0, 0, 2, 0, 0]'),\n",
       " Text(1315.3957662218131, 1240.8260869565217, 'X[9] <= 0.925\\ngini = 0.587\\nsamples = 19\\nvalue = [0, 0, 0, 8, 9, 2]'),\n",
       " Text(1302.5563736769443, 1169.9217391304348, 'X[5] <= 13.5\\ngini = 0.571\\nsamples = 14\\nvalue = [0, 0, 0, 4, 8, 2]'),\n",
       " Text(1292.2848596410493, 1099.0173913043477, 'X[6] <= 18.5\\ngini = 0.43\\nsamples = 11\\nvalue = [0, 0, 0, 2, 8, 1]'),\n",
       " Text(1287.1491026231015, 1028.1130434782608, 'X[1] <= 0.395\\ngini = 0.625\\nsamples = 4\\nvalue = [0, 0, 0, 2, 1, 1]'),\n",
       " Text(1282.013345605154, 957.2086956521739, 'X[8] <= 3.225\\ngini = 0.5\\nsamples = 2\\nvalue = [0, 0, 0, 0, 1, 1]'),\n",
       " Text(1276.8775885872064, 886.304347826087, 'gini = 0.0\\nsamples = 1\\nvalue = [0, 0, 0, 0, 0, 1]'),\n",
       " Text(1287.1491026231015, 886.304347826087, 'gini = 0.0\\nsamples = 1\\nvalue = [0, 0, 0, 0, 1, 0]'),\n",
       " Text(1292.2848596410493, 957.2086956521739, 'gini = 0.0\\nsamples = 2\\nvalue = [0, 0, 0, 2, 0, 0]'),\n",
       " Text(1297.4206166589968, 1028.1130434782608, 'gini = 0.0\\nsamples = 7\\nvalue = [0, 0, 0, 0, 7, 0]'),\n",
       " Text(1312.8278877128394, 1099.0173913043477, 'X[2] <= 0.4\\ngini = 0.444\\nsamples = 3\\nvalue = [0, 0, 0, 2, 0, 1]'),\n",
       " Text(1307.6921306948918, 1028.1130434782608, 'gini = 0.0\\nsamples = 2\\nvalue = [0, 0, 0, 2, 0, 0]'),\n",
       " Text(1317.9636447307869, 1028.1130434782608, 'gini = 0.0\\nsamples = 1\\nvalue = [0, 0, 0, 0, 0, 1]'),\n",
       " Text(1328.235158766682, 1169.9217391304348, 'X[8] <= 3.275\\ngini = 0.32\\nsamples = 5\\nvalue = [0, 0, 0, 4, 1, 0]'),\n",
       " Text(1323.0994017487344, 1099.0173913043477, 'gini = 0.0\\nsamples = 4\\nvalue = [0, 0, 0, 4, 0, 0]'),\n",
       " Text(1333.3709157846295, 1099.0173913043477, 'gini = 0.0\\nsamples = 1\\nvalue = [0, 0, 0, 0, 1, 0]'),\n",
       " Text(1369.3212149102621, 1311.7304347826087, 'X[8] <= 3.36\\ngini = 0.618\\nsamples = 26\\nvalue = [0, 0, 2, 14, 7, 3]'),\n",
       " Text(1359.049700874367, 1240.8260869565217, 'X[10] <= 12.95\\ngini = 0.602\\nsamples = 14\\nvalue = [0, 0, 2, 5, 7, 0]'),\n",
       " Text(1353.9139438564196, 1169.9217391304348, 'X[7] <= 0.995\\ngini = 0.486\\nsamples = 12\\nvalue = [0, 0, 0, 5, 7, 0]'),\n",
       " Text(1343.6424298205245, 1099.0173913043477, 'X[8] <= 3.345\\ngini = 0.32\\nsamples = 5\\nvalue = [0, 0, 0, 4, 1, 0]'),\n",
       " Text(1338.506672802577, 1028.1130434782608, 'gini = 0.0\\nsamples = 4\\nvalue = [0, 0, 0, 4, 0, 0]'),\n",
       " Text(1348.778186838472, 1028.1130434782608, 'gini = 0.0\\nsamples = 1\\nvalue = [0, 0, 0, 0, 1, 0]'),\n",
       " Text(1364.1854578923146, 1099.0173913043477, 'X[8] <= 3.31\\ngini = 0.245\\nsamples = 7\\nvalue = [0, 0, 0, 1, 6, 0]'),\n",
       " Text(1359.049700874367, 1028.1130434782608, 'gini = 0.0\\nsamples = 5\\nvalue = [0, 0, 0, 0, 5, 0]'),\n",
       " Text(1369.3212149102621, 1028.1130434782608, 'X[7] <= 0.996\\ngini = 0.5\\nsamples = 2\\nvalue = [0, 0, 0, 1, 1, 0]'),\n",
       " Text(1364.1854578923146, 957.2086956521739, 'gini = 0.0\\nsamples = 1\\nvalue = [0, 0, 0, 0, 1, 0]'),\n",
       " Text(1374.4569719282097, 957.2086956521739, 'gini = 0.0\\nsamples = 1\\nvalue = [0, 0, 0, 1, 0, 0]'),\n",
       " Text(1364.1854578923146, 1169.9217391304348, 'gini = 0.0\\nsamples = 2\\nvalue = [0, 0, 2, 0, 0, 0]'),\n",
       " Text(1379.5927289461572, 1240.8260869565217, 'X[10] <= 12.55\\ngini = 0.375\\nsamples = 12\\nvalue = [0, 0, 0, 9, 0, 3]'),\n",
       " Text(1374.4569719282097, 1169.9217391304348, 'gini = 0.0\\nsamples = 7\\nvalue = [0, 0, 0, 7, 0, 0]'),\n",
       " Text(1384.7284859641047, 1169.9217391304348, 'X[1] <= 0.4\\ngini = 0.48\\nsamples = 5\\nvalue = [0, 0, 0, 2, 0, 3]'),\n",
       " Text(1379.5927289461572, 1099.0173913043477, 'gini = 0.0\\nsamples = 2\\nvalue = [0, 0, 0, 2, 0, 0]'),\n",
       " Text(1389.8642429820522, 1099.0173913043477, 'gini = 0.0\\nsamples = 3\\nvalue = [0, 0, 0, 0, 0, 3]')]"
      ]
     },
     "execution_count": 24,
     "metadata": {},
     "output_type": "execute_result"
    },
    {
     "data": {
      "image/png": "[encoded data removed]",
      "text/plain": [
       "<Figure size 1800x2160 with 1 Axes>"
      ]
     },
     "metadata": {
      "needs_background": "light"
     },
     "output_type": "display_data"
    }
   ],
   "source": [
    "from sklearn import tree\n",
    "plt.figure(figsize=(25,30))\n",
    "tree.plot_tree(clf,filled=True)\n"
   ]
  },
  {
   "cell_type": "code",
   "execution_count": 15,
   "metadata": {},
   "outputs": [],
   "source": [
    "# create a dot_file which stores the tree structure\n",
    "dot_data = export_graphviz(clf,feature_names = feature_name,rounded = True,filled = True)"
   ]
  },
  {
   "cell_type": "code",
   "execution_count": 16,
   "metadata": {},
   "outputs": [],
   "source": [
    "# Draw graph\n",
    "graph = pydotplus.graph_from_dot_data(dot_data)"
   ]
  },
  {
   "cell_type": "code",
   "execution_count": 17,
   "metadata": {},
   "outputs": [
    {
     "ename": "InvocationException",
     "evalue": "GraphViz's executables not found",
     "output_type": "error",
     "traceback": [
      "\u001b[1;31m---------------------------------------------------------------------------\u001b[0m",
      "\u001b[1;31mInvocationException\u001b[0m                       Traceback (most recent call last)",
      "\u001b[1;32m<ipython-input-17-a75d3e00c0fe>\u001b[0m in \u001b[0;36m<module>\u001b[1;34m\u001b[0m\n\u001b[1;32m----> 1\u001b[1;33m \u001b[0mgraph\u001b[0m\u001b[1;33m.\u001b[0m\u001b[0mwrite_png\u001b[0m\u001b[1;33m(\u001b[0m\u001b[1;34m\"myTree.png\"\u001b[0m\u001b[1;33m)\u001b[0m\u001b[1;33m\u001b[0m\u001b[1;33m\u001b[0m\u001b[0m\n\u001b[0m",
      "\u001b[1;32mC:\\ProgramData\\Anaconda3\\lib\\site-packages\\pydotplus\\graphviz.py\u001b[0m in \u001b[0;36m<lambda>\u001b[1;34m(path, f, prog)\u001b[0m\n\u001b[0;32m   1808\u001b[0m                 \u001b[1;32mlambda\u001b[0m \u001b[0mpath\u001b[0m\u001b[1;33m,\u001b[0m\u001b[1;33m\u001b[0m\u001b[1;33m\u001b[0m\u001b[0m\n\u001b[0;32m   1809\u001b[0m                 \u001b[0mf\u001b[0m\u001b[1;33m=\u001b[0m\u001b[0mfrmt\u001b[0m\u001b[1;33m,\u001b[0m\u001b[1;33m\u001b[0m\u001b[1;33m\u001b[0m\u001b[0m\n\u001b[1;32m-> 1810\u001b[1;33m                 \u001b[0mprog\u001b[0m\u001b[1;33m=\u001b[0m\u001b[0mself\u001b[0m\u001b[1;33m.\u001b[0m\u001b[0mprog\u001b[0m\u001b[1;33m:\u001b[0m \u001b[0mself\u001b[0m\u001b[1;33m.\u001b[0m\u001b[0mwrite\u001b[0m\u001b[1;33m(\u001b[0m\u001b[0mpath\u001b[0m\u001b[1;33m,\u001b[0m \u001b[0mformat\u001b[0m\u001b[1;33m=\u001b[0m\u001b[0mf\u001b[0m\u001b[1;33m,\u001b[0m \u001b[0mprog\u001b[0m\u001b[1;33m=\u001b[0m\u001b[0mprog\u001b[0m\u001b[1;33m)\u001b[0m\u001b[1;33m\u001b[0m\u001b[1;33m\u001b[0m\u001b[0m\n\u001b[0m\u001b[0;32m   1811\u001b[0m             )\n\u001b[0;32m   1812\u001b[0m \u001b[1;33m\u001b[0m\u001b[0m\n",
      "\u001b[1;32mC:\\ProgramData\\Anaconda3\\lib\\site-packages\\pydotplus\\graphviz.py\u001b[0m in \u001b[0;36mwrite\u001b[1;34m(self, path, prog, format)\u001b[0m\n\u001b[0;32m   1916\u001b[0m \u001b[1;33m\u001b[0m\u001b[0m\n\u001b[0;32m   1917\u001b[0m             \u001b[1;32melse\u001b[0m\u001b[1;33m:\u001b[0m\u001b[1;33m\u001b[0m\u001b[1;33m\u001b[0m\u001b[0m\n\u001b[1;32m-> 1918\u001b[1;33m                 \u001b[0mfobj\u001b[0m\u001b[1;33m.\u001b[0m\u001b[0mwrite\u001b[0m\u001b[1;33m(\u001b[0m\u001b[0mself\u001b[0m\u001b[1;33m.\u001b[0m\u001b[0mcreate\u001b[0m\u001b[1;33m(\u001b[0m\u001b[0mprog\u001b[0m\u001b[1;33m,\u001b[0m \u001b[0mformat\u001b[0m\u001b[1;33m)\u001b[0m\u001b[1;33m)\u001b[0m\u001b[1;33m\u001b[0m\u001b[1;33m\u001b[0m\u001b[0m\n\u001b[0m\u001b[0;32m   1919\u001b[0m         \u001b[1;32mfinally\u001b[0m\u001b[1;33m:\u001b[0m\u001b[1;33m\u001b[0m\u001b[1;33m\u001b[0m\u001b[0m\n\u001b[0;32m   1920\u001b[0m             \u001b[1;32mif\u001b[0m \u001b[0mclose\u001b[0m\u001b[1;33m:\u001b[0m\u001b[1;33m\u001b[0m\u001b[1;33m\u001b[0m\u001b[0m\n",
      "\u001b[1;32mC:\\ProgramData\\Anaconda3\\lib\\site-packages\\pydotplus\\graphviz.py\u001b[0m in \u001b[0;36mcreate\u001b[1;34m(self, prog, format)\u001b[0m\n\u001b[0;32m   1957\u001b[0m             \u001b[0mself\u001b[0m\u001b[1;33m.\u001b[0m\u001b[0mprogs\u001b[0m \u001b[1;33m=\u001b[0m \u001b[0mfind_graphviz\u001b[0m\u001b[1;33m(\u001b[0m\u001b[1;33m)\u001b[0m\u001b[1;33m\u001b[0m\u001b[1;33m\u001b[0m\u001b[0m\n\u001b[0;32m   1958\u001b[0m             \u001b[1;32mif\u001b[0m \u001b[0mself\u001b[0m\u001b[1;33m.\u001b[0m\u001b[0mprogs\u001b[0m \u001b[1;32mis\u001b[0m \u001b[1;32mNone\u001b[0m\u001b[1;33m:\u001b[0m\u001b[1;33m\u001b[0m\u001b[1;33m\u001b[0m\u001b[0m\n\u001b[1;32m-> 1959\u001b[1;33m                 raise InvocationException(\n\u001b[0m\u001b[0;32m   1960\u001b[0m                     'GraphViz\\'s executables not found')\n\u001b[0;32m   1961\u001b[0m \u001b[1;33m\u001b[0m\u001b[0m\n",
      "\u001b[1;31mInvocationException\u001b[0m: GraphViz's executables not found"
     ]
    }
   ],
   "source": [
    "graph.write_png(\"myTree.png\")"
   ]
  },
  {
   "cell_type": "code",
   "execution_count": 18,
   "metadata": {},
   "outputs": [
    {
     "ename": "InvocationException",
     "evalue": "GraphViz's executables not found",
     "output_type": "error",
     "traceback": [
      "\u001b[1;31m---------------------------------------------------------------------------\u001b[0m",
      "\u001b[1;31mInvocationException\u001b[0m                       Traceback (most recent call last)",
      "\u001b[1;32m<ipython-input-18-366545ce802f>\u001b[0m in \u001b[0;36m<module>\u001b[1;34m\u001b[0m\n\u001b[0;32m      1\u001b[0m \u001b[1;31m# Show graph\u001b[0m\u001b[1;33m\u001b[0m\u001b[1;33m\u001b[0m\u001b[1;33m\u001b[0m\u001b[0m\n\u001b[1;32m----> 2\u001b[1;33m \u001b[0mImage\u001b[0m\u001b[1;33m(\u001b[0m\u001b[0mgraph\u001b[0m\u001b[1;33m.\u001b[0m\u001b[0mcreate_png\u001b[0m\u001b[1;33m(\u001b[0m\u001b[1;33m)\u001b[0m\u001b[1;33m)\u001b[0m\u001b[1;33m\u001b[0m\u001b[1;33m\u001b[0m\u001b[0m\n\u001b[0m",
      "\u001b[1;32mC:\\ProgramData\\Anaconda3\\lib\\site-packages\\pydotplus\\graphviz.py\u001b[0m in \u001b[0;36m<lambda>\u001b[1;34m(f, prog)\u001b[0m\n\u001b[0;32m   1795\u001b[0m             self.__setattr__(\n\u001b[0;32m   1796\u001b[0m                 \u001b[1;34m'create_'\u001b[0m \u001b[1;33m+\u001b[0m \u001b[0mfrmt\u001b[0m\u001b[1;33m,\u001b[0m\u001b[1;33m\u001b[0m\u001b[1;33m\u001b[0m\u001b[0m\n\u001b[1;32m-> 1797\u001b[1;33m                 \u001b[1;32mlambda\u001b[0m \u001b[0mf\u001b[0m\u001b[1;33m=\u001b[0m\u001b[0mfrmt\u001b[0m\u001b[1;33m,\u001b[0m \u001b[0mprog\u001b[0m\u001b[1;33m=\u001b[0m\u001b[0mself\u001b[0m\u001b[1;33m.\u001b[0m\u001b[0mprog\u001b[0m\u001b[1;33m:\u001b[0m \u001b[0mself\u001b[0m\u001b[1;33m.\u001b[0m\u001b[0mcreate\u001b[0m\u001b[1;33m(\u001b[0m\u001b[0mformat\u001b[0m\u001b[1;33m=\u001b[0m\u001b[0mf\u001b[0m\u001b[1;33m,\u001b[0m \u001b[0mprog\u001b[0m\u001b[1;33m=\u001b[0m\u001b[0mprog\u001b[0m\u001b[1;33m)\u001b[0m\u001b[1;33m\u001b[0m\u001b[1;33m\u001b[0m\u001b[0m\n\u001b[0m\u001b[0;32m   1798\u001b[0m             )\n\u001b[0;32m   1799\u001b[0m             \u001b[0mf\u001b[0m \u001b[1;33m=\u001b[0m \u001b[0mself\u001b[0m\u001b[1;33m.\u001b[0m\u001b[0m__dict__\u001b[0m\u001b[1;33m[\u001b[0m\u001b[1;34m'create_'\u001b[0m \u001b[1;33m+\u001b[0m \u001b[0mfrmt\u001b[0m\u001b[1;33m]\u001b[0m\u001b[1;33m\u001b[0m\u001b[1;33m\u001b[0m\u001b[0m\n",
      "\u001b[1;32mC:\\ProgramData\\Anaconda3\\lib\\site-packages\\pydotplus\\graphviz.py\u001b[0m in \u001b[0;36mcreate\u001b[1;34m(self, prog, format)\u001b[0m\n\u001b[0;32m   1957\u001b[0m             \u001b[0mself\u001b[0m\u001b[1;33m.\u001b[0m\u001b[0mprogs\u001b[0m \u001b[1;33m=\u001b[0m \u001b[0mfind_graphviz\u001b[0m\u001b[1;33m(\u001b[0m\u001b[1;33m)\u001b[0m\u001b[1;33m\u001b[0m\u001b[1;33m\u001b[0m\u001b[0m\n\u001b[0;32m   1958\u001b[0m             \u001b[1;32mif\u001b[0m \u001b[0mself\u001b[0m\u001b[1;33m.\u001b[0m\u001b[0mprogs\u001b[0m \u001b[1;32mis\u001b[0m \u001b[1;32mNone\u001b[0m\u001b[1;33m:\u001b[0m\u001b[1;33m\u001b[0m\u001b[1;33m\u001b[0m\u001b[0m\n\u001b[1;32m-> 1959\u001b[1;33m                 raise InvocationException(\n\u001b[0m\u001b[0;32m   1960\u001b[0m                     'GraphViz\\'s executables not found')\n\u001b[0;32m   1961\u001b[0m \u001b[1;33m\u001b[0m\u001b[0m\n",
      "\u001b[1;31mInvocationException\u001b[0m: GraphViz's executables not found"
     ]
    }
   ],
   "source": [
    "# Show graph\n",
    "Image(graph.create_png())"
   ]
  },
  {
   "cell_type": "markdown",
   "metadata": {},
   "source": [
    "Let's understand the above tree:\n",
    "\n",
    "\n",
    "<img src=\"tree_explain.PNG\" width=\"300\">\n",
    "\n",
    "* the first value indicates the column and the condition on which the root node was selected and further will be splitted\n",
    "* the second value gives the gini impurity of the selected node\n",
    "* samples gives the number of observations at that point of time present in the node\n",
    "* value within the square brackets represents number of observations present in each class(output) i.e. in the above given figure, 8 observations are in class 1, 38 in class 2 , 468 in class 3 and so on.\n",
    "\n",
    "Then  the split was made on the basis of given condition.\n"
   ]
  },
  {
   "cell_type": "code",
   "execution_count": 14,
   "metadata": {},
   "outputs": [
    {
     "data": {
      "text/plain": [
       "1.0"
      ]
     },
     "execution_count": 14,
     "metadata": {},
     "output_type": "execute_result"
    }
   ],
   "source": [
    "clf.score(x_train,y_train)"
   ]
  },
  {
   "cell_type": "code",
   "execution_count": 15,
   "metadata": {},
   "outputs": [],
   "source": [
    "py_pred = clf.predict(x_test)"
   ]
  },
  {
   "cell_type": "code",
   "execution_count": 17,
   "metadata": {},
   "outputs": [
    {
     "data": {
      "text/plain": [
       "0.5583333333333333"
      ]
     },
     "execution_count": 17,
     "metadata": {},
     "output_type": "execute_result"
    }
   ],
   "source": [
    "# accuracy of our classification tree\n",
    "clf.score(x_test,y_test)"
   ]
  },
  {
   "cell_type": "markdown",
   "metadata": {},
   "source": [
    "Now we haven't done any prerocessing with our data and neither done any hyper parameter tunings.Let's do all those and see how our score improves."
   ]
  },
  {
   "cell_type": "markdown",
   "metadata": {},
   "source": [
    "### What are hyper parameters?\n",
    "<img src=\"hypr_params.PNG\" width=\"700\">\n",
    "\n",
    "\n",
    "We can see above the decision tree classifier algorithm takes all those parameters which are also known as hyperparameters.\n",
    "\n",
    "Let's see the most important ones of the parameters(as per sklearn documentation) :\n",
    "#### Parameters\n",
    "  ----------\n",
    " * criterion : string, optional (default=\"gini\")\n",
    "       The function to measure the quality of a split. Supported criteria are\n",
    "       \"gini\" for the Gini impurity and \"entropy\" for the information gain.\n",
    "   \n",
    " *  splitter : string, optional (default=\"best\")\n",
    "       The strategy used to choose the split at each node. Supported\n",
    "       strategies are \"best\" to choose the best split and \"random\" to choose\n",
    "       the best random split.\n",
    "   \n",
    " *  max_depth : int or None, optional (default=None)\n",
    "       The maximum depth of the tree. If None, then nodes are expanded until\n",
    "       all leaves are pure or until all leaves contain less than\n",
    "       min_samples_split samples.\n",
    "   \n",
    " *  min_samples_split : int, float, optional (default=2)\n",
    "       The minimum number of samples required to split an internal node:\n",
    "   \n",
    "       - If int, then consider `min_samples_split` as the minimum number.\n",
    "       - If float, then `min_samples_split` is a fraction and\n",
    "         `ceil(min_samples_split * n_samples)` are the minimum\n",
    "         number of samples for each split.\n",
    "   \n",
    "       .. versionchanged:: 0.18\n",
    "          Added float values for fractions.\n",
    "   \n",
    " *  min_samples_leaf : int, float, optional (default=1)\n",
    "       The minimum number of samples required to be at a leaf node.\n",
    "       A split point at any depth will only be considered if it leaves at\n",
    "       least ``min_samples_leaf`` training samples in each of the left and\n",
    "       right branches.  This may have the effect of smoothing the model,\n",
    "       especially in regression.\n",
    "   \n",
    "       - If int, then consider `min_samples_leaf` as the minimum number.\n",
    "       - If float, then `min_samples_leaf` is a fraction and\n",
    "         `ceil(min_samples_leaf * n_samples)` are the minimum\n",
    "         number of samples for each node.\n",
    "   \n",
    " *  max_features : int, float, string or None, optional (default=None)\n",
    "       The number of features to consider when looking for the best split:\n",
    "   \n",
    "           - If int, then consider `max_features` features at each split.\n",
    "           - If float, then `max_features` is a fraction and\n",
    "             `int(max_features * n_features)` features are considered at each\n",
    "             split.\n",
    "           - If \"auto\", then `max_features=sqrt(n_features)`.\n",
    "           - If \"sqrt\", then `max_features=sqrt(n_features)`.\n",
    "           - If \"log2\", then `max_features=log2(n_features)`.\n",
    "           - If None, then `max_features=n_features`.\n",
    "   \n",
    "       Note: the search for a split does not stop until at least one\n",
    "       valid partition of the node samples is found, even if it requires to\n",
    "       effectively inspect more than ``max_features`` features.\n",
    "   \n",
    " *  random_state : int, RandomState instance or None, optional (default=None)\n",
    "       If int, random_state is the seed used by the random number generator;\n",
    "       If RandomState instance, random_state is the random number generator;\n",
    "       If None, the random number generator is the RandomState instance used\n",
    "       by `np.random`.\n",
    "   \n",
    " *  max_leaf_nodes : int or None, optional (default=None)\n",
    "       Grow a tree with ``max_leaf_nodes`` in best-first fashion.\n",
    "       Best nodes are defined as relative reduction in impurity.\n",
    "       If None then unlimited number of leaf nodes.\n",
    "   \n",
    " *  min_impurity_decrease : float, optional (default=0.)\n",
    "       A node will be split if this split induces a decrease of the impurity\n",
    "       greater than or equal to this value.\n",
    "   \n",
    " *  min_impurity_split : float, (default=1e-7)\n",
    "       Threshold for early stopping in tree growth. A node will split\n",
    "       if its impurity is above the threshold, otherwise it is a leaf.\n",
    "       \n",
    " *  class_weight : dict, list of dicts, \"balanced\" or None, default=None\n",
    "       Weights associated with classes in the form ``{class_label: weight}``.\n",
    "       If not given, all classes are supposed to have weight one. For\n",
    "       multi-output problems, a list of dicts can be provided in the same\n",
    "       order as the columns of y.\n",
    "   \n",
    " * presort : bool, optional (default=False)\n",
    "       Whether to presort the data to speed up the finding of best splits in\n",
    "       fitting. For the default settings of a decision tree on large\n",
    "       datasets, setting this to true may slow down the training process.\n",
    "       When using either a smaller dataset or a restricted depth, this may\n",
    "       speed up the training.\n",
    "   \n",
    "\n",
    "When we do hyperparameter tuning, we basically try to find those sets and values of hyperparameters which will give us a model with maximum accuracy.\n",
    "Let's go ahead and try to improve our model.\n",
    "\n",
    "We will start with scaling our data."
   ]
  },
  {
   "cell_type": "code",
   "execution_count": 36,
   "metadata": {},
   "outputs": [],
   "source": [
    "scalar = StandardScaler()\n",
    "\n",
    "x_transform = scalar.fit_transform(X)"
   ]
  },
  {
   "cell_type": "code",
   "execution_count": 37,
   "metadata": {},
   "outputs": [],
   "source": [
    "x_train,x_test,y_train,y_test = train_test_split(x_transform,y,test_size = 0.30, random_state= 355)"
   ]
  },
  {
   "cell_type": "markdown",
   "metadata": {},
   "source": [
    "Although our dataset is realtively small, let's use PCA for feature selection and see if it improves our accuracy."
   ]
  },
  {
   "cell_type": "code",
   "execution_count": 38,
   "metadata": {},
   "outputs": [
    {
     "data": {
      "image/png": "[encoded data removed]",
      "text/plain": [
       "<Figure size 432x288 with 1 Axes>"
      ]
     },
     "metadata": {
      "needs_background": "light"
     },
     "output_type": "display_data"
    }
   ],
   "source": [
    "from sklearn.decomposition import PCA\n",
    "import numpy as np\n",
    "pca = PCA()\n",
    "principalComponents = pca.fit_transform(x_transform)\n",
    "plt.figure()\n",
    "plt.plot(np.cumsum(pca.explained_variance_ratio_))\n",
    "plt.xlabel('Number of Components')\n",
    "plt.ylabel('Variance (%)') #for each component\n",
    "plt.title('Explained Variance')\n",
    "plt.show()"
   ]
  },
  {
   "cell_type": "markdown",
   "metadata": {},
   "source": [
    "We can see that around 95% of the variance is being explained by 8 components.\n",
    "So instead of giving all 11 columns as input in our algorithm let's use these 8 principal components instead."
   ]
  },
  {
   "cell_type": "code",
   "execution_count": 39,
   "metadata": {},
   "outputs": [],
   "source": [
    "pca = PCA(n_components=8)\n",
    "new_data = pca.fit_transform(x_transform)\n",
    "\n",
    "principal_x = pd.DataFrame(new_data,columns=['PC-1','PC-2','PC-3','PC-4','PC-5','PC-6','PC-7','PC-8'])"
   ]
  },
  {
   "cell_type": "code",
   "execution_count": 23,
   "metadata": {},
   "outputs": [
    {
     "data": {
      "text/html": [
       "<div>\n",
       "<style scoped>\n",
       "    .dataframe tbody tr th:only-of-type {\n",
       "        vertical-align: middle;\n",
       "    }\n",
       "\n",
       "    .dataframe tbody tr th {\n",
       "        vertical-align: top;\n",
       "    }\n",
       "\n",
       "    .dataframe thead th {\n",
       "        text-align: right;\n",
       "    }\n",
       "</style>\n",
       "<table border=\"1\" class=\"dataframe\">\n",
       "  <thead>\n",
       "    <tr style=\"text-align: right;\">\n",
       "      <th></th>\n",
       "      <th>PC-1</th>\n",
       "      <th>PC-2</th>\n",
       "      <th>PC-3</th>\n",
       "      <th>PC-4</th>\n",
       "      <th>PC-5</th>\n",
       "      <th>PC-6</th>\n",
       "      <th>PC-7</th>\n",
       "      <th>PC-8</th>\n",
       "    </tr>\n",
       "  </thead>\n",
       "  <tbody>\n",
       "    <tr>\n",
       "      <th>0</th>\n",
       "      <td>-1.619530</td>\n",
       "      <td>0.450950</td>\n",
       "      <td>-1.774454</td>\n",
       "      <td>0.043740</td>\n",
       "      <td>0.067014</td>\n",
       "      <td>-0.913921</td>\n",
       "      <td>-0.161043</td>\n",
       "      <td>-0.282258</td>\n",
       "    </tr>\n",
       "    <tr>\n",
       "      <th>1</th>\n",
       "      <td>-0.799170</td>\n",
       "      <td>1.856553</td>\n",
       "      <td>-0.911690</td>\n",
       "      <td>0.548066</td>\n",
       "      <td>-0.018392</td>\n",
       "      <td>0.929714</td>\n",
       "      <td>-1.009829</td>\n",
       "      <td>0.762587</td>\n",
       "    </tr>\n",
       "    <tr>\n",
       "      <th>2</th>\n",
       "      <td>-0.748479</td>\n",
       "      <td>0.882039</td>\n",
       "      <td>-1.171394</td>\n",
       "      <td>0.411021</td>\n",
       "      <td>-0.043531</td>\n",
       "      <td>0.401473</td>\n",
       "      <td>-0.539553</td>\n",
       "      <td>0.597946</td>\n",
       "    </tr>\n",
       "    <tr>\n",
       "      <th>3</th>\n",
       "      <td>2.357673</td>\n",
       "      <td>-0.269976</td>\n",
       "      <td>0.243489</td>\n",
       "      <td>-0.928450</td>\n",
       "      <td>-1.499149</td>\n",
       "      <td>-0.131017</td>\n",
       "      <td>0.344290</td>\n",
       "      <td>-0.455375</td>\n",
       "    </tr>\n",
       "    <tr>\n",
       "      <th>4</th>\n",
       "      <td>-1.619530</td>\n",
       "      <td>0.450950</td>\n",
       "      <td>-1.774454</td>\n",
       "      <td>0.043740</td>\n",
       "      <td>0.067014</td>\n",
       "      <td>-0.913921</td>\n",
       "      <td>-0.161043</td>\n",
       "      <td>-0.282258</td>\n",
       "    </tr>\n",
       "    <tr>\n",
       "      <th>...</th>\n",
       "      <td>...</td>\n",
       "      <td>...</td>\n",
       "      <td>...</td>\n",
       "      <td>...</td>\n",
       "      <td>...</td>\n",
       "      <td>...</td>\n",
       "      <td>...</td>\n",
       "      <td>...</td>\n",
       "    </tr>\n",
       "    <tr>\n",
       "      <th>1594</th>\n",
       "      <td>-2.150500</td>\n",
       "      <td>0.814286</td>\n",
       "      <td>0.617063</td>\n",
       "      <td>0.407687</td>\n",
       "      <td>-0.240936</td>\n",
       "      <td>0.054835</td>\n",
       "      <td>0.170812</td>\n",
       "      <td>-0.355866</td>\n",
       "    </tr>\n",
       "    <tr>\n",
       "      <th>1595</th>\n",
       "      <td>-2.214496</td>\n",
       "      <td>0.893101</td>\n",
       "      <td>1.807402</td>\n",
       "      <td>0.414003</td>\n",
       "      <td>0.119592</td>\n",
       "      <td>-0.674711</td>\n",
       "      <td>-0.607970</td>\n",
       "      <td>-0.247640</td>\n",
       "    </tr>\n",
       "    <tr>\n",
       "      <th>1596</th>\n",
       "      <td>-1.456129</td>\n",
       "      <td>0.311746</td>\n",
       "      <td>1.124239</td>\n",
       "      <td>0.491877</td>\n",
       "      <td>0.193716</td>\n",
       "      <td>-0.506410</td>\n",
       "      <td>-0.231082</td>\n",
       "      <td>0.079382</td>\n",
       "    </tr>\n",
       "    <tr>\n",
       "      <th>1597</th>\n",
       "      <td>-2.270518</td>\n",
       "      <td>0.979791</td>\n",
       "      <td>0.627965</td>\n",
       "      <td>0.639770</td>\n",
       "      <td>0.067735</td>\n",
       "      <td>-0.860408</td>\n",
       "      <td>-0.321487</td>\n",
       "      <td>-0.468876</td>\n",
       "    </tr>\n",
       "    <tr>\n",
       "      <th>1598</th>\n",
       "      <td>-0.426975</td>\n",
       "      <td>-0.536690</td>\n",
       "      <td>1.628955</td>\n",
       "      <td>-0.391716</td>\n",
       "      <td>0.450482</td>\n",
       "      <td>-0.496154</td>\n",
       "      <td>1.189132</td>\n",
       "      <td>0.042176</td>\n",
       "    </tr>\n",
       "  </tbody>\n",
       "</table>\n",
       "<p>1599 rows × 8 columns</p>\n",
       "</div>"
      ],
      "text/plain": [
       "          PC-1      PC-2      PC-3      PC-4      PC-5      PC-6      PC-7  \\\n",
       "0    -1.619530  0.450950 -1.774454  0.043740  0.067014 -0.913921 -0.161043   \n",
       "1    -0.799170  1.856553 -0.911690  0.548066 -0.018392  0.929714 -1.009829   \n",
       "2    -0.748479  0.882039 -1.171394  0.411021 -0.043531  0.401473 -0.539553   \n",
       "3     2.357673 -0.269976  0.243489 -0.928450 -1.499149 -0.131017  0.344290   \n",
       "4    -1.619530  0.450950 -1.774454  0.043740  0.067014 -0.913921 -0.161043   \n",
       "...        ...       ...       ...       ...       ...       ...       ...   \n",
       "1594 -2.150500  0.814286  0.617063  0.407687 -0.240936  0.054835  0.170812   \n",
       "1595 -2.214496  0.893101  1.807402  0.414003  0.119592 -0.674711 -0.607970   \n",
       "1596 -1.456129  0.311746  1.124239  0.491877  0.193716 -0.506410 -0.231082   \n",
       "1597 -2.270518  0.979791  0.627965  0.639770  0.067735 -0.860408 -0.321487   \n",
       "1598 -0.426975 -0.536690  1.628955 -0.391716  0.450482 -0.496154  1.189132   \n",
       "\n",
       "          PC-8  \n",
       "0    -0.282258  \n",
       "1     0.762587  \n",
       "2     0.597946  \n",
       "3    -0.455375  \n",
       "4    -0.282258  \n",
       "...        ...  \n",
       "1594 -0.355866  \n",
       "1595 -0.247640  \n",
       "1596  0.079382  \n",
       "1597 -0.468876  \n",
       "1598  0.042176  \n",
       "\n",
       "[1599 rows x 8 columns]"
      ]
     },
     "execution_count": 23,
     "metadata": {},
     "output_type": "execute_result"
    }
   ],
   "source": [
    "principal_x"
   ]
  },
  {
   "cell_type": "code",
   "execution_count": 40,
   "metadata": {},
   "outputs": [],
   "source": [
    "# let's see how well our model perform on this new data\n",
    "x_train,x_test,y_train,y_test = train_test_split(principal_x,y,test_size = 0.30, random_state= 355)"
   ]
  },
  {
   "cell_type": "code",
   "execution_count": 25,
   "metadata": {},
   "outputs": [
    {
     "ename": "NameError",
     "evalue": "name 'principal_x' is not defined",
     "output_type": "error",
     "traceback": [
      "\u001b[1;31m---------------------------------------------------------------------------\u001b[0m",
      "\u001b[1;31mNameError\u001b[0m                                 Traceback (most recent call last)",
      "\u001b[1;32m<ipython-input-25-6da507540703>\u001b[0m in \u001b[0;36m<module>\u001b[1;34m\u001b[0m\n\u001b[0;32m      1\u001b[0m \u001b[1;31m# let's see how well our model perform on this new data\u001b[0m\u001b[1;33m\u001b[0m\u001b[1;33m\u001b[0m\u001b[1;33m\u001b[0m\u001b[0m\n\u001b[1;32m----> 2\u001b[1;33m \u001b[0mx_train\u001b[0m\u001b[1;33m,\u001b[0m\u001b[0mx_test\u001b[0m\u001b[1;33m,\u001b[0m\u001b[0my_train\u001b[0m\u001b[1;33m,\u001b[0m\u001b[0my_test\u001b[0m \u001b[1;33m=\u001b[0m \u001b[0mtrain_test_split\u001b[0m\u001b[1;33m(\u001b[0m\u001b[0mprincipal_x\u001b[0m\u001b[1;33m,\u001b[0m\u001b[0my\u001b[0m\u001b[1;33m,\u001b[0m\u001b[0mtest_size\u001b[0m \u001b[1;33m=\u001b[0m \u001b[1;36m0.30\u001b[0m\u001b[1;33m,\u001b[0m \u001b[0mrandom_state\u001b[0m\u001b[1;33m=\u001b[0m \u001b[1;36m355\u001b[0m\u001b[1;33m)\u001b[0m\u001b[1;33m\u001b[0m\u001b[1;33m\u001b[0m\u001b[0m\n\u001b[0m\u001b[0;32m      3\u001b[0m \u001b[1;31m#let's first visualize the tree on the data without doing any pre processing\u001b[0m\u001b[1;33m\u001b[0m\u001b[1;33m\u001b[0m\u001b[1;33m\u001b[0m\u001b[0m\n\u001b[0;32m      4\u001b[0m \u001b[0mclf\u001b[0m \u001b[1;33m=\u001b[0m \u001b[0mDecisionTreeClassifier\u001b[0m\u001b[1;33m(\u001b[0m\u001b[1;33m)\u001b[0m\u001b[1;33m\u001b[0m\u001b[1;33m\u001b[0m\u001b[0m\n\u001b[0;32m      5\u001b[0m \u001b[0mclf\u001b[0m\u001b[1;33m.\u001b[0m\u001b[0mfit\u001b[0m\u001b[1;33m(\u001b[0m\u001b[0mx_train\u001b[0m\u001b[1;33m,\u001b[0m\u001b[0my_train\u001b[0m\u001b[1;33m)\u001b[0m\u001b[1;33m\u001b[0m\u001b[1;33m\u001b[0m\u001b[0m\n",
      "\u001b[1;31mNameError\u001b[0m: name 'principal_x' is not defined"
     ]
    }
   ],
   "source": [
    "\n",
    "#let's first visualize the tree on the data without doing any pre processing\n",
    "clf = DecisionTreeClassifier()\n",
    "clf.fit(x_train,y_train)\n",
    "clf.score(x_test,y_test)"
   ]
  },
  {
   "cell_type": "markdown",
   "metadata": {},
   "source": [
    "There is a little increase in our test accuracy. Great!!"
   ]
  },
  {
   "cell_type": "markdown",
   "metadata": {},
   "source": [
    "Let's now try to tune some hyperparameters using the GridSearchCV algorithm.\n",
    "We have studied about CrossValidation in upcoming lecture. \n",
    "\n",
    "GridSearchCV is a method used to tune our hyperparameters. We can pass different values of hyperparameters as parameters for grid search.\n",
    "It does a exhaustive generation of combination of different parameters passed.\n",
    "Using cross validation score, Grid Search returns the combination of hyperparameters for which the model is performing the best. "
   ]
  },
  {
   "cell_type": "code",
   "execution_count": 26,
   "metadata": {},
   "outputs": [],
   "source": [
    "# we are tuning three hyperparameters right now, we are passing the different values for both parameters\n",
    "grid_param = {\n",
    "    'criterion': ['gini', 'entropy'],\n",
    "    'max_depth' : range(2,32,1),\n",
    "    'min_samples_leaf' : range(1,10,1),\n",
    "    'min_samples_split': range(2,10,1),\n",
    "    'splitter' : ['best', 'random']\n",
    "    \n",
    "}"
   ]
  },
  {
   "cell_type": "code",
   "execution_count": 27,
   "metadata": {},
   "outputs": [],
   "source": [
    "grid_search = GridSearchCV(estimator=clf,\n",
    "                     param_grid=grid_param,\n",
    "                     cv=5,\n",
    "                    n_jobs =-1)"
   ]
  },
  {
   "cell_type": "code",
   "execution_count": 28,
   "metadata": {},
   "outputs": [
    {
     "data": {
      "text/plain": [
       "GridSearchCV(cv=5, estimator=DecisionTreeClassifier(), n_jobs=-1,\n",
       "             param_grid={'criterion': ['gini', 'entropy'],\n",
       "                         'max_depth': range(2, 32),\n",
       "                         'min_samples_leaf': range(1, 10),\n",
       "                         'min_samples_split': range(2, 10),\n",
       "                         'splitter': ['best', 'random']})"
      ]
     },
     "execution_count": 28,
     "metadata": {},
     "output_type": "execute_result"
    }
   ],
   "source": [
    "grid_search.fit(x_train,y_train)"
   ]
  },
  {
   "cell_type": "code",
   "execution_count": 29,
   "metadata": {},
   "outputs": [
    {
     "name": "stdout",
     "output_type": "stream",
     "text": [
      "{'criterion': 'entropy', 'max_depth': 28, 'min_samples_leaf': 1, 'min_samples_split': 2, 'splitter': 'best'}\n"
     ]
    }
   ],
   "source": [
    "best_parameters = grid_search.best_params_\n",
    "print(best_parameters)"
   ]
  },
  {
   "cell_type": "code",
   "execution_count": 30,
   "metadata": {},
   "outputs": [],
   "source": [
    "clf1= DecisionTreeClassifier(criterion='entropy', max_depth=28, min_samples_leaf= 1, min_samples_split= 2, splitter= 'best')"
   ]
  },
  {
   "cell_type": "code",
   "execution_count": 41,
   "metadata": {},
   "outputs": [],
   "source": [
    "clf2= DecisionTreeClassifier(criterion='entropy', max_depth=28, min_samples_leaf= 1, min_samples_split= 2, splitter= 'best')"
   ]
  },
  {
   "cell_type": "code",
   "execution_count": 32,
   "metadata": {},
   "outputs": [
    {
     "data": {
      "text/plain": [
       "DecisionTreeClassifier(criterion='entropy', max_depth=28)"
      ]
     },
     "execution_count": 32,
     "metadata": {},
     "output_type": "execute_result"
    }
   ],
   "source": [
    "clf1.fit(x_train,y_train)"
   ]
  },
  {
   "cell_type": "code",
   "execution_count": 42,
   "metadata": {},
   "outputs": [
    {
     "data": {
      "text/html": [
       "<div>\n",
       "<style scoped>\n",
       "    .dataframe tbody tr th:only-of-type {\n",
       "        vertical-align: middle;\n",
       "    }\n",
       "\n",
       "    .dataframe tbody tr th {\n",
       "        vertical-align: top;\n",
       "    }\n",
       "\n",
       "    .dataframe thead th {\n",
       "        text-align: right;\n",
       "    }\n",
       "</style>\n",
       "<table border=\"1\" class=\"dataframe\">\n",
       "  <thead>\n",
       "    <tr style=\"text-align: right;\">\n",
       "      <th></th>\n",
       "      <th>PC-1</th>\n",
       "      <th>PC-2</th>\n",
       "      <th>PC-3</th>\n",
       "      <th>PC-4</th>\n",
       "      <th>PC-5</th>\n",
       "      <th>PC-6</th>\n",
       "      <th>PC-7</th>\n",
       "      <th>PC-8</th>\n",
       "    </tr>\n",
       "  </thead>\n",
       "  <tbody>\n",
       "    <tr>\n",
       "      <th>1125</th>\n",
       "      <td>0.176531</td>\n",
       "      <td>-1.934278</td>\n",
       "      <td>1.196926</td>\n",
       "      <td>-0.486306</td>\n",
       "      <td>-1.161076</td>\n",
       "      <td>0.690360</td>\n",
       "      <td>0.654974</td>\n",
       "      <td>0.685856</td>\n",
       "    </tr>\n",
       "    <tr>\n",
       "      <th>627</th>\n",
       "      <td>0.302494</td>\n",
       "      <td>-0.272598</td>\n",
       "      <td>-2.205618</td>\n",
       "      <td>-0.308175</td>\n",
       "      <td>-0.086764</td>\n",
       "      <td>-0.520691</td>\n",
       "      <td>0.579793</td>\n",
       "      <td>-0.614533</td>\n",
       "    </tr>\n",
       "    <tr>\n",
       "      <th>1421</th>\n",
       "      <td>-0.569050</td>\n",
       "      <td>0.676386</td>\n",
       "      <td>0.136661</td>\n",
       "      <td>0.056695</td>\n",
       "      <td>-1.235026</td>\n",
       "      <td>-0.642702</td>\n",
       "      <td>0.651640</td>\n",
       "      <td>-0.009252</td>\n",
       "    </tr>\n",
       "    <tr>\n",
       "      <th>832</th>\n",
       "      <td>1.625868</td>\n",
       "      <td>0.856718</td>\n",
       "      <td>0.670961</td>\n",
       "      <td>1.207309</td>\n",
       "      <td>-0.427878</td>\n",
       "      <td>-0.900217</td>\n",
       "      <td>-0.569312</td>\n",
       "      <td>-1.371109</td>\n",
       "    </tr>\n",
       "    <tr>\n",
       "      <th>528</th>\n",
       "      <td>1.235575</td>\n",
       "      <td>1.471558</td>\n",
       "      <td>0.334375</td>\n",
       "      <td>0.043110</td>\n",
       "      <td>-0.705130</td>\n",
       "      <td>-1.498010</td>\n",
       "      <td>0.342574</td>\n",
       "      <td>-0.446853</td>\n",
       "    </tr>\n",
       "    <tr>\n",
       "      <th>...</th>\n",
       "      <td>...</td>\n",
       "      <td>...</td>\n",
       "      <td>...</td>\n",
       "      <td>...</td>\n",
       "      <td>...</td>\n",
       "      <td>...</td>\n",
       "      <td>...</td>\n",
       "      <td>...</td>\n",
       "    </tr>\n",
       "    <tr>\n",
       "      <th>1315</th>\n",
       "      <td>-0.440422</td>\n",
       "      <td>1.086410</td>\n",
       "      <td>-0.065756</td>\n",
       "      <td>0.054268</td>\n",
       "      <td>-0.904325</td>\n",
       "      <td>0.581016</td>\n",
       "      <td>0.033374</td>\n",
       "      <td>0.178378</td>\n",
       "    </tr>\n",
       "    <tr>\n",
       "      <th>1525</th>\n",
       "      <td>-1.273762</td>\n",
       "      <td>0.023210</td>\n",
       "      <td>-0.141821</td>\n",
       "      <td>0.195417</td>\n",
       "      <td>-0.554570</td>\n",
       "      <td>-0.508388</td>\n",
       "      <td>0.479654</td>\n",
       "      <td>0.786800</td>\n",
       "    </tr>\n",
       "    <tr>\n",
       "      <th>1370</th>\n",
       "      <td>3.397290</td>\n",
       "      <td>1.445920</td>\n",
       "      <td>-0.760667</td>\n",
       "      <td>6.678260</td>\n",
       "      <td>1.122972</td>\n",
       "      <td>2.455521</td>\n",
       "      <td>0.816060</td>\n",
       "      <td>-0.611142</td>\n",
       "    </tr>\n",
       "    <tr>\n",
       "      <th>642</th>\n",
       "      <td>1.073181</td>\n",
       "      <td>0.249107</td>\n",
       "      <td>-0.875671</td>\n",
       "      <td>-0.666113</td>\n",
       "      <td>-0.337385</td>\n",
       "      <td>-0.973890</td>\n",
       "      <td>-0.229307</td>\n",
       "      <td>-0.906395</td>\n",
       "    </tr>\n",
       "    <tr>\n",
       "      <th>766</th>\n",
       "      <td>0.471318</td>\n",
       "      <td>0.964921</td>\n",
       "      <td>-0.993370</td>\n",
       "      <td>-0.406613</td>\n",
       "      <td>-0.589252</td>\n",
       "      <td>0.646370</td>\n",
       "      <td>0.317266</td>\n",
       "      <td>0.746905</td>\n",
       "    </tr>\n",
       "  </tbody>\n",
       "</table>\n",
       "<p>1119 rows × 8 columns</p>\n",
       "</div>"
      ],
      "text/plain": [
       "          PC-1      PC-2      PC-3      PC-4      PC-5      PC-6      PC-7  \\\n",
       "1125  0.176531 -1.934278  1.196926 -0.486306 -1.161076  0.690360  0.654974   \n",
       "627   0.302494 -0.272598 -2.205618 -0.308175 -0.086764 -0.520691  0.579793   \n",
       "1421 -0.569050  0.676386  0.136661  0.056695 -1.235026 -0.642702  0.651640   \n",
       "832   1.625868  0.856718  0.670961  1.207309 -0.427878 -0.900217 -0.569312   \n",
       "528   1.235575  1.471558  0.334375  0.043110 -0.705130 -1.498010  0.342574   \n",
       "...        ...       ...       ...       ...       ...       ...       ...   \n",
       "1315 -0.440422  1.086410 -0.065756  0.054268 -0.904325  0.581016  0.033374   \n",
       "1525 -1.273762  0.023210 -0.141821  0.195417 -0.554570 -0.508388  0.479654   \n",
       "1370  3.397290  1.445920 -0.760667  6.678260  1.122972  2.455521  0.816060   \n",
       "642   1.073181  0.249107 -0.875671 -0.666113 -0.337385 -0.973890 -0.229307   \n",
       "766   0.471318  0.964921 -0.993370 -0.406613 -0.589252  0.646370  0.317266   \n",
       "\n",
       "          PC-8  \n",
       "1125  0.685856  \n",
       "627  -0.614533  \n",
       "1421 -0.009252  \n",
       "832  -1.371109  \n",
       "528  -0.446853  \n",
       "...        ...  \n",
       "1315  0.178378  \n",
       "1525  0.786800  \n",
       "1370 -0.611142  \n",
       "642  -0.906395  \n",
       "766   0.746905  \n",
       "\n",
       "[1119 rows x 8 columns]"
      ]
     },
     "execution_count": 42,
     "metadata": {},
     "output_type": "execute_result"
    }
   ],
   "source": [
    "x_train"
   ]
  },
  {
   "cell_type": "code",
   "execution_count": 43,
   "metadata": {},
   "outputs": [
    {
     "data": {
      "text/plain": [
       "1125    7\n",
       "627     5\n",
       "1421    5\n",
       "832     3\n",
       "528     6\n",
       "       ..\n",
       "1315    6\n",
       "1525    5\n",
       "1370    5\n",
       "642     5\n",
       "766     5\n",
       "Name: quality, Length: 1119, dtype: int64"
      ]
     },
     "execution_count": 43,
     "metadata": {},
     "output_type": "execute_result"
    }
   ],
   "source": [
    "y_train"
   ]
  },
  {
   "cell_type": "code",
   "execution_count": 44,
   "metadata": {},
   "outputs": [
    {
     "data": {
      "text/plain": [
       "DecisionTreeClassifier(criterion='entropy', max_depth=28)"
      ]
     },
     "execution_count": 44,
     "metadata": {},
     "output_type": "execute_result"
    }
   ],
   "source": [
    "clf2.fit(x_train,y_train)"
   ]
  },
  {
   "cell_type": "code",
   "execution_count": 34,
   "metadata": {},
   "outputs": [],
   "source": [
    "y_pred=clf1.predict(x_test)"
   ]
  },
  {
   "cell_type": "code",
   "execution_count": 45,
   "metadata": {},
   "outputs": [],
   "source": [
    "y_pred1=clf2.predict(x_test)"
   ]
  },
  {
   "cell_type": "code",
   "execution_count": 48,
   "metadata": {},
   "outputs": [
    {
     "data": {
      "text/plain": [
       "1.0"
      ]
     },
     "execution_count": 48,
     "metadata": {},
     "output_type": "execute_result"
    }
   ],
   "source": [
    "clf2.score(x_train,y_train)"
   ]
  },
  {
   "cell_type": "code",
   "execution_count": 35,
   "metadata": {},
   "outputs": [
    {
     "data": {
      "text/plain": [
       "0.5875"
      ]
     },
     "execution_count": 35,
     "metadata": {},
     "output_type": "execute_result"
    }
   ],
   "source": [
    "accuracy_score(y_test,y_pred)"
   ]
  },
  {
   "cell_type": "code",
   "execution_count": 46,
   "metadata": {},
   "outputs": [
    {
     "data": {
      "text/plain": [
       "0.5270833333333333"
      ]
     },
     "execution_count": 46,
     "metadata": {},
     "output_type": "execute_result"
    }
   ],
   "source": [
    "accuracy_score(y_test,y_pred1)"
   ]
  },
  {
   "cell_type": "code",
   "execution_count": 49,
   "metadata": {},
   "outputs": [
    {
     "data": {
      "text/plain": [
       "RandomForestClassifier()"
      ]
     },
     "execution_count": 49,
     "metadata": {},
     "output_type": "execute_result"
    }
   ],
   "source": [
    "from sklearn.ensemble import RandomForestClassifier\n",
    "rfc= RandomForestClassifier()\n",
    "rfc.fit(x_train,y_train)\n"
   ]
  },
  {
   "cell_type": "code",
   "execution_count": 52,
   "metadata": {},
   "outputs": [
    {
     "data": {
      "text/plain": [
       "1.0"
      ]
     },
     "execution_count": 52,
     "metadata": {},
     "output_type": "execute_result"
    }
   ],
   "source": [
    "rfc.score(x_train,y_train)"
   ]
  },
  {
   "cell_type": "code",
   "execution_count": 50,
   "metadata": {},
   "outputs": [],
   "source": [
    "y_pred2=rfc.predict(x_test)"
   ]
  },
  {
   "cell_type": "code",
   "execution_count": 51,
   "metadata": {},
   "outputs": [
    {
     "data": {
      "text/plain": [
       "0.6645833333333333"
      ]
     },
     "execution_count": 51,
     "metadata": {},
     "output_type": "execute_result"
    }
   ],
   "source": [
    "accuracy_score(y_test,y_pred2)"
   ]
  },
  {
   "cell_type": "code",
   "execution_count": 31,
   "metadata": {},
   "outputs": [
    {
     "data": {
      "text/plain": [
       "0.5987107623318385"
      ]
     },
     "execution_count": 31,
     "metadata": {},
     "output_type": "execute_result"
    }
   ],
   "source": [
    "grid_search.best_score_"
   ]
  },
  {
   "cell_type": "code",
   "execution_count": 41,
   "metadata": {},
   "outputs": [
    {
     "data": {
      "text/plain": [
       "DecisionTreeClassifier(ccp_alpha=0.0, class_weight=None, criterion='entropy',\n",
       "                       max_depth=24, max_features=None, max_leaf_nodes=None,\n",
       "                       min_impurity_decrease=0.0, min_impurity_split=None,\n",
       "                       min_samples_leaf=1, min_samples_split=2,\n",
       "                       min_weight_fraction_leaf=0.0, presort='deprecated',\n",
       "                       random_state=None, splitter='random')"
      ]
     },
     "execution_count": 41,
     "metadata": {},
     "output_type": "execute_result"
    }
   ],
   "source": [
    "clf = DecisionTreeClassifier(criterion = 'entropy', max_depth =24, min_samples_leaf= 1, min_samples_split= 2, splitter ='random')\n",
    "clf.fit(x_train,y_train)"
   ]
  },
  {
   "cell_type": "code",
   "execution_count": 42,
   "metadata": {},
   "outputs": [
    {
     "data": {
      "text/plain": [
       "0.5895833333333333"
      ]
     },
     "execution_count": 42,
     "metadata": {},
     "output_type": "execute_result"
    }
   ],
   "source": [
    "clf.score(x_test,y_test)"
   ]
  },
  {
   "cell_type": "markdown",
   "metadata": {},
   "source": [
    "Great!! Our test score has improved after using Gridsearch."
   ]
  },
  {
   "cell_type": "markdown",
   "metadata": {},
   "source": [
    "Note : we must understand that giving all the hyperparameters in the gridSearch doesn't gurantee the best result. We have to do hit and trial with parameters to get the perfect score.\n",
    "\n",
    "You are welcome to try tweaking the parameters more and try an improve the accuracy more.\n",
    "\n",
    " Let's visualize the tree:\n"
   ]
  },
  {
   "cell_type": "code",
   "execution_count": 43,
   "metadata": {},
   "outputs": [
    {
     "ename": "InvocationException",
     "evalue": "GraphViz's executables not found",
     "output_type": "error",
     "traceback": [
      "\u001b[1;31m---------------------------------------------------------------------------\u001b[0m",
      "\u001b[1;31mInvocationException\u001b[0m                       Traceback (most recent call last)",
      "\u001b[1;32m<ipython-input-43-4223b198f735>\u001b[0m in \u001b[0;36m<module>\u001b[1;34m\u001b[0m\n\u001b[0;32m      7\u001b[0m \u001b[1;31m#graph.write_png(\"tree.png\")\u001b[0m\u001b[1;33m\u001b[0m\u001b[1;33m\u001b[0m\u001b[1;33m\u001b[0m\u001b[0m\n\u001b[0;32m      8\u001b[0m \u001b[1;31m# Show graph\u001b[0m\u001b[1;33m\u001b[0m\u001b[1;33m\u001b[0m\u001b[1;33m\u001b[0m\u001b[0m\n\u001b[1;32m----> 9\u001b[1;33m \u001b[0mImage\u001b[0m\u001b[1;33m(\u001b[0m\u001b[0mgraph\u001b[0m\u001b[1;33m.\u001b[0m\u001b[0mcreate_png\u001b[0m\u001b[1;33m(\u001b[0m\u001b[1;33m)\u001b[0m\u001b[1;33m)\u001b[0m\u001b[1;33m\u001b[0m\u001b[1;33m\u001b[0m\u001b[0m\n\u001b[0m",
      "\u001b[1;32mc:\\users\\lenovo\\.conda\\envs\\dtdemo\\lib\\site-packages\\pydotplus\\graphviz.py\u001b[0m in \u001b[0;36m<lambda>\u001b[1;34m(f, prog)\u001b[0m\n\u001b[0;32m   1795\u001b[0m             self.__setattr__(\n\u001b[0;32m   1796\u001b[0m                 \u001b[1;34m'create_'\u001b[0m \u001b[1;33m+\u001b[0m \u001b[0mfrmt\u001b[0m\u001b[1;33m,\u001b[0m\u001b[1;33m\u001b[0m\u001b[1;33m\u001b[0m\u001b[0m\n\u001b[1;32m-> 1797\u001b[1;33m                 \u001b[1;32mlambda\u001b[0m \u001b[0mf\u001b[0m\u001b[1;33m=\u001b[0m\u001b[0mfrmt\u001b[0m\u001b[1;33m,\u001b[0m \u001b[0mprog\u001b[0m\u001b[1;33m=\u001b[0m\u001b[0mself\u001b[0m\u001b[1;33m.\u001b[0m\u001b[0mprog\u001b[0m\u001b[1;33m:\u001b[0m \u001b[0mself\u001b[0m\u001b[1;33m.\u001b[0m\u001b[0mcreate\u001b[0m\u001b[1;33m(\u001b[0m\u001b[0mformat\u001b[0m\u001b[1;33m=\u001b[0m\u001b[0mf\u001b[0m\u001b[1;33m,\u001b[0m \u001b[0mprog\u001b[0m\u001b[1;33m=\u001b[0m\u001b[0mprog\u001b[0m\u001b[1;33m)\u001b[0m\u001b[1;33m\u001b[0m\u001b[1;33m\u001b[0m\u001b[0m\n\u001b[0m\u001b[0;32m   1798\u001b[0m             )\n\u001b[0;32m   1799\u001b[0m             \u001b[0mf\u001b[0m \u001b[1;33m=\u001b[0m \u001b[0mself\u001b[0m\u001b[1;33m.\u001b[0m\u001b[0m__dict__\u001b[0m\u001b[1;33m[\u001b[0m\u001b[1;34m'create_'\u001b[0m \u001b[1;33m+\u001b[0m \u001b[0mfrmt\u001b[0m\u001b[1;33m]\u001b[0m\u001b[1;33m\u001b[0m\u001b[1;33m\u001b[0m\u001b[0m\n",
      "\u001b[1;32mc:\\users\\lenovo\\.conda\\envs\\dtdemo\\lib\\site-packages\\pydotplus\\graphviz.py\u001b[0m in \u001b[0;36mcreate\u001b[1;34m(self, prog, format)\u001b[0m\n\u001b[0;32m   1958\u001b[0m             \u001b[1;32mif\u001b[0m \u001b[0mself\u001b[0m\u001b[1;33m.\u001b[0m\u001b[0mprogs\u001b[0m \u001b[1;32mis\u001b[0m \u001b[1;32mNone\u001b[0m\u001b[1;33m:\u001b[0m\u001b[1;33m\u001b[0m\u001b[1;33m\u001b[0m\u001b[0m\n\u001b[0;32m   1959\u001b[0m                 raise InvocationException(\n\u001b[1;32m-> 1960\u001b[1;33m                     'GraphViz\\'s executables not found')\n\u001b[0m\u001b[0;32m   1961\u001b[0m \u001b[1;33m\u001b[0m\u001b[0m\n\u001b[0;32m   1962\u001b[0m         \u001b[1;32mif\u001b[0m \u001b[0mprog\u001b[0m \u001b[1;32mnot\u001b[0m \u001b[1;32min\u001b[0m \u001b[0mself\u001b[0m\u001b[1;33m.\u001b[0m\u001b[0mprogs\u001b[0m\u001b[1;33m:\u001b[0m\u001b[1;33m\u001b[0m\u001b[1;33m\u001b[0m\u001b[0m\n",
      "\u001b[1;31mInvocationException\u001b[0m: GraphViz's executables not found"
     ]
    }
   ],
   "source": [
    "feature_name=list(X.columns)\n",
    "class_name = list(y_train.unique())\n",
    "# create a dot_file which stores the tree structure\n",
    "dot_data = export_graphviz(clf,rounded = True,filled = True)\n",
    "# Draw graph\n",
    "graph = pydotplus.graph_from_dot_data(dot_data)  \n",
    "#graph.write_png(\"tree.png\")\n",
    "# Show graph\n",
    "Image(graph.create_png())"
   ]
  },
  {
   "cell_type": "code",
   "execution_count": null,
   "metadata": {},
   "outputs": [],
   "source": [
    "tree.plot_tree(model,filled=True)\n",
    "tree,export_text(model)"
   ]
  },
  {
   "cell_type": "code",
   "execution_count": null,
   "metadata": {},
   "outputs": [],
   "source": [
    "# let's save the model\n",
    "import pickle\n",
    "\n",
    "with open('C://Users//user/iNeuron/Decision tree'+ '/modelForPrediction.sav', 'wb') as f:\n",
    "    pickle.dump(clf,f)\n",
    "    \n",
    "with open('C://Users//user/iNeuron/Decision tree'+ '/standardScalar.sav', 'wb') as f:\n",
    "    pickle.dump(scalar,f)\n",
    "\n",
    "with open('C://Users//user/iNeuron/Decision tree'+ '/pca_model.sav', 'wb') as f:\n",
    "    pickle.dump(pca,f)"
   ]
  },
  {
   "cell_type": "markdown",
   "metadata": {},
   "source": [
    "## Cloud  Deployment (Heroku)\n",
    "\n",
    "Once the training is completed, we need to expose the trained model as an API for the user to consume it. For prediction, the saved model is loaded first and then the predictions are made using it. If the web app works fine, the same app is deployed to the cloud platform. The application flow for cloud deployment looks like:\n",
    "\n",
    "<img src=\"testing_pipeline.PNG\" width= \"300\">\n"
   ]
  },
  {
   "cell_type": "markdown",
   "metadata": {},
   "source": [
    "### Pre-requisites for cloud deployment:\n",
    "* Basic knowledge of flask framework.\n",
    "* Any Python IDE installed(we are using PyCharm).\n",
    "* A Heroku account.\n",
    "* Basic understanding of HTML.\n"
   ]
  },
  {
   "cell_type": "markdown",
   "metadata": {},
   "source": [
    "### Steps before cloud deployment:\n",
    "\n",
    "We need to change our code a bit so that it works unhindered on the cloud, as well.\n",
    "\n",
    "* Add a file called ‘gitignore’ inside the project folder. This folder contains the list of the files which we don’t want to include in the git repository. My gitignore file looks like:\n",
    "\n",
    "     **.idea**\n",
    "\n",
    "As I am using PyCharm as an IDE, and it’s provided by the Intellij Idea community, it automatically adds the .idea folder containing some metadata. We need not include them in our cloud app.\n",
    "\n",
    "* Add a file called ‘Procfile’ inside the ‘reviewScrapper’ folder. This folder contains the command to run the flask application once deployed on the server:\n",
    "\n",
    "     **web: gunicorn app:app**\n",
    "\n",
    "Here, the keyword ‘web’ specifies that the application is a web application. And the part ‘app:app’ instructs the program to look for a flask application called ‘app’ inside the ‘app.py’ file. Gunicorn is a Web Server Gateway Interface (WSGI) HTTP server for Python.\n",
    "\n",
    "* Open a command prompt window and navigate to your ‘reviewScrapper’ folder. Enter the command ‘pip freeze > requirements.txt’. This command generates the ‘requirements.txt’ file\n",
    "\n",
    "The requirements.txt helps the Heroku cloud app to install all the dependencies before starting the webserver.\n",
    "\n"
   ]
  },
  {
   "cell_type": "markdown",
   "metadata": {},
   "source": [
    "After performing all the above steps the project structure will look like:\n",
    "\n",
    "#<img src=\"Decision_tree-deploy.PNG\" width=\"300\">"
   ]
  },
  {
   "cell_type": "markdown",
   "metadata": {},
   "source": [
    "### Deployment to Heroku:\n",
    "\n",
    "* After installing the Heroku CLI, Open a command prompt window and navigate to your project folder.\n",
    "* Type the command **heroku login** to login to your heroku account.\n",
    "* After logging in to Heroku, enter the command **heroku create** to create a heroku app. It will give you the URL of your Heroku app after successful creation. Or alternatively, you can go to the heroku website and create an app directly.\n",
    "* Before deploying the code to the Heroku cloud, we need to commit the changes to the git repository.\n",
    "* Type the command **git init** to initialize a local git repository.\n",
    "* Enter the command **git status** to see the uncommitted changes.\n",
    "* Enter the command **git add .** to add the uncommitted changes to the local repository.\n",
    "* Enter the command **git commit -am \"make it better\"** to commit the changes to the local repository.\n",
    "* Enter the command **git push heroku master** to push the code to the heroku cloud.\n",
    "* After deployment, heroku gives you the URL to hit the web API.\n",
    "* Once your application is deployed successfully, enter the command **heroku logs --tail** to see the logs.\n",
    "\n"
   ]
  },
  {
   "cell_type": "markdown",
   "metadata": {},
   "source": [
    "All the code is available in iNeuron git repo."
   ]
  },
  {
   "cell_type": "code",
   "execution_count": null,
   "metadata": {},
   "outputs": [],
   "source": []
  }
 ],
 "metadata": {
  "kernelspec": {
   "display_name": "Python 3",
   "language": "python",
   "name": "python3"
  },
  "language_info": {
   "codemirror_mode": {
    "name": "ipython",
    "version": 3
   },
   "file_extension": ".py",
   "mimetype": "text/x-python",
   "name": "python",
   "nbconvert_exporter": "python",
   "pygments_lexer": "ipython3",
   "version": "3.8.3"
  }
 },
 "nbformat": 4,
 "nbformat_minor": 4
}
